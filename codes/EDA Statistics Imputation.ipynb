{
 "cells": [
  {
   "cell_type": "code",
   "execution_count": 1,
   "metadata": {},
   "outputs": [],
   "source": [
    "import pandas as pd\n",
    "import numpy as np\n",
    "import seaborn as sns\n",
    "import matplotlib.pyplot as plt"
   ]
  },
  {
   "cell_type": "code",
   "execution_count": 2,
   "metadata": {},
   "outputs": [],
   "source": [
    "train=pd.read_csv('Train_Data_ET.csv')"
   ]
  },
  {
   "cell_type": "code",
   "execution_count": 3,
   "metadata": {},
   "outputs": [],
   "source": [
    "test=pd.read_csv('Test_Data_ET.csv')"
   ]
  },
  {
   "cell_type": "code",
   "execution_count": 4,
   "metadata": {},
   "outputs": [
    {
     "data": {
      "text/plain": [
       "((97616, 32), (41836, 31))"
      ]
     },
     "execution_count": 4,
     "metadata": {},
     "output_type": "execute_result"
    }
   ],
   "source": [
    "train.shape,test.shape"
   ]
  },
  {
   "cell_type": "code",
   "execution_count": 5,
   "metadata": {},
   "outputs": [
    {
     "data": {
      "text/html": [
       "<div>\n",
       "<style scoped>\n",
       "    .dataframe tbody tr th:only-of-type {\n",
       "        vertical-align: middle;\n",
       "    }\n",
       "\n",
       "    .dataframe tbody tr th {\n",
       "        vertical-align: top;\n",
       "    }\n",
       "\n",
       "    .dataframe thead th {\n",
       "        text-align: right;\n",
       "    }\n",
       "</style>\n",
       "<table border=\"1\" class=\"dataframe\">\n",
       "  <thead>\n",
       "    <tr style=\"text-align: right;\">\n",
       "      <th></th>\n",
       "      <th>ID</th>\n",
       "      <th>Age</th>\n",
       "      <th>Recently_upskilled</th>\n",
       "      <th>Region</th>\n",
       "      <th>RemoteWork</th>\n",
       "      <th>PercentSalaryIncrement</th>\n",
       "      <th>OfficeHours</th>\n",
       "      <th>StockOptionLevel</th>\n",
       "      <th>College_Tier</th>\n",
       "      <th>YearsSinceLastPromotion</th>\n",
       "      <th>...</th>\n",
       "      <th>Department</th>\n",
       "      <th>EnvironmentSatisfaction1</th>\n",
       "      <th>EnvironmentSatisfaction2</th>\n",
       "      <th>JobSatisfaction1</th>\n",
       "      <th>JobSatisfaction2</th>\n",
       "      <th>JobInvolvement1</th>\n",
       "      <th>JobInvolvement2</th>\n",
       "      <th>PerformanceRating1</th>\n",
       "      <th>PerformanceRating2</th>\n",
       "      <th>Employeeturnover</th>\n",
       "    </tr>\n",
       "  </thead>\n",
       "  <tbody>\n",
       "    <tr>\n",
       "      <th>0</th>\n",
       "      <td>45298</td>\n",
       "      <td>33</td>\n",
       "      <td>0</td>\n",
       "      <td>Chennai</td>\n",
       "      <td>0</td>\n",
       "      <td>15</td>\n",
       "      <td>9</td>\n",
       "      <td>1</td>\n",
       "      <td>Tier-3</td>\n",
       "      <td>1.0</td>\n",
       "      <td>...</td>\n",
       "      <td>Ops</td>\n",
       "      <td>NaN</td>\n",
       "      <td>3.0</td>\n",
       "      <td>4.0</td>\n",
       "      <td>2.0</td>\n",
       "      <td>2.0</td>\n",
       "      <td>2.0</td>\n",
       "      <td>2.0</td>\n",
       "      <td>3.0</td>\n",
       "      <td>0</td>\n",
       "    </tr>\n",
       "    <tr>\n",
       "      <th>1</th>\n",
       "      <td>172630</td>\n",
       "      <td>34</td>\n",
       "      <td>1</td>\n",
       "      <td>Delhi NCR</td>\n",
       "      <td>0</td>\n",
       "      <td>16</td>\n",
       "      <td>7</td>\n",
       "      <td>0</td>\n",
       "      <td>Tier-3</td>\n",
       "      <td>NaN</td>\n",
       "      <td>...</td>\n",
       "      <td>Finance</td>\n",
       "      <td>2.0</td>\n",
       "      <td>3.0</td>\n",
       "      <td>2.0</td>\n",
       "      <td>NaN</td>\n",
       "      <td>3.0</td>\n",
       "      <td>NaN</td>\n",
       "      <td>NaN</td>\n",
       "      <td>NaN</td>\n",
       "      <td>1</td>\n",
       "    </tr>\n",
       "    <tr>\n",
       "      <th>2</th>\n",
       "      <td>63754</td>\n",
       "      <td>33</td>\n",
       "      <td>1</td>\n",
       "      <td>Chennai</td>\n",
       "      <td>0</td>\n",
       "      <td>14</td>\n",
       "      <td>7</td>\n",
       "      <td>0</td>\n",
       "      <td>Tier-3</td>\n",
       "      <td>1.0</td>\n",
       "      <td>...</td>\n",
       "      <td>Sales</td>\n",
       "      <td>NaN</td>\n",
       "      <td>2.0</td>\n",
       "      <td>3.0</td>\n",
       "      <td>NaN</td>\n",
       "      <td>3.0</td>\n",
       "      <td>NaN</td>\n",
       "      <td>2.0</td>\n",
       "      <td>2.0</td>\n",
       "      <td>0</td>\n",
       "    </tr>\n",
       "    <tr>\n",
       "      <th>3</th>\n",
       "      <td>107105</td>\n",
       "      <td>38</td>\n",
       "      <td>0</td>\n",
       "      <td>Delhi NCR</td>\n",
       "      <td>0</td>\n",
       "      <td>10</td>\n",
       "      <td>7</td>\n",
       "      <td>1</td>\n",
       "      <td>Tier-3</td>\n",
       "      <td>NaN</td>\n",
       "      <td>...</td>\n",
       "      <td>Sales</td>\n",
       "      <td>4.0</td>\n",
       "      <td>4.0</td>\n",
       "      <td>2.0</td>\n",
       "      <td>NaN</td>\n",
       "      <td>NaN</td>\n",
       "      <td>2.0</td>\n",
       "      <td>3.0</td>\n",
       "      <td>NaN</td>\n",
       "      <td>0</td>\n",
       "    </tr>\n",
       "    <tr>\n",
       "      <th>4</th>\n",
       "      <td>173095</td>\n",
       "      <td>28</td>\n",
       "      <td>1</td>\n",
       "      <td>Hyderabad</td>\n",
       "      <td>0</td>\n",
       "      <td>16</td>\n",
       "      <td>7</td>\n",
       "      <td>0</td>\n",
       "      <td>Tier-3</td>\n",
       "      <td>0.0</td>\n",
       "      <td>...</td>\n",
       "      <td>Sales</td>\n",
       "      <td>1.0</td>\n",
       "      <td>2.0</td>\n",
       "      <td>4.0</td>\n",
       "      <td>NaN</td>\n",
       "      <td>3.0</td>\n",
       "      <td>NaN</td>\n",
       "      <td>3.0</td>\n",
       "      <td>4.0</td>\n",
       "      <td>1</td>\n",
       "    </tr>\n",
       "  </tbody>\n",
       "</table>\n",
       "<p>5 rows × 32 columns</p>\n",
       "</div>"
      ],
      "text/plain": [
       "       ID  Age  Recently_upskilled     Region  RemoteWork  \\\n",
       "0   45298   33                   0    Chennai           0   \n",
       "1  172630   34                   1  Delhi NCR           0   \n",
       "2   63754   33                   1    Chennai           0   \n",
       "3  107105   38                   0  Delhi NCR           0   \n",
       "4  173095   28                   1  Hyderabad           0   \n",
       "\n",
       "   PercentSalaryIncrement  OfficeHours  StockOptionLevel College_Tier  \\\n",
       "0                      15            9                 1       Tier-3   \n",
       "1                      16            7                 0       Tier-3   \n",
       "2                      14            7                 0       Tier-3   \n",
       "3                      10            7                 1       Tier-3   \n",
       "4                      16            7                 0       Tier-3   \n",
       "\n",
       "   YearsSinceLastPromotion  ... Department EnvironmentSatisfaction1  \\\n",
       "0                      1.0  ...        Ops                      NaN   \n",
       "1                      NaN  ...    Finance                      2.0   \n",
       "2                      1.0  ...      Sales                      NaN   \n",
       "3                      NaN  ...      Sales                      4.0   \n",
       "4                      0.0  ...      Sales                      1.0   \n",
       "\n",
       "   EnvironmentSatisfaction2 JobSatisfaction1  JobSatisfaction2  \\\n",
       "0                       3.0              4.0               2.0   \n",
       "1                       3.0              2.0               NaN   \n",
       "2                       2.0              3.0               NaN   \n",
       "3                       4.0              2.0               NaN   \n",
       "4                       2.0              4.0               NaN   \n",
       "\n",
       "   JobInvolvement1  JobInvolvement2  PerformanceRating1  PerformanceRating2  \\\n",
       "0              2.0              2.0                 2.0                 3.0   \n",
       "1              3.0              NaN                 NaN                 NaN   \n",
       "2              3.0              NaN                 2.0                 2.0   \n",
       "3              NaN              2.0                 3.0                 NaN   \n",
       "4              3.0              NaN                 3.0                 4.0   \n",
       "\n",
       "   Employeeturnover  \n",
       "0                 0  \n",
       "1                 1  \n",
       "2                 0  \n",
       "3                 0  \n",
       "4                 1  \n",
       "\n",
       "[5 rows x 32 columns]"
      ]
     },
     "execution_count": 5,
     "metadata": {},
     "output_type": "execute_result"
    }
   ],
   "source": [
    "train.head()"
   ]
  },
  {
   "cell_type": "code",
   "execution_count": 6,
   "metadata": {},
   "outputs": [
    {
     "data": {
      "text/html": [
       "<div>\n",
       "<style scoped>\n",
       "    .dataframe tbody tr th:only-of-type {\n",
       "        vertical-align: middle;\n",
       "    }\n",
       "\n",
       "    .dataframe tbody tr th {\n",
       "        vertical-align: top;\n",
       "    }\n",
       "\n",
       "    .dataframe thead th {\n",
       "        text-align: right;\n",
       "    }\n",
       "</style>\n",
       "<table border=\"1\" class=\"dataframe\">\n",
       "  <thead>\n",
       "    <tr style=\"text-align: right;\">\n",
       "      <th></th>\n",
       "      <th>ID</th>\n",
       "      <th>Age</th>\n",
       "      <th>Recently_upskilled</th>\n",
       "      <th>Region</th>\n",
       "      <th>RemoteWork</th>\n",
       "      <th>PercentSalaryIncrement</th>\n",
       "      <th>OfficeHours</th>\n",
       "      <th>StockOptionLevel</th>\n",
       "      <th>College_Tier</th>\n",
       "      <th>YearsSinceLastPromotion</th>\n",
       "      <th>...</th>\n",
       "      <th>TrainingTimesLastYear</th>\n",
       "      <th>Department</th>\n",
       "      <th>EnvironmentSatisfaction1</th>\n",
       "      <th>EnvironmentSatisfaction2</th>\n",
       "      <th>JobSatisfaction1</th>\n",
       "      <th>JobSatisfaction2</th>\n",
       "      <th>JobInvolvement1</th>\n",
       "      <th>JobInvolvement2</th>\n",
       "      <th>PerformanceRating1</th>\n",
       "      <th>PerformanceRating2</th>\n",
       "    </tr>\n",
       "  </thead>\n",
       "  <tbody>\n",
       "    <tr>\n",
       "      <th>0</th>\n",
       "      <td>142055</td>\n",
       "      <td>43</td>\n",
       "      <td>0</td>\n",
       "      <td>Bangalore</td>\n",
       "      <td>0</td>\n",
       "      <td>13</td>\n",
       "      <td>8</td>\n",
       "      <td>1</td>\n",
       "      <td>NaN</td>\n",
       "      <td>2.0</td>\n",
       "      <td>...</td>\n",
       "      <td>3</td>\n",
       "      <td>HR</td>\n",
       "      <td>4.0</td>\n",
       "      <td>2.0</td>\n",
       "      <td>4.0</td>\n",
       "      <td>4.0</td>\n",
       "      <td>NaN</td>\n",
       "      <td>3.0</td>\n",
       "      <td>4.0</td>\n",
       "      <td>4.0</td>\n",
       "    </tr>\n",
       "    <tr>\n",
       "      <th>1</th>\n",
       "      <td>44367</td>\n",
       "      <td>35</td>\n",
       "      <td>0</td>\n",
       "      <td>Hyderabad</td>\n",
       "      <td>0</td>\n",
       "      <td>26</td>\n",
       "      <td>8</td>\n",
       "      <td>2</td>\n",
       "      <td>Tier-1</td>\n",
       "      <td>2.0</td>\n",
       "      <td>...</td>\n",
       "      <td>3</td>\n",
       "      <td>Sales</td>\n",
       "      <td>4.0</td>\n",
       "      <td>3.0</td>\n",
       "      <td>3.0</td>\n",
       "      <td>3.0</td>\n",
       "      <td>4.0</td>\n",
       "      <td>4.0</td>\n",
       "      <td>4.0</td>\n",
       "      <td>3.0</td>\n",
       "    </tr>\n",
       "    <tr>\n",
       "      <th>2</th>\n",
       "      <td>124144</td>\n",
       "      <td>29</td>\n",
       "      <td>0</td>\n",
       "      <td>Bangalore</td>\n",
       "      <td>0</td>\n",
       "      <td>23</td>\n",
       "      <td>7</td>\n",
       "      <td>2</td>\n",
       "      <td>Tier-3</td>\n",
       "      <td>0.0</td>\n",
       "      <td>...</td>\n",
       "      <td>2</td>\n",
       "      <td>Sales</td>\n",
       "      <td>4.0</td>\n",
       "      <td>NaN</td>\n",
       "      <td>4.0</td>\n",
       "      <td>3.0</td>\n",
       "      <td>3.0</td>\n",
       "      <td>2.0</td>\n",
       "      <td>4.0</td>\n",
       "      <td>3.0</td>\n",
       "    </tr>\n",
       "    <tr>\n",
       "      <th>3</th>\n",
       "      <td>110431</td>\n",
       "      <td>37</td>\n",
       "      <td>0</td>\n",
       "      <td>Bangalore</td>\n",
       "      <td>0</td>\n",
       "      <td>12</td>\n",
       "      <td>8</td>\n",
       "      <td>1</td>\n",
       "      <td>Tier-2</td>\n",
       "      <td>NaN</td>\n",
       "      <td>...</td>\n",
       "      <td>0</td>\n",
       "      <td>HR</td>\n",
       "      <td>4.0</td>\n",
       "      <td>3.0</td>\n",
       "      <td>NaN</td>\n",
       "      <td>NaN</td>\n",
       "      <td>4.0</td>\n",
       "      <td>3.0</td>\n",
       "      <td>4.0</td>\n",
       "      <td>3.0</td>\n",
       "    </tr>\n",
       "    <tr>\n",
       "      <th>4</th>\n",
       "      <td>174576</td>\n",
       "      <td>23</td>\n",
       "      <td>0</td>\n",
       "      <td>Delhi NCR</td>\n",
       "      <td>0</td>\n",
       "      <td>23</td>\n",
       "      <td>8</td>\n",
       "      <td>1</td>\n",
       "      <td>Tier-3</td>\n",
       "      <td>1.0</td>\n",
       "      <td>...</td>\n",
       "      <td>2</td>\n",
       "      <td>Sales</td>\n",
       "      <td>4.0</td>\n",
       "      <td>4.0</td>\n",
       "      <td>4.0</td>\n",
       "      <td>2.0</td>\n",
       "      <td>4.0</td>\n",
       "      <td>2.0</td>\n",
       "      <td>3.0</td>\n",
       "      <td>3.0</td>\n",
       "    </tr>\n",
       "  </tbody>\n",
       "</table>\n",
       "<p>5 rows × 31 columns</p>\n",
       "</div>"
      ],
      "text/plain": [
       "       ID  Age  Recently_upskilled     Region  RemoteWork  \\\n",
       "0  142055   43                   0  Bangalore           0   \n",
       "1   44367   35                   0  Hyderabad           0   \n",
       "2  124144   29                   0  Bangalore           0   \n",
       "3  110431   37                   0  Bangalore           0   \n",
       "4  174576   23                   0  Delhi NCR           0   \n",
       "\n",
       "   PercentSalaryIncrement  OfficeHours  StockOptionLevel College_Tier  \\\n",
       "0                      13            8                 1          NaN   \n",
       "1                      26            8                 2       Tier-1   \n",
       "2                      23            7                 2       Tier-3   \n",
       "3                      12            8                 1       Tier-2   \n",
       "4                      23            8                 1       Tier-3   \n",
       "\n",
       "   YearsSinceLastPromotion  ... TrainingTimesLastYear Department  \\\n",
       "0                      2.0  ...                     3         HR   \n",
       "1                      2.0  ...                     3      Sales   \n",
       "2                      0.0  ...                     2      Sales   \n",
       "3                      NaN  ...                     0         HR   \n",
       "4                      1.0  ...                     2      Sales   \n",
       "\n",
       "   EnvironmentSatisfaction1 EnvironmentSatisfaction2  JobSatisfaction1  \\\n",
       "0                       4.0                      2.0               4.0   \n",
       "1                       4.0                      3.0               3.0   \n",
       "2                       4.0                      NaN               4.0   \n",
       "3                       4.0                      3.0               NaN   \n",
       "4                       4.0                      4.0               4.0   \n",
       "\n",
       "   JobSatisfaction2  JobInvolvement1  JobInvolvement2  PerformanceRating1  \\\n",
       "0               4.0              NaN              3.0                 4.0   \n",
       "1               3.0              4.0              4.0                 4.0   \n",
       "2               3.0              3.0              2.0                 4.0   \n",
       "3               NaN              4.0              3.0                 4.0   \n",
       "4               2.0              4.0              2.0                 3.0   \n",
       "\n",
       "   PerformanceRating2  \n",
       "0                 4.0  \n",
       "1                 3.0  \n",
       "2                 3.0  \n",
       "3                 3.0  \n",
       "4                 3.0  \n",
       "\n",
       "[5 rows x 31 columns]"
      ]
     },
     "execution_count": 6,
     "metadata": {},
     "output_type": "execute_result"
    }
   ],
   "source": [
    "test.head()"
   ]
  },
  {
   "cell_type": "code",
   "execution_count": 7,
   "metadata": {
    "scrolled": true
   },
   "outputs": [
    {
     "data": {
      "text/plain": [
       "ID                              0\n",
       "Age                             0\n",
       "Recently_upskilled              0\n",
       "Region                          0\n",
       "RemoteWork                      0\n",
       "PercentSalaryIncrement          0\n",
       "OfficeHours                     0\n",
       "StockOptionLevel                0\n",
       "College_Tier                 2906\n",
       "YearsSinceLastPromotion     16387\n",
       "HighestEducation                0\n",
       "BusinessTravel                  0\n",
       "JobLevel                        0\n",
       "MaritalStatus                   0\n",
       "TotalWorkExp                    0\n",
       "MonthlySalary                   0\n",
       "yof joining                     0\n",
       "YearsWithCurrManager            0\n",
       "DistanceFromHome                0\n",
       "NumCompaniesWorked           2872\n",
       "Gender                          0\n",
       "TrainingTimesLastYear           0\n",
       "Department                      0\n",
       "EnvironmentSatisfaction1     7086\n",
       "EnvironmentSatisfaction2     8507\n",
       "JobSatisfaction1             7086\n",
       "JobSatisfaction2             8569\n",
       "JobInvolvement1              7111\n",
       "JobInvolvement2              8546\n",
       "PerformanceRating1           7102\n",
       "PerformanceRating2           8536\n",
       "Employeeturnover                0\n",
       "dtype: int64"
      ]
     },
     "execution_count": 7,
     "metadata": {},
     "output_type": "execute_result"
    }
   ],
   "source": [
    "train.isna().sum()"
   ]
  },
  {
   "cell_type": "code",
   "execution_count": 8,
   "metadata": {},
   "outputs": [
    {
     "data": {
      "text/plain": [
       "ID                             0\n",
       "Age                            0\n",
       "Recently_upskilled             0\n",
       "Region                         0\n",
       "RemoteWork                     0\n",
       "PercentSalaryIncrement         0\n",
       "OfficeHours                    0\n",
       "StockOptionLevel               0\n",
       "College_Tier                1297\n",
       "YearsSinceLastPromotion     7009\n",
       "HighestEducation               0\n",
       "BusinessTravel                 0\n",
       "JobLevel                       0\n",
       "MaritalStatus                  0\n",
       "TotalWorkExp                   0\n",
       "MonthlySalary                  0\n",
       "yof joining                    0\n",
       "YearsWithCurrManager           0\n",
       "DistanceFromHome               0\n",
       "NumCompaniesWorked          1363\n",
       "Gender                         0\n",
       "TrainingTimesLastYear          0\n",
       "Department                     0\n",
       "EnvironmentSatisfaction1    2242\n",
       "EnvironmentSatisfaction2    6129\n",
       "JobSatisfaction1            2228\n",
       "JobSatisfaction2            6162\n",
       "JobInvolvement1             2250\n",
       "JobInvolvement2             6166\n",
       "PerformanceRating1          2196\n",
       "PerformanceRating2          6108\n",
       "dtype: int64"
      ]
     },
     "execution_count": 8,
     "metadata": {},
     "output_type": "execute_result"
    }
   ],
   "source": [
    "test.isna().sum()"
   ]
  },
  {
   "cell_type": "code",
   "execution_count": 9,
   "metadata": {},
   "outputs": [
    {
     "data": {
      "text/plain": [
       "0    78299\n",
       "1    19317\n",
       "Name: Employeeturnover, dtype: int64"
      ]
     },
     "execution_count": 9,
     "metadata": {},
     "output_type": "execute_result"
    }
   ],
   "source": [
    "train['Employeeturnover'].value_counts()"
   ]
  },
  {
   "cell_type": "code",
   "execution_count": 10,
   "metadata": {},
   "outputs": [
    {
     "name": "stdout",
     "output_type": "stream",
     "text": [
      "<class 'pandas.core.frame.DataFrame'>\n",
      "RangeIndex: 97616 entries, 0 to 97615\n",
      "Data columns (total 32 columns):\n",
      " #   Column                    Non-Null Count  Dtype  \n",
      "---  ------                    --------------  -----  \n",
      " 0   ID                        97616 non-null  int64  \n",
      " 1   Age                       97616 non-null  int64  \n",
      " 2   Recently_upskilled        97616 non-null  int64  \n",
      " 3   Region                    97616 non-null  object \n",
      " 4   RemoteWork                97616 non-null  int64  \n",
      " 5   PercentSalaryIncrement    97616 non-null  int64  \n",
      " 6   OfficeHours               97616 non-null  int64  \n",
      " 7   StockOptionLevel          97616 non-null  int64  \n",
      " 8   College_Tier              94710 non-null  object \n",
      " 9   YearsSinceLastPromotion   81229 non-null  float64\n",
      " 10  HighestEducation          97616 non-null  object \n",
      " 11  BusinessTravel            97616 non-null  object \n",
      " 12  JobLevel                  97616 non-null  int64  \n",
      " 13  MaritalStatus             97616 non-null  object \n",
      " 14  TotalWorkExp              97616 non-null  int64  \n",
      " 15  MonthlySalary             97616 non-null  int64  \n",
      " 16  yof joining               97616 non-null  int64  \n",
      " 17  YearsWithCurrManager      97616 non-null  int64  \n",
      " 18  DistanceFromHome          97616 non-null  int64  \n",
      " 19  NumCompaniesWorked        94744 non-null  float64\n",
      " 20  Gender                    97616 non-null  object \n",
      " 21  TrainingTimesLastYear     97616 non-null  int64  \n",
      " 22  Department                97616 non-null  object \n",
      " 23  EnvironmentSatisfaction1  90530 non-null  float64\n",
      " 24  EnvironmentSatisfaction2  89109 non-null  float64\n",
      " 25  JobSatisfaction1          90530 non-null  float64\n",
      " 26  JobSatisfaction2          89047 non-null  float64\n",
      " 27  JobInvolvement1           90505 non-null  float64\n",
      " 28  JobInvolvement2           89070 non-null  float64\n",
      " 29  PerformanceRating1        90514 non-null  float64\n",
      " 30  PerformanceRating2        89080 non-null  float64\n",
      " 31  Employeeturnover          97616 non-null  int64  \n",
      "dtypes: float64(10), int64(15), object(7)\n",
      "memory usage: 23.8+ MB\n"
     ]
    }
   ],
   "source": [
    "train.info()"
   ]
  },
  {
   "cell_type": "markdown",
   "metadata": {},
   "source": [
    "## EDA"
   ]
  },
  {
   "cell_type": "code",
   "execution_count": 11,
   "metadata": {},
   "outputs": [
    {
     "name": "stdout",
     "output_type": "stream",
     "text": [
      "\n",
      "\n",
      "----------------------- Recently_upskilled --------------------------------\n",
      "TRAIN SET\n",
      "0    79.704147\n",
      "1    20.295853\n",
      "Name: Recently_upskilled, dtype: float64\n",
      "TEST SET\n",
      "0    79.744717\n",
      "1    20.255283\n",
      "Name: Recently_upskilled, dtype: float64\n",
      "\n",
      "\n",
      "----------------------- Region --------------------------------\n",
      "TRAIN SET\n",
      "Hyderabad    26.130962\n",
      "Delhi NCR    26.083839\n",
      "Bangalore    25.049172\n",
      "Chennai      22.736027\n",
      "Name: Region, dtype: float64\n",
      "TEST SET\n",
      "Hyderabad    26.395927\n",
      "Delhi NCR    26.051726\n",
      "Bangalore    24.801606\n",
      "Chennai      22.750741\n",
      "Name: Region, dtype: float64\n",
      "\n",
      "\n",
      "----------------------- RemoteWork --------------------------------\n",
      "TRAIN SET\n",
      "0    98.426487\n",
      "1     1.573513\n",
      "Name: RemoteWork, dtype: float64\n",
      "TEST SET\n",
      "0    98.367435\n",
      "1     1.632565\n",
      "Name: RemoteWork, dtype: float64\n",
      "\n",
      "\n",
      "----------------------- PercentSalaryIncrement --------------------------------\n",
      "TRAIN SET\n",
      "13    13.823554\n",
      "14    12.697713\n",
      "12    11.959105\n",
      "15    10.975660\n",
      "16     8.650221\n",
      "11     7.343059\n",
      "17     6.870800\n",
      "18     6.252049\n",
      "19     5.135429\n",
      "20     3.920464\n",
      "21     3.105024\n",
      "10     2.960580\n",
      "22     2.677840\n",
      "23     1.793763\n",
      "24     0.971152\n",
      "25     0.595189\n",
      "26     0.238690\n",
      "27     0.029708\n",
      "Name: PercentSalaryIncrement, dtype: float64\n",
      "TEST SET\n",
      "13    13.930586\n",
      "14    12.658954\n",
      "12    11.932307\n",
      "15    10.875801\n",
      "16     8.559614\n",
      "11     7.452911\n",
      "17     7.005928\n",
      "18     6.052204\n",
      "19     5.258629\n",
      "20     3.953533\n",
      "21     3.136055\n",
      "10     2.863562\n",
      "22     2.689072\n",
      "23     1.783153\n",
      "24     1.037384\n",
      "25     0.521082\n",
      "26     0.248590\n",
      "27     0.040635\n",
      "Name: PercentSalaryIncrement, dtype: float64\n",
      "\n",
      "\n",
      "----------------------- OfficeHours --------------------------------\n",
      "TRAIN SET\n",
      "7    47.246353\n",
      "8    41.986969\n",
      "9    10.766678\n",
      "Name: OfficeHours, dtype: float64\n",
      "TEST SET\n",
      "7    47.255952\n",
      "8    41.844345\n",
      "9    10.899704\n",
      "Name: OfficeHours, dtype: float64\n",
      "\n",
      "\n",
      "----------------------- StockOptionLevel --------------------------------\n",
      "TRAIN SET\n",
      "0    48.640592\n",
      "1    38.081872\n",
      "2     9.276143\n",
      "3     4.001393\n",
      "Name: StockOptionLevel, dtype: float64\n",
      "TEST SET\n",
      "0    48.639927\n",
      "1    38.230232\n",
      "2     9.224113\n",
      "3     3.905727\n",
      "Name: StockOptionLevel, dtype: float64\n",
      "\n",
      "\n",
      "----------------------- College_Tier --------------------------------\n",
      "TRAIN SET\n",
      "Tier-3    66.478856\n",
      "Tier-2    17.064825\n",
      "Tier-1    13.479348\n",
      "Name: College_Tier, dtype: float64\n",
      "TEST SET\n",
      "Tier-3    66.552730\n",
      "Tier-2    16.928005\n",
      "Tier-1    13.419065\n",
      "Name: College_Tier, dtype: float64\n",
      "\n",
      "\n",
      "----------------------- YearsSinceLastPromotion --------------------------------\n",
      "TRAIN SET\n",
      "0.0    34.320193\n",
      "1.0    26.128913\n",
      "2.0     8.780323\n",
      "3.0     3.798558\n",
      "4.0     3.550647\n",
      "7.0     2.528274\n",
      "6.0     1.774299\n",
      "5.0     1.712834\n",
      "8.0     0.618751\n",
      "Name: YearsSinceLastPromotion, dtype: float64\n",
      "TEST SET\n",
      "0.0    33.994646\n",
      "1.0    27.407018\n",
      "2.0     7.524620\n",
      "3.0     3.826848\n",
      "4.0     3.733627\n",
      "7.0     2.569557\n",
      "6.0     1.809446\n",
      "5.0     1.721006\n",
      "8.0     0.659719\n",
      "Name: YearsSinceLastPromotion, dtype: float64\n",
      "\n",
      "\n",
      "----------------------- HighestEducation --------------------------------\n",
      "TRAIN SET\n",
      "B.Tech    51.008031\n",
      "MBA       22.364162\n",
      "BA        16.111088\n",
      "BBA        3.462547\n",
      "MCA        2.710621\n",
      "CFA        2.099041\n",
      "CA         1.672881\n",
      "Mtech      0.571628\n",
      "Name: HighestEducation, dtype: float64\n",
      "TEST SET\n",
      "B.Tech    50.714695\n",
      "MBA       22.310928\n",
      "BA        16.024477\n",
      "BBA        3.535233\n",
      "MCA        2.849221\n",
      "CFA        2.258820\n",
      "CA         1.787934\n",
      "Mtech      0.518692\n",
      "Name: HighestEducation, dtype: float64\n",
      "\n",
      "\n",
      "----------------------- BusinessTravel --------------------------------\n",
      "TRAIN SET\n",
      "None          70.661572\n",
      "Frequently    20.257950\n",
      "Sometimes      9.080479\n",
      "Name: BusinessTravel, dtype: float64\n",
      "TEST SET\n",
      "None          70.955636\n",
      "Frequently    20.068840\n",
      "Sometimes      8.975523\n",
      "Name: BusinessTravel, dtype: float64\n",
      "\n",
      "\n",
      "----------------------- JobLevel --------------------------------\n",
      "TRAIN SET\n",
      "1    68.964104\n",
      "2    18.949762\n",
      "4     5.111867\n",
      "3     3.578307\n",
      "5     3.395960\n",
      "Name: JobLevel, dtype: float64\n",
      "TEST SET\n",
      "1    69.442585\n",
      "2    18.407592\n",
      "4     5.050674\n",
      "3     3.669089\n",
      "5     3.430060\n",
      "Name: JobLevel, dtype: float64\n",
      "\n",
      "\n",
      "----------------------- MaritalStatus --------------------------------\n",
      "TRAIN SET\n",
      "Married     44.327774\n",
      "Single      37.543026\n",
      "Divorced    18.129200\n",
      "Name: MaritalStatus, dtype: float64\n",
      "TEST SET\n",
      "Married     44.203557\n",
      "Single      37.878860\n",
      "Divorced    17.917583\n",
      "Name: MaritalStatus, dtype: float64\n",
      "\n",
      "\n",
      "----------------------- YearsWithCurrManager --------------------------------\n",
      "TRAIN SET\n",
      "0     22.485043\n",
      "1     16.955212\n",
      "2     13.748771\n",
      "3      9.622398\n",
      "6      8.018153\n",
      "7      6.968120\n",
      "4      6.510203\n",
      "8      4.834248\n",
      "5      4.249303\n",
      "9      2.512908\n",
      "10     1.284625\n",
      "11     0.939395\n",
      "12     0.721193\n",
      "13     0.394403\n",
      "15     0.243812\n",
      "14     0.229471\n",
      "17     0.138297\n",
      "16     0.118833\n",
      "18     0.025611\n",
      "Name: YearsWithCurrManager, dtype: float64\n",
      "TEST SET\n",
      "0     22.406540\n",
      "1     16.937566\n",
      "2     13.744144\n",
      "3      9.389043\n",
      "6      8.045702\n",
      "7      7.072856\n",
      "4      6.721484\n",
      "8      4.730376\n",
      "5      4.082608\n",
      "9      2.765561\n",
      "10     1.297925\n",
      "11     0.917870\n",
      "12     0.669280\n",
      "13     0.430251\n",
      "15     0.286834\n",
      "14     0.265322\n",
      "17     0.121905\n",
      "16     0.088441\n",
      "18     0.026293\n",
      "Name: YearsWithCurrManager, dtype: float64\n",
      "\n",
      "\n",
      "----------------------- NumCompaniesWorked --------------------------------\n",
      "TRAIN SET\n",
      "1.0     49.045238\n",
      "2.0     12.368874\n",
      "3.0      8.541633\n",
      "4.0      6.912801\n",
      "5.0      6.006188\n",
      "6.0      4.216522\n",
      "7.0      3.687920\n",
      "8.0      3.368300\n",
      "9.0      1.832691\n",
      "10.0     1.077692\n",
      "Name: NumCompaniesWorked, dtype: float64\n",
      "TEST SET\n",
      "1.0     45.893489\n",
      "2.0     14.026198\n",
      "3.0      8.944450\n",
      "4.0      7.058514\n",
      "5.0      6.138254\n",
      "6.0      4.271441\n",
      "7.0      3.900947\n",
      "8.0      3.456353\n",
      "9.0      2.029353\n",
      "10.0     1.023042\n",
      "Name: NumCompaniesWorked, dtype: float64\n",
      "\n",
      "\n",
      "----------------------- Gender --------------------------------\n",
      "TRAIN SET\n",
      "Male      61.030979\n",
      "Female    38.969021\n",
      "Name: Gender, dtype: float64\n",
      "TEST SET\n",
      "Male      60.746725\n",
      "Female    39.253275\n",
      "Name: Gender, dtype: float64\n",
      "\n",
      "\n",
      "----------------------- TrainingTimesLastYear --------------------------------\n",
      "TRAIN SET\n",
      "2    36.079126\n",
      "1    30.032986\n",
      "3    14.633871\n",
      "4     7.595066\n",
      "0     7.067489\n",
      "5     3.830315\n",
      "6     0.761146\n",
      "Name: TrainingTimesLastYear, dtype: float64\n",
      "TEST SET\n",
      "2    35.842337\n",
      "1    30.397266\n",
      "3    14.571183\n",
      "4     7.510278\n",
      "0     7.168467\n",
      "5     3.798164\n",
      "6     0.712305\n",
      "Name: TrainingTimesLastYear, dtype: float64\n",
      "\n",
      "\n",
      "----------------------- Department --------------------------------\n",
      "TRAIN SET\n",
      "Sales        60.617112\n",
      "Ops          28.067120\n",
      "Finance       4.651901\n",
      "HR            4.144812\n",
      "Analytics     2.519054\n",
      "Name: Department, dtype: float64\n",
      "TEST SET\n",
      "Sales        60.228033\n",
      "Ops          28.267521\n",
      "Finance       4.852280\n",
      "HR            4.101731\n",
      "Analytics     2.550435\n",
      "Name: Department, dtype: float64\n",
      "\n",
      "\n",
      "----------------------- EnvironmentSatisfaction1 --------------------------------\n",
      "TRAIN SET\n",
      "3.0    28.073267\n",
      "4.0    28.049705\n",
      "2.0    25.744755\n",
      "1.0    10.873218\n",
      "Name: EnvironmentSatisfaction1, dtype: float64\n",
      "TEST SET\n",
      "3.0    31.750167\n",
      "4.0    31.346209\n",
      "2.0    28.171909\n",
      "1.0     3.372693\n",
      "Name: EnvironmentSatisfaction1, dtype: float64\n",
      "\n",
      "\n",
      "----------------------- EnvironmentSatisfaction2 --------------------------------\n",
      "TRAIN SET\n",
      "4.0    28.821095\n",
      "3.0    28.387764\n",
      "2.0    26.181159\n",
      "1.0     7.895222\n",
      "Name: EnvironmentSatisfaction2, dtype: float64\n",
      "TEST SET\n",
      "3.0    29.594129\n",
      "4.0    29.484176\n",
      "2.0    26.018262\n",
      "1.0     0.253370\n",
      "Name: EnvironmentSatisfaction2, dtype: float64\n",
      "\n",
      "\n",
      "----------------------- JobSatisfaction1 --------------------------------\n",
      "TRAIN SET\n",
      "3.0    28.530159\n",
      "4.0    28.303762\n",
      "2.0    26.009056\n",
      "1.0     9.897968\n",
      "Name: JobSatisfaction1, dtype: float64\n",
      "TEST SET\n",
      "3.0    32.639354\n",
      "4.0    32.383593\n",
      "2.0    28.461134\n",
      "1.0     1.190362\n",
      "Name: JobSatisfaction1, dtype: float64\n",
      "\n",
      "\n",
      "----------------------- JobSatisfaction2 --------------------------------\n",
      "TRAIN SET\n",
      "3.0    28.624406\n",
      "4.0    28.521964\n",
      "2.0    26.239551\n",
      "1.0     7.835806\n",
      "Name: JobSatisfaction2, dtype: float64\n",
      "TEST SET\n",
      "3.0    29.450712\n",
      "4.0    28.929630\n",
      "2.0    25.774453\n",
      "1.0     1.116264\n",
      "Name: JobSatisfaction2, dtype: float64\n",
      "\n",
      "\n",
      "----------------------- JobInvolvement1 --------------------------------\n",
      "TRAIN SET\n",
      "3.0    28.328348\n",
      "4.0    28.132683\n",
      "2.0    26.305114\n",
      "1.0     9.949189\n",
      "Name: JobInvolvement1, dtype: float64\n",
      "TEST SET\n",
      "3.0    35.376231\n",
      "4.0    35.034420\n",
      "2.0    20.231380\n",
      "1.0     3.979826\n",
      "Name: JobInvolvement1, dtype: float64\n",
      "\n",
      "\n",
      "----------------------- JobInvolvement2 --------------------------------\n",
      "TRAIN SET\n",
      "4.0    28.641821\n",
      "3.0    28.486109\n",
      "2.0    26.205745\n",
      "1.0     7.911613\n",
      "Name: JobInvolvement2, dtype: float64\n",
      "TEST SET\n",
      "4.0    33.241706\n",
      "3.0    32.653695\n",
      "2.0    18.130318\n",
      "1.0     1.235778\n",
      "Name: JobInvolvement2, dtype: float64\n",
      "\n",
      "\n",
      "----------------------- PerformanceRating1 --------------------------------\n",
      "TRAIN SET\n",
      "3.0    40.199353\n",
      "4.0    40.189108\n",
      "2.0    12.336092\n",
      "Name: PerformanceRating1, dtype: float64\n",
      "TEST SET\n",
      "3.0    44.184434\n",
      "4.0    43.909552\n",
      "2.0     6.656946\n",
      "Name: PerformanceRating1, dtype: float64\n",
      "\n",
      "\n",
      "----------------------- PerformanceRating2 --------------------------------\n",
      "TRAIN SET\n",
      "4.0    38.901410\n",
      "3.0    38.689354\n",
      "2.0    13.664768\n",
      "Name: PerformanceRating2, dtype: float64\n",
      "TEST SET\n",
      "3.0    42.915193\n",
      "4.0    42.484941\n",
      "Name: PerformanceRating2, dtype: float64\n"
     ]
    }
   ],
   "source": [
    "for i in train[['Recently_upskilled', 'Region', 'RemoteWork','PercentSalaryIncrement', 'OfficeHours', 'StockOptionLevel',\n",
    "       'College_Tier', 'YearsSinceLastPromotion', 'HighestEducation',\n",
    "       'BusinessTravel', 'JobLevel', 'MaritalStatus','YearsWithCurrManager','NumCompaniesWorked', 'Gender',\n",
    "       'TrainingTimesLastYear', 'Department', 'EnvironmentSatisfaction1','EnvironmentSatisfaction2', 'JobSatisfaction1', \n",
    "                'JobSatisfaction2','JobInvolvement1', 'JobInvolvement2', 'PerformanceRating1','PerformanceRating2']]:\n",
    "    print('\\n\\n-----------------------',i,'--------------------------------')\n",
    "    print('TRAIN SET')\n",
    "    print(train[i].value_counts()/train.shape[0]*100)\n",
    "    print('TEST SET')\n",
    "    print(test[i].value_counts()/test.shape[0]*100)"
   ]
  },
  {
   "cell_type": "code",
   "execution_count": 12,
   "metadata": {},
   "outputs": [
    {
     "data": {
      "image/png": "[encoded data removed]",
      "text/plain": [
       "<Figure size 1152x1440 with 10 Axes>"
      ]
     },
     "metadata": {
      "needs_background": "light"
     },
     "output_type": "display_data"
    }
   ],
   "source": [
    "plt.figure(figsize=(16,20))\n",
    "j=0\n",
    "for i in ['Age', 'TotalWorkExp', 'MonthlySalary', 'yof joining',\n",
    "       'DistanceFromHome']:\n",
    "    j=j+1\n",
    "    plt.subplot(5,2,j)\n",
    "    train[i].hist()\n",
    "    plt.xlabel(i)\n",
    "    j=j+1\n",
    "    plt.subplot(5,2,j)\n",
    "    test[i].hist()\n",
    "    plt.xlabel(i)"
   ]
  },
  {
   "cell_type": "code",
   "execution_count": null,
   "metadata": {},
   "outputs": [],
   "source": []
  },
  {
   "cell_type": "code",
   "execution_count": 13,
   "metadata": {},
   "outputs": [],
   "source": [
    "train['yof joining']=2020-train['yof joining']"
   ]
  },
  {
   "cell_type": "code",
   "execution_count": 14,
   "metadata": {},
   "outputs": [],
   "source": [
    "test['yof joining']=2020-test['yof joining']"
   ]
  },
  {
   "cell_type": "code",
   "execution_count": 15,
   "metadata": {
    "scrolled": true
   },
   "outputs": [
    {
     "data": {
      "image/png": "[encoded data removed]",
      "text/plain": [
       "<Figure size 1152x1008 with 5 Axes>"
      ]
     },
     "metadata": {
      "needs_background": "light"
     },
     "output_type": "display_data"
    }
   ],
   "source": [
    "plt.figure(figsize=(16,14))\n",
    "j=0\n",
    "for i in ['Age', 'TotalWorkExp', 'MonthlySalary', 'yof joining',\n",
    "       'DistanceFromHome']:\n",
    "    j=j+1\n",
    "    plt.subplot(3,2,j)\n",
    "    sns.distplot(train[train['Employeeturnover']==0][i],label='NOTCHURN')\n",
    "    sns.distplot(train[train['Employeeturnover']==1][i],label='CHURN')\n",
    "    plt.legend()"
   ]
  },
  {
   "cell_type": "markdown",
   "metadata": {},
   "source": [
    "##### Inference From the above plot:\n",
    "    Age: \n",
    "        Younger age group has more chances of churn\n",
    "    TotalWorkExp:\n",
    "        Employee with less work Experience have more probablity to churn\n",
    "    yof Joining:\n",
    "        New Employee less than 5 y has more chances of churn\n",
    "    MonthlySalary:\n",
    "        Employees with low salary has more chances of churn"
   ]
  },
  {
   "cell_type": "code",
   "execution_count": 16,
   "metadata": {},
   "outputs": [
    {
     "name": "stdout",
     "output_type": "stream",
     "text": [
      "\n",
      "\n",
      "----------------------- Recently_upskilled --------------------------------\n",
      "Employeeturnover        0      1     %0     %1\n",
      "Recently_upskilled                            \n",
      "0                   66273  11531  85.18  14.82\n",
      "1                   12026   7786  60.70  39.30\n",
      "\n",
      "\n",
      "----------------------- Region --------------------------------\n",
      "Employeeturnover      0     1     %0     %1\n",
      "Region                                     \n",
      "Bangalore         19741  4711  80.73  19.27\n",
      "Chennai           18512  3682  83.41  16.59\n",
      "Delhi NCR         20090  5372  78.90  21.10\n",
      "Hyderabad         19956  5552  78.23  21.77\n",
      "\n",
      "\n",
      "----------------------- RemoteWork --------------------------------\n",
      "Employeeturnover      0      1     %0     %1\n",
      "RemoteWork                                  \n",
      "0                 76921  19159  80.06  19.94\n",
      "1                  1378    158  89.71  10.29\n",
      "\n",
      "\n",
      "----------------------- PercentSalaryIncrement --------------------------------\n",
      "Employeeturnover            0     1     %0     %1\n",
      "PercentSalaryIncrement                           \n",
      "10                       2316   574  80.14  19.86\n",
      "11                       5756  1412  80.30  19.70\n",
      "12                       9464  2210  81.07  18.93\n",
      "13                      10961  2533  81.23  18.77\n",
      "14                       9815  2580  79.19  20.81\n",
      "15                       8537  2177  79.68  20.32\n",
      "16                       6705  1739  79.41  20.59\n",
      "17                       5355  1352  79.84  20.16\n",
      "18                       4970  1133  81.44  18.56\n",
      "19                       4103   910  81.85  18.15\n",
      "20                       3077   750  80.40  19.60\n",
      "21                       2462   569  81.23  18.77\n",
      "22                       2005   609  76.70  23.30\n",
      "23                       1345   406  76.81  23.19\n",
      "24                        783   165  82.59  17.41\n",
      "25                        426   155  73.32  26.68\n",
      "26                        193    40  82.83  17.17\n",
      "27                         26     3  89.66  10.34\n",
      "\n",
      "\n",
      "----------------------- OfficeHours --------------------------------\n",
      "Employeeturnover      0      1     %0     %1\n",
      "OfficeHours                                 \n",
      "7                 35450  10670  76.86  23.14\n",
      "8                 34060   6926  83.10  16.90\n",
      "9                  8789   1721  83.63  16.37\n",
      "\n",
      "\n",
      "----------------------- StockOptionLevel --------------------------------\n",
      "Employeeturnover      0     1     %0     %1\n",
      "StockOptionLevel                           \n",
      "0                 37712  9769  79.43  20.57\n",
      "1                 30197  6977  81.23  18.77\n",
      "2                  7183  1872  79.33  20.67\n",
      "3                  3207   699  82.10  17.90\n",
      "\n",
      "\n",
      "----------------------- College_Tier --------------------------------\n",
      "Employeeturnover      0      1     %0     %1\n",
      "College_Tier                                \n",
      "Tier-1            10947   2211  83.20  16.80\n",
      "Tier-2            13571   3087  81.47  18.53\n",
      "Tier-3            51481  13413  79.33  20.67\n",
      "\n",
      "\n",
      "----------------------- YearsSinceLastPromotion --------------------------------\n",
      "Employeeturnover             0     1      %0     %1\n",
      "YearsSinceLastPromotion                            \n",
      "0.0                      25692  7810   76.69  23.31\n",
      "1.0                      20975  4531   82.24  17.76\n",
      "2.0                       7044  1527   82.18  17.82\n",
      "3.0                       2915   793   78.61  21.39\n",
      "4.0                       3102   364   89.50  10.50\n",
      "5.0                       1532   140   91.63   8.37\n",
      "6.0                       1431   301   82.62  17.38\n",
      "7.0                       1893   575   76.70  23.30\n",
      "8.0                        604     0  100.00   0.00\n",
      "\n",
      "\n",
      "----------------------- HighestEducation --------------------------------\n",
      "Employeeturnover      0      1     %0     %1\n",
      "HighestEducation                            \n",
      "B.Tech            39574  10218  79.48  20.52\n",
      "BA                12889   2838  81.95  18.05\n",
      "BBA                2950    430  87.28  12.72\n",
      "CA                 1003    630  61.42  38.58\n",
      "CFA                1490    559  72.72  27.28\n",
      "MBA               17552   4279  80.40  19.60\n",
      "MCA                2305    341  87.11  12.89\n",
      "Mtech               536     22  96.06   3.94\n",
      "\n",
      "\n",
      "----------------------- BusinessTravel --------------------------------\n",
      "Employeeturnover      0      1     %0     %1\n",
      "BusinessTravel                              \n",
      "Frequently        14346   5429  72.55  27.45\n",
      "None              56001  12976  81.19  18.81\n",
      "Sometimes          7952    912  89.71  10.29\n",
      "\n",
      "\n",
      "----------------------- JobLevel --------------------------------\n",
      "Employeeturnover      0      1     %0     %1\n",
      "JobLevel                                    \n",
      "1                 53510  13810  79.49  20.51\n",
      "2                 15079   3419  81.52  18.48\n",
      "3                  3008    485  86.12  13.88\n",
      "4                  3868   1122  77.52  22.48\n",
      "5                  2834    481  85.49  14.51\n",
      "\n",
      "\n",
      "----------------------- MaritalStatus --------------------------------\n",
      "Employeeturnover      0      1     %0     %1\n",
      "MaritalStatus                               \n",
      "Divorced          16686   1011  94.29   5.71\n",
      "Married           36277   6994  83.84  16.16\n",
      "Single            25336  11312  69.13  30.87\n",
      "\n",
      "\n",
      "----------------------- YearsWithCurrManager --------------------------------\n",
      "Employeeturnover          0     1      %0     %1\n",
      "YearsWithCurrManager                            \n",
      "0                     14604  7345   66.54  33.46\n",
      "1                     13081  3470   79.03  20.97\n",
      "2                     11070  2351   82.48  17.52\n",
      "3                      7878  1515   83.87  16.13\n",
      "4                      5432   923   85.48  14.52\n",
      "5                      3553   595   85.66  14.34\n",
      "6                      6612  1215   84.48  15.52\n",
      "7                      5903   899   86.78  13.22\n",
      "8                      4262   457   90.32   9.68\n",
      "9                      2213   240   90.22   9.78\n",
      "10                     1097   157   87.48  12.52\n",
      "11                      876    41   95.53   4.47\n",
      "12                      699     5   99.29   0.71\n",
      "13                      333    52   86.49  13.51\n",
      "14                      189    35   84.38  15.62\n",
      "15                      221    17   92.86   7.14\n",
      "16                      116     0  100.00   0.00\n",
      "17                      135     0  100.00   0.00\n",
      "18                       25     0  100.00   0.00\n",
      "\n",
      "\n",
      "----------------------- NumCompaniesWorked --------------------------------\n",
      "Employeeturnover        0     1     %0     %1\n",
      "NumCompaniesWorked                           \n",
      "1.0                 38589  9287  80.60  19.40\n",
      "2.0                  9535  2539  78.97  21.03\n",
      "3.0                  7099  1239  85.14  14.86\n",
      "4.0                  5620  1128  83.28  16.72\n",
      "5.0                  4566  1297  77.88  22.12\n",
      "6.0                  2928  1188  71.14  28.86\n",
      "7.0                  2832   768  78.67  21.33\n",
      "8.0                  2634   654  80.11  19.89\n",
      "9.0                  1380   409  77.14  22.86\n",
      "10.0                  830   222  78.90  21.10\n",
      "\n",
      "\n",
      "----------------------- Gender --------------------------------\n",
      "Employeeturnover      0      1     %0     %1\n",
      "Gender                                      \n",
      "Female            30945   7095  81.35  18.65\n",
      "Male              47354  12222  79.49  20.51\n",
      "\n",
      "\n",
      "----------------------- TrainingTimesLastYear --------------------------------\n",
      "Employeeturnover           0     1     %0     %1\n",
      "TrainingTimesLastYear                           \n",
      "0                       5459  1440  79.13  20.87\n",
      "1                      22897  6420  78.10  21.90\n",
      "2                      27763  7456  78.83  21.17\n",
      "3                      12023  2262  84.17  15.83\n",
      "4                       6013  1401  81.10  18.90\n",
      "5                       3418   321  91.41   8.59\n",
      "6                        726    17  97.71   2.29\n",
      "\n",
      "\n",
      "----------------------- Department --------------------------------\n",
      "Employeeturnover      0      1     %0     %1\n",
      "Department                                  \n",
      "Analytics          2031    428  82.59  17.41\n",
      "Finance            3024   1517  66.59  33.41\n",
      "HR                 3507    539  86.68  13.32\n",
      "Ops               22406   4992  81.78  18.22\n",
      "Sales             47331  11841  79.99  20.01\n"
     ]
    }
   ],
   "source": [
    "for i in train[['Recently_upskilled', 'Region', 'RemoteWork','PercentSalaryIncrement', 'OfficeHours', 'StockOptionLevel',\n",
    "       'College_Tier', 'YearsSinceLastPromotion', 'HighestEducation',\n",
    "       'BusinessTravel', 'JobLevel', 'MaritalStatus','YearsWithCurrManager','NumCompaniesWorked', 'Gender',\n",
    "       'TrainingTimesLastYear', 'Department',]]:\n",
    "    print('\\n\\n-----------------------',i,'--------------------------------')\n",
    "    ct=pd.crosstab(train[i],train['Employeeturnover'])\n",
    "    ct['%0']=np.round(ct[0]/(ct[0]+ct[1])*100,2)\n",
    "    ct['%1']=np.round(ct[1]/(ct[0]+ct[1])*100,2)\n",
    "    print(ct)"
   ]
  },
  {
   "cell_type": "markdown",
   "metadata": {},
   "source": [
    "##### Inference:\n",
    "    Recently Upskilled:\n",
    "        Candidates who has upskilled recently has more chances to churn\n",
    "    Office Hours:\n",
    "        Candidates around 7 office hours inc has more chances to churn\n",
    "    College Tier:\n",
    "        Candidates with tier 3 college has more chances of churn\n",
    "    Highest Education:\n",
    "        Candidates with Highest Education CA has curned more\n",
    "    Business Travel:\n",
    "        Candidates with frequent business travel has churned more\n",
    "    Gender: \n",
    "        Males has more chances of churn\n",
    "    Marital Status:\n",
    "        Singles has more chances of churn\n",
    "    "
   ]
  },
  {
   "cell_type": "code",
   "execution_count": 17,
   "metadata": {
    "scrolled": true
   },
   "outputs": [
    {
     "data": {
      "text/plain": [
       "<Figure size 1152x2160 with 0 Axes>"
      ]
     },
     "metadata": {},
     "output_type": "display_data"
    },
    {
     "data": {
      "image/png": "[encoded data removed]",
      "text/plain": [
       "<Figure size 432x288 with 1 Axes>"
      ]
     },
     "metadata": {
      "needs_background": "light"
     },
     "output_type": "display_data"
    },
    {
     "data": {
      "image/png": "[encoded data removed]",
      "text/plain": [
       "<Figure size 432x288 with 1 Axes>"
      ]
     },
     "metadata": {
      "needs_background": "light"
     },
     "output_type": "display_data"
    },
    {
     "data": {
      "image/png": "[encoded data removed]",
      "text/plain": [
       "<Figure size 432x288 with 1 Axes>"
      ]
     },
     "metadata": {
      "needs_background": "light"
     },
     "output_type": "display_data"
    },
    {
     "data": {
      "image/png": "[encoded data removed]",
      "text/plain": [
       "<Figure size 432x288 with 1 Axes>"
      ]
     },
     "metadata": {
      "needs_background": "light"
     },
     "output_type": "display_data"
    },
    {
     "data": {
      "image/png": "[encoded data removed]",
      "text/plain": [
       "<Figure size 432x288 with 1 Axes>"
      ]
     },
     "metadata": {
      "needs_background": "light"
     },
     "output_type": "display_data"
    },
    {
     "data": {
      "image/png": "[encoded data removed]",
      "text/plain": [
       "<Figure size 432x288 with 1 Axes>"
      ]
     },
     "metadata": {
      "needs_background": "light"
     },
     "output_type": "display_data"
    },
    {
     "data": {
      "image/png": "[encoded data removed]",
      "text/plain": [
       "<Figure size 432x288 with 1 Axes>"
      ]
     },
     "metadata": {
      "needs_background": "light"
     },
     "output_type": "display_data"
    },
    {
     "data": {
      "image/png": "[encoded data removed]",
      "text/plain": [
       "<Figure size 432x288 with 1 Axes>"
      ]
     },
     "metadata": {
      "needs_background": "light"
     },
     "output_type": "display_data"
    },
    {
     "data": {
      "image/png": "[encoded data removed]",
      "text/plain": [
       "<Figure size 432x288 with 1 Axes>"
      ]
     },
     "metadata": {
      "needs_background": "light"
     },
     "output_type": "display_data"
    },
    {
     "data": {
      "image/png": "[encoded data removed]",
      "text/plain": [
       "<Figure size 432x288 with 1 Axes>"
      ]
     },
     "metadata": {
      "needs_background": "light"
     },
     "output_type": "display_data"
    },
    {
     "data": {
      "image/png": "[encoded data removed]",
      "text/plain": [
       "<Figure size 432x288 with 1 Axes>"
      ]
     },
     "metadata": {
      "needs_background": "light"
     },
     "output_type": "display_data"
    },
    {
     "data": {
      "image/png": "[encoded data removed]",
      "text/plain": [
       "<Figure size 432x288 with 1 Axes>"
      ]
     },
     "metadata": {
      "needs_background": "light"
     },
     "output_type": "display_data"
    },
    {
     "data": {
      "image/png": "[encoded data removed]",
      "text/plain": [
       "<Figure size 432x288 with 1 Axes>"
      ]
     },
     "metadata": {
      "needs_background": "light"
     },
     "output_type": "display_data"
    },
    {
     "data": {
      "image/png": "[encoded data removed]",
      "text/plain": [
       "<Figure size 432x288 with 1 Axes>"
      ]
     },
     "metadata": {
      "needs_background": "light"
     },
     "output_type": "display_data"
    },
    {
     "data": {
      "image/png": "[encoded data removed]",
      "text/plain": [
       "<Figure size 432x288 with 1 Axes>"
      ]
     },
     "metadata": {
      "needs_background": "light"
     },
     "output_type": "display_data"
    },
    {
     "data": {
      "image/png": "[encoded data removed]",
      "text/plain": [
       "<Figure size 432x288 with 1 Axes>"
      ]
     },
     "metadata": {
      "needs_background": "light"
     },
     "output_type": "display_data"
    },
    {
     "data": {
      "image/png": "[encoded data removed]",
      "text/plain": [
       "<Figure size 432x288 with 1 Axes>"
      ]
     },
     "metadata": {
      "needs_background": "light"
     },
     "output_type": "display_data"
    }
   ],
   "source": [
    "\n",
    "plt.figure(figsize=(16,30))\n",
    "for i in train[['Recently_upskilled', 'Region', 'RemoteWork','PercentSalaryIncrement', 'OfficeHours', 'StockOptionLevel',\n",
    "       'College_Tier', 'YearsSinceLastPromotion', 'HighestEducation',\n",
    "       'BusinessTravel', 'JobLevel', 'MaritalStatus','YearsWithCurrManager','NumCompaniesWorked', 'Gender',\n",
    "       'TrainingTimesLastYear', 'Department', ]]:\n",
    "\n",
    "    pd.crosstab(train[i],train['Employeeturnover']).plot(kind='bar')"
   ]
  },
  {
   "cell_type": "code",
   "execution_count": 18,
   "metadata": {
    "scrolled": true
   },
   "outputs": [
    {
     "data": {
      "text/plain": [
       "<Figure size 1152x2160 with 0 Axes>"
      ]
     },
     "metadata": {},
     "output_type": "display_data"
    },
    {
     "data": {
      "image/png": "[encoded data removed]",
      "text/plain": [
       "<Figure size 432x288 with 1 Axes>"
      ]
     },
     "metadata": {
      "needs_background": "light"
     },
     "output_type": "display_data"
    },
    {
     "data": {
      "image/png": "[encoded data removed]",
      "text/plain": [
       "<Figure size 432x288 with 1 Axes>"
      ]
     },
     "metadata": {
      "needs_background": "light"
     },
     "output_type": "display_data"
    },
    {
     "data": {
      "image/png": "[encoded data removed]",
      "text/plain": [
       "<Figure size 432x288 with 1 Axes>"
      ]
     },
     "metadata": {
      "needs_background": "light"
     },
     "output_type": "display_data"
    },
    {
     "data": {
      "image/png": "[encoded data removed]",
      "text/plain": [
       "<Figure size 432x288 with 1 Axes>"
      ]
     },
     "metadata": {
      "needs_background": "light"
     },
     "output_type": "display_data"
    },
    {
     "data": {
      "image/png": "[encoded data removed]",
      "text/plain": [
       "<Figure size 432x288 with 1 Axes>"
      ]
     },
     "metadata": {
      "needs_background": "light"
     },
     "output_type": "display_data"
    },
    {
     "data": {
      "image/png": "[encoded data removed]",
      "text/plain": [
       "<Figure size 432x288 with 1 Axes>"
      ]
     },
     "metadata": {
      "needs_background": "light"
     },
     "output_type": "display_data"
    },
    {
     "data": {
      "image/png": "[encoded data removed]",
      "text/plain": [
       "<Figure size 432x288 with 1 Axes>"
      ]
     },
     "metadata": {
      "needs_background": "light"
     },
     "output_type": "display_data"
    },
    {
     "data": {
      "image/png": "[encoded data removed]",
      "text/plain": [
       "<Figure size 432x288 with 1 Axes>"
      ]
     },
     "metadata": {
      "needs_background": "light"
     },
     "output_type": "display_data"
    }
   ],
   "source": [
    "plt.figure(figsize=(16,30))\n",
    "for i in train[['EnvironmentSatisfaction1','EnvironmentSatisfaction2', 'JobSatisfaction1', \n",
    "                'JobSatisfaction2','JobInvolvement1', 'JobInvolvement2', 'PerformanceRating1','PerformanceRating2']]:\n",
    "    pd.crosstab(train[i],train['Employeeturnover']).plot(kind='bar',stacked=False)"
   ]
  },
  {
   "cell_type": "markdown",
   "metadata": {},
   "source": [
    "## Statistical Test"
   ]
  },
  {
   "cell_type": "code",
   "execution_count": 19,
   "metadata": {},
   "outputs": [],
   "source": [
    "import scipy.stats as stats\n",
    "from statsmodels.stats.proportion import proportions_ztest"
   ]
  },
  {
   "cell_type": "code",
   "execution_count": 20,
   "metadata": {},
   "outputs": [
    {
     "name": "stdout",
     "output_type": "stream",
     "text": [
      "\n",
      "\n",
      "------------------ Region ------------------\n",
      "Statistics || Pvalue || Critical stats\n",
      "237.57683552903086 3.180565706879048e-51 7.814727903251178\n",
      "SIGNIFICANT\n",
      "\n",
      "\n",
      "------------------ PercentSalaryIncrement ------------------\n",
      "Statistics || Pvalue || Critical stats\n",
      "101.10179977622711 5.557459815717685e-14 27.587111638275335\n",
      "SIGNIFICANT\n",
      "\n",
      "\n",
      "------------------ OfficeHours ------------------\n",
      "Statistics || Pvalue || Critical stats\n",
      "618.2863099623195 5.505967879829525e-135 5.991464547107983\n",
      "SIGNIFICANT\n",
      "\n",
      "\n",
      "------------------ StockOptionLevel ------------------\n",
      "Statistics || Pvalue || Critical stats\n",
      "56.13637218472494 3.928651037163169e-12 7.814727903251178\n",
      "SIGNIFICANT\n",
      "\n",
      "\n",
      "------------------ College_Tier ------------------\n",
      "Statistics || Pvalue || Critical stats\n",
      "122.23517507394597 2.86397343585832e-27 5.991464547107983\n",
      "SIGNIFICANT\n",
      "\n",
      "\n",
      "------------------ YearsSinceLastPromotion ------------------\n",
      "Statistics || Pvalue || Critical stats\n",
      "856.1724236737252 1.5995946211856678e-179 15.507313055865454\n",
      "SIGNIFICANT\n",
      "\n",
      "\n",
      "------------------ HighestEducation ------------------\n",
      "Statistics || Pvalue || Critical stats\n",
      "757.1807784024445 3.2136645073087154e-159 14.067140449340167\n",
      "SIGNIFICANT\n",
      "\n",
      "\n",
      "------------------ BusinessTravel ------------------\n",
      "Statistics || Pvalue || Critical stats\n",
      "1277.4177336242526 4.0950914133506396e-278 5.991464547107983\n",
      "SIGNIFICANT\n",
      "\n",
      "\n",
      "------------------ JobLevel ------------------\n",
      "Statistics || Pvalue || Critical stats\n",
      "199.93035482949813 3.889078228593802e-42 9.487729036781158\n",
      "SIGNIFICANT\n",
      "\n",
      "\n",
      "------------------ MaritalStatus ------------------\n",
      "Statistics || Pvalue || Critical stats\n",
      "5400.7523668912645 0.0 5.991464547107983\n",
      "SIGNIFICANT\n",
      "\n",
      "\n",
      "------------------ YearsWithCurrManager ------------------\n",
      "Statistics || Pvalue || Critical stats\n",
      "4087.6206911284457 0.0 28.869299430392637\n",
      "SIGNIFICANT\n",
      "\n",
      "\n",
      "------------------ NumCompaniesWorked ------------------\n",
      "Statistics || Pvalue || Critical stats\n",
      "435.1985051037385 4.178413290303568e-88 16.91897760462045\n",
      "SIGNIFICANT\n",
      "\n",
      "\n",
      "------------------ TrainingTimesLastYear ------------------\n",
      "Statistics || Pvalue || Critical stats\n",
      "713.1335946532007 8.926788832812947e-151 12.59158724374398\n",
      "SIGNIFICANT\n",
      "\n",
      "\n",
      "------------------ Department ------------------\n",
      "Statistics || Pvalue || Critical stats\n",
      "690.2557028610782 4.4886435533891924e-148 9.487729036781158\n",
      "SIGNIFICANT\n",
      "\n",
      "\n",
      "------------------ EnvironmentSatisfaction1 ------------------\n",
      "Statistics || Pvalue || Critical stats\n",
      "2209.6742457881214 0.0 7.814727903251178\n",
      "SIGNIFICANT\n",
      "\n",
      "\n",
      "------------------ EnvironmentSatisfaction2 ------------------\n",
      "Statistics || Pvalue || Critical stats\n",
      "51.421148496300354 3.978896430575487e-11 7.814727903251178\n",
      "SIGNIFICANT\n",
      "\n",
      "\n",
      "------------------ JobSatisfaction1 ------------------\n",
      "Statistics || Pvalue || Critical stats\n",
      "697.1079622466701 8.894900521184685e-151 7.814727903251178\n",
      "SIGNIFICANT\n",
      "\n",
      "\n",
      "------------------ JobSatisfaction2 ------------------\n",
      "Statistics || Pvalue || Critical stats\n",
      "68.58720773643623 8.565203771254995e-15 7.814727903251178\n",
      "SIGNIFICANT\n",
      "\n",
      "\n",
      "------------------ JobInvolvement1 ------------------\n",
      "Statistics || Pvalue || Critical stats\n",
      "1067.6407796163387 3.813372469313897e-231 7.814727903251178\n",
      "SIGNIFICANT\n",
      "\n",
      "\n",
      "------------------ JobInvolvement2 ------------------\n",
      "Statistics || Pvalue || Critical stats\n",
      "50.24949387409616 7.069120057256713e-11 7.814727903251178\n",
      "SIGNIFICANT\n",
      "\n",
      "\n",
      "------------------ PerformanceRating1 ------------------\n",
      "Statistics || Pvalue || Critical stats\n",
      "3013.498008741006 0.0 5.991464547107983\n",
      "SIGNIFICANT\n",
      "\n",
      "\n",
      "------------------ PerformanceRating2 ------------------\n",
      "Statistics || Pvalue || Critical stats\n",
      "2167.3770306534043 0.0 5.991464547107983\n",
      "SIGNIFICANT\n",
      "\n",
      "\n",
      "------------------ Recently_upskilled ------------------\n",
      "Employeeturnover        0      1\n",
      "Recently_upskilled              \n",
      "0                   66273  11531\n",
      "1                   12026   7786 \n",
      "\n",
      "Statistics || Pvalue \n",
      "-77.20910302993869 0.0\n",
      "SIGNIFICANT\n",
      "\n",
      "\n",
      "------------------ RemoteWork ------------------\n",
      "Employeeturnover      0      1\n",
      "RemoteWork                    \n",
      "0                 76921  19159\n",
      "1                  1378    158 \n",
      "\n",
      "Statistics || Pvalue \n",
      "9.421969136184206 4.427063781335381e-21\n",
      "SIGNIFICANT\n",
      "\n",
      "\n",
      "------------------ Gender ------------------\n",
      "Employeeturnover      0      1\n",
      "Gender                        \n",
      "Female            30945   7095\n",
      "Male              47354  12222 \n",
      "\n",
      "Statistics || Pvalue \n",
      "-7.127056625858701 1.0253791663270538e-12\n",
      "SIGNIFICANT\n",
      "\n",
      "\n",
      "------------------ Age ------------------\n",
      "Statistics || Pvalue \n",
      "-48.88424673008944 0.0\n",
      "SIGNIFICANT\n",
      "\n",
      "\n",
      "------------------ MonthlySalary ------------------\n",
      "Statistics || Pvalue \n",
      "-7.319137066144912 2.514793434548213e-13\n",
      "SIGNIFICANT\n",
      "\n",
      "\n",
      "------------------ yof joining ------------------\n",
      "Statistics || Pvalue \n",
      "-32.82469693563982 5.034258600004582e-235\n",
      "SIGNIFICANT\n",
      "\n",
      "\n",
      "------------------ DistanceFromHome ------------------\n",
      "Statistics || Pvalue \n",
      "-4.768279500185577 1.8607332736355967e-06\n",
      "SIGNIFICANT\n",
      "\n",
      "\n",
      "------------------ TotalWorkExp ------------------\n",
      "Statistics || Pvalue \n",
      "-48.74668501140527 0.0\n",
      "SIGNIFICANT\n"
     ]
    }
   ],
   "source": [
    "feature=[]\n",
    "\n",
    "for i in train[[ 'Region','PercentSalaryIncrement', 'OfficeHours', 'StockOptionLevel',\n",
    "       'College_Tier', 'YearsSinceLastPromotion', 'HighestEducation',\n",
    "       'BusinessTravel', 'JobLevel', 'MaritalStatus','YearsWithCurrManager','NumCompaniesWorked',\n",
    "       'TrainingTimesLastYear', 'Department','EnvironmentSatisfaction1','EnvironmentSatisfaction2', 'JobSatisfaction1', \n",
    "                'JobSatisfaction2','JobInvolvement1', 'JobInvolvement2', 'PerformanceRating1','PerformanceRating2']]:\n",
    "    print('\\n\\n------------------',i,'------------------')\n",
    "    stat,pval,df,exp_arr=stats.chi2_contingency(pd.crosstab(train[i],train['Employeeturnover']))\n",
    "    crit=stats.chi2.isf(0.05,df)\n",
    "    if np.abs(stat)>np.abs(crit) and pval<0.05:\n",
    "        print('Statistics || Pvalue || Critical stats')\n",
    "        print(stat,pval,crit)\n",
    "        print('SIGNIFICANT')\n",
    "        feature.append(i)\n",
    "    else:\n",
    "        print('Statistics || Pvalue || Critical stats')\n",
    "        print(stat,val,crit)\n",
    "        print('NOTSIGNIFICANT')\n",
    "\n",
    "for i in ['Recently_upskilled', 'RemoteWork', 'Gender']:\n",
    "    print('\\n\\n------------------',i,'------------------')\n",
    "    ct=pd.crosstab(train[i],train['Employeeturnover'])\n",
    "    print(ct,'\\n')\n",
    "    ct['s']=ct[0]+ct[1]\n",
    "    stat,pval=proportions_ztest(ct[1],ct['s'])\n",
    "    if np.abs(stat)>1.96 and pval<0.05:\n",
    "        print('Statistics || Pvalue ')\n",
    "        print(stat,pval)\n",
    "        print('SIGNIFICANT')\n",
    "        feature.append(i)\n",
    "    else:\n",
    "        print('Statistics || Pvalue ')\n",
    "        print(stat,pval)\n",
    "        print('NOTSIGNIFICANT')\n",
    "\n",
    "for i in ['Age','MonthlySalary','yof joining','DistanceFromHome','TotalWorkExp']:\n",
    "    n1=train[train['Employeeturnover']==1][i]\n",
    "    n0=train[train['Employeeturnover']==0][i]\n",
    "    print('\\n\\n------------------',i,'------------------')\n",
    "    stat,pval=stats.ttest_ind(n1,n0)\n",
    "    if np.abs(stat)>1.96 and pval<0.05:\n",
    "        print('Statistics || Pvalue ')\n",
    "        print(stat,pval)\n",
    "        print('SIGNIFICANT')\n",
    "        feature.append(i)\n",
    "    else:\n",
    "        print('Statistics || Pvalue ')\n",
    "        print(stat,pval)\n",
    "        print('NOTSIGNIFICANT')"
   ]
  },
  {
   "cell_type": "code",
   "execution_count": 21,
   "metadata": {},
   "outputs": [
    {
     "name": "stdout",
     "output_type": "stream",
     "text": [
      "['Region', 'PercentSalaryIncrement', 'OfficeHours', 'StockOptionLevel', 'College_Tier', 'YearsSinceLastPromotion', 'HighestEducation', 'BusinessTravel', 'JobLevel', 'MaritalStatus', 'YearsWithCurrManager', 'NumCompaniesWorked', 'TrainingTimesLastYear', 'Department', 'EnvironmentSatisfaction1', 'EnvironmentSatisfaction2', 'JobSatisfaction1', 'JobSatisfaction2', 'JobInvolvement1', 'JobInvolvement2', 'PerformanceRating1', 'PerformanceRating2', 'Recently_upskilled', 'RemoteWork', 'Gender', 'Age', 'MonthlySalary', 'yof joining', 'DistanceFromHome', 'TotalWorkExp']\n"
     ]
    }
   ],
   "source": [
    "#Significant Features from statistical testing\n",
    "# all the features are important\n",
    "print(feature)"
   ]
  },
  {
   "cell_type": "code",
   "execution_count": 22,
   "metadata": {},
   "outputs": [
    {
     "name": "stdout",
     "output_type": "stream",
     "text": [
      "Index(['ID', 'Employeeturnover'], dtype='object')\n"
     ]
    }
   ],
   "source": [
    "#non significant features\n",
    "print(train.drop(feature,axis=1).columns)"
   ]
  },
  {
   "cell_type": "code",
   "execution_count": null,
   "metadata": {},
   "outputs": [],
   "source": []
  },
  {
   "cell_type": "code",
   "execution_count": 23,
   "metadata": {},
   "outputs": [],
   "source": [
    "train[['Recently_upskilled', 'Region', 'RemoteWork','PercentSalaryIncrement', 'OfficeHours', 'StockOptionLevel',\n",
    "       'College_Tier', 'YearsSinceLastPromotion', 'HighestEducation',\n",
    "       'BusinessTravel', 'JobLevel', 'MaritalStatus','YearsWithCurrManager','NumCompaniesWorked', 'Gender',\n",
    "       'TrainingTimesLastYear', 'Department','EnvironmentSatisfaction1',\n",
    "       'EnvironmentSatisfaction2', 'JobSatisfaction1', 'JobSatisfaction2',\n",
    "       'JobInvolvement1', 'JobInvolvement2', 'PerformanceRating1',\n",
    "       'PerformanceRating2', 'Employeeturnover']]=train[['Recently_upskilled', 'Region', 'RemoteWork','PercentSalaryIncrement', 'OfficeHours', 'StockOptionLevel',\n",
    "       'College_Tier', 'YearsSinceLastPromotion', 'HighestEducation',\n",
    "       'BusinessTravel', 'JobLevel', 'MaritalStatus','YearsWithCurrManager','NumCompaniesWorked', 'Gender',\n",
    "       'TrainingTimesLastYear', 'Department','EnvironmentSatisfaction1',\n",
    "       'EnvironmentSatisfaction2', 'JobSatisfaction1', 'JobSatisfaction2',\n",
    "       'JobInvolvement1', 'JobInvolvement2', 'PerformanceRating1',\n",
    "       'PerformanceRating2', 'Employeeturnover']].astype('object')"
   ]
  },
  {
   "cell_type": "code",
   "execution_count": 24,
   "metadata": {},
   "outputs": [],
   "source": [
    "test[['Recently_upskilled', 'Region', 'RemoteWork','PercentSalaryIncrement', 'OfficeHours', 'StockOptionLevel',\n",
    "       'College_Tier', 'YearsSinceLastPromotion', 'HighestEducation',\n",
    "       'BusinessTravel', 'JobLevel', 'MaritalStatus','YearsWithCurrManager','NumCompaniesWorked', 'Gender',\n",
    "       'TrainingTimesLastYear', 'Department','EnvironmentSatisfaction1',\n",
    "       'EnvironmentSatisfaction2', 'JobSatisfaction1', 'JobSatisfaction2',\n",
    "       'JobInvolvement1', 'JobInvolvement2', 'PerformanceRating1',\n",
    "       'PerformanceRating2']]=test[['Recently_upskilled', 'Region', 'RemoteWork','PercentSalaryIncrement', 'OfficeHours', 'StockOptionLevel',\n",
    "       'College_Tier', 'YearsSinceLastPromotion', 'HighestEducation',\n",
    "       'BusinessTravel', 'JobLevel', 'MaritalStatus','YearsWithCurrManager','NumCompaniesWorked', 'Gender',\n",
    "       'TrainingTimesLastYear', 'Department','EnvironmentSatisfaction1',\n",
    "       'EnvironmentSatisfaction2', 'JobSatisfaction1', 'JobSatisfaction2',\n",
    "       'JobInvolvement1', 'JobInvolvement2', 'PerformanceRating1',\n",
    "       'PerformanceRating2']].astype('object')"
   ]
  },
  {
   "cell_type": "markdown",
   "metadata": {},
   "source": [
    "## Imputation"
   ]
  },
  {
   "cell_type": "code",
   "execution_count": 25,
   "metadata": {},
   "outputs": [],
   "source": [
    "from sklearn.preprocessing import LabelEncoder,StandardScaler\n",
    "le=LabelEncoder()\n",
    "ss=StandardScaler()\n",
    "from sklearn.impute import KNNImputer\n"
   ]
  },
  {
   "cell_type": "code",
   "execution_count": 26,
   "metadata": {},
   "outputs": [],
   "source": [
    "#importing null values with median"
   ]
  },
  {
   "cell_type": "code",
   "execution_count": 27,
   "metadata": {},
   "outputs": [],
   "source": [
    "X0=train.drop('ID',axis=1).copy(deep=True)"
   ]
  },
  {
   "cell_type": "code",
   "execution_count": 28,
   "metadata": {},
   "outputs": [],
   "source": [
    "for i in ['Region', 'College_Tier', 'HighestEducation','BusinessTravel','MaritalStatus', 'Gender','Department']:\n",
    "    X0[i]=le.fit_transform(X0[i])"
   ]
  },
  {
   "cell_type": "code",
   "execution_count": 29,
   "metadata": {},
   "outputs": [
    {
     "data": {
      "text/plain": [
       "Age                 0.442330\n",
       "MonthlySalary       1.393678\n",
       "yof joining         2.013084\n",
       "DistanceFromHome    0.994063\n",
       "TotalWorkExp        1.211364\n",
       "dtype: float64"
      ]
     },
     "execution_count": 29,
     "metadata": {},
     "output_type": "execute_result"
    }
   ],
   "source": [
    "X0[['Age','MonthlySalary','yof joining','DistanceFromHome','TotalWorkExp']].skew()"
   ]
  },
  {
   "cell_type": "code",
   "execution_count": 30,
   "metadata": {},
   "outputs": [
    {
     "data": {
      "text/plain": [
       "Age                -0.155728\n",
       "MonthlySalary       0.287770\n",
       "yof joining         0.051439\n",
       "DistanceFromHome   -0.288751\n",
       "TotalWorkExp             NaN\n",
       "dtype: float64"
      ]
     },
     "execution_count": 30,
     "metadata": {},
     "output_type": "execute_result"
    }
   ],
   "source": [
    "np.log(X0[['Age','MonthlySalary','yof joining','DistanceFromHome','TotalWorkExp']]).skew()"
   ]
  },
  {
   "cell_type": "code",
   "execution_count": 31,
   "metadata": {},
   "outputs": [
    {
     "data": {
      "text/plain": [
       "Age                 0.053205\n",
       "MonthlySalary       0.686432\n",
       "yof joining         0.639678\n",
       "DistanceFromHome    0.168365\n",
       "TotalWorkExp       -0.682275\n",
       "dtype: float64"
      ]
     },
     "execution_count": 31,
     "metadata": {},
     "output_type": "execute_result"
    }
   ],
   "source": [
    "np.cbrt(X0[['Age','MonthlySalary','yof joining','DistanceFromHome','TotalWorkExp']]).skew()"
   ]
  },
  {
   "cell_type": "code",
   "execution_count": 32,
   "metadata": {},
   "outputs": [
    {
     "data": {
      "text/plain": [
       "Age                 0.153802\n",
       "MonthlySalary       0.875289\n",
       "yof joining         0.958636\n",
       "DistanceFromHome    0.392931\n",
       "TotalWorkExp        0.142190\n",
       "dtype: float64"
      ]
     },
     "execution_count": 32,
     "metadata": {},
     "output_type": "execute_result"
    }
   ],
   "source": [
    "np.sqrt(X0[['Age','MonthlySalary','yof joining','DistanceFromHome','TotalWorkExp']]).skew()"
   ]
  },
  {
   "cell_type": "code",
   "execution_count": 33,
   "metadata": {},
   "outputs": [],
   "source": [
    "X0[['MonthlySalary','yof joining']]=np.log(X0[['MonthlySalary','yof joining']])\n",
    "X0[['Age','DistanceFromHome']]=np.cbrt(X0[['Age','DistanceFromHome']])\n",
    "X0[['TotalWorkExp']]=np.cbrt(X0[['TotalWorkExp']])"
   ]
  },
  {
   "cell_type": "code",
   "execution_count": null,
   "metadata": {},
   "outputs": [],
   "source": [
    "impute=KNNImputer(missing_values=np.nan)\n",
    "X0[X0.columns]=impute.fit_transform(X0)"
   ]
  },
  {
   "cell_type": "code",
   "execution_count": null,
   "metadata": {},
   "outputs": [],
   "source": [
    "train[['College_Tier','YearsSinceLastPromotion','NumCompaniesWorked','EnvironmentSatisfaction1','EnvironmentSatisfaction2', 'JobSatisfaction1', \n",
    "                'JobSatisfaction2','JobInvolvement1', 'JobInvolvement2', 'PerformanceRating1','PerformanceRating2']]=np.round(X0[['College_Tier','YearsSinceLastPromotion','NumCompaniesWorked','EnvironmentSatisfaction1','EnvironmentSatisfaction2', 'JobSatisfaction1', \n",
    "                'JobSatisfaction2','JobInvolvement1', 'JobInvolvement2', 'PerformanceRating1','PerformanceRating2']])"
   ]
  },
  {
   "cell_type": "code",
   "execution_count": null,
   "metadata": {},
   "outputs": [],
   "source": [
    "train.to_csv('train_imputed.csv')"
   ]
  },
  {
   "cell_type": "code",
   "execution_count": null,
   "metadata": {},
   "outputs": [],
   "source": []
  },
  {
   "cell_type": "code",
   "execution_count": null,
   "metadata": {},
   "outputs": [],
   "source": [
    "X01=test.copy(deep=True)"
   ]
  },
  {
   "cell_type": "code",
   "execution_count": null,
   "metadata": {},
   "outputs": [],
   "source": [
    "for i in ['Region', 'College_Tier', 'HighestEducation','BusinessTravel','MaritalStatus', 'Gender','Department']:\n",
    "    X01[i]=le.fit_transform(X01[i])"
   ]
  },
  {
   "cell_type": "code",
   "execution_count": null,
   "metadata": {},
   "outputs": [],
   "source": [
    "X01[['Age','MonthlySalary','yof joining','DistanceFromHome','TotalWorkExp']].skew()"
   ]
  },
  {
   "cell_type": "code",
   "execution_count": null,
   "metadata": {},
   "outputs": [],
   "source": [
    "np.log(X01[['Age','MonthlySalary','yof joining','DistanceFromHome','TotalWorkExp']]).skew()"
   ]
  },
  {
   "cell_type": "code",
   "execution_count": null,
   "metadata": {},
   "outputs": [],
   "source": [
    "np.cbrt(X01[['Age','MonthlySalary','yof joining','DistanceFromHome','TotalWorkExp']]).skew()"
   ]
  },
  {
   "cell_type": "code",
   "execution_count": null,
   "metadata": {},
   "outputs": [],
   "source": [
    "np.sqrt(X01[['Age','MonthlySalary','yof joining','DistanceFromHome','TotalWorkExp']]).skew()"
   ]
  },
  {
   "cell_type": "code",
   "execution_count": null,
   "metadata": {},
   "outputs": [],
   "source": [
    "X01[['MonthlySalary','yof joining']]=np.log(X01[['MonthlySalary','yof joining']])\n",
    "X01[['Age','DistanceFromHome']]=np.cbrt(X01[['Age','DistanceFromHome']])\n",
    "X01[['TotalWorkExp']]=np.cbrt(X01[['TotalWorkExp']])"
   ]
  },
  {
   "cell_type": "code",
   "execution_count": null,
   "metadata": {},
   "outputs": [],
   "source": []
  },
  {
   "cell_type": "code",
   "execution_count": null,
   "metadata": {},
   "outputs": [],
   "source": [
    "X01[X01.columns]=impute.transform(X01)"
   ]
  },
  {
   "cell_type": "code",
   "execution_count": null,
   "metadata": {},
   "outputs": [],
   "source": [
    "test[['College_Tier','YearsSinceLastPromotion','NumCompaniesWorked','EnvironmentSatisfaction1','EnvironmentSatisfaction2', 'JobSatisfaction1', \n",
    "                'JobSatisfaction2','JobInvolvement1', 'JobInvolvement2', 'PerformanceRating1','PerformanceRating2']]=np.round(X01[['College_Tier','YearsSinceLastPromotion','NumCompaniesWorked','EnvironmentSatisfaction1','EnvironmentSatisfaction2', 'JobSatisfaction1', \n",
    "                'JobSatisfaction2','JobInvolvement1', 'JobInvolvement2', 'PerformanceRating1','PerformanceRating2']])"
   ]
  },
  {
   "cell_type": "code",
   "execution_count": null,
   "metadata": {},
   "outputs": [],
   "source": [
    "test.to_csv('test_imputed.csv')"
   ]
  },
  {
   "cell_type": "code",
   "execution_count": null,
   "metadata": {},
   "outputs": [],
   "source": [
    "train['NumCompaniesWorked'].value_counts()"
   ]
  },
  {
   "cell_type": "code",
   "execution_count": null,
   "metadata": {},
   "outputs": [],
   "source": [
    "test['NumCompaniesWorked'].value_counts().sum()"
   ]
  },
  {
   "cell_type": "code",
   "execution_count": null,
   "metadata": {},
   "outputs": [],
   "source": [
    "test.shape"
   ]
  },
  {
   "cell_type": "code",
   "execution_count": null,
   "metadata": {},
   "outputs": [],
   "source": [
    "train.isna().sum()"
   ]
  },
  {
   "cell_type": "code",
   "execution_count": null,
   "metadata": {},
   "outputs": [],
   "source": [
    "test.isna().sum()"
   ]
  },
  {
   "cell_type": "code",
   "execution_count": null,
   "metadata": {},
   "outputs": [],
   "source": []
  },
  {
   "cell_type": "code",
   "execution_count": null,
   "metadata": {},
   "outputs": [],
   "source": [
    "plt.figure(figsize=(14,8))\n",
    "sns.heatmap(train.corr(),annot=True)"
   ]
  },
  {
   "cell_type": "code",
   "execution_count": null,
   "metadata": {},
   "outputs": [],
   "source": []
  }
 ],
 "metadata": {
  "kernelspec": {
   "display_name": "Python 3",
   "language": "python",
   "name": "python3"
  },
  "language_info": {
   "codemirror_mode": {
    "name": "ipython",
    "version": 3
   },
   "file_extension": ".py",
   "mimetype": "text/x-python",
   "name": "python",
   "nbconvert_exporter": "python",
   "pygments_lexer": "ipython3",
   "version": "3.8.3"
  }
 },
 "nbformat": 4,
 "nbformat_minor": 4
}
