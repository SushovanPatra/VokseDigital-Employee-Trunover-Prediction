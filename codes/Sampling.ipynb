{
 "cells": [
  {
   "cell_type": "code",
   "execution_count": 117,
   "metadata": {},
   "outputs": [
    {
     "data": {
      "text/plain": [
       "((97616, 32), (41836, 31))"
      ]
     },
     "execution_count": 117,
     "metadata": {},
     "output_type": "execute_result"
    }
   ],
   "source": [
    "import pandas as pd\n",
    "import numpy as np\n",
    "import seaborn as sns\n",
    "import matplotlib.pyplot as plt\n",
    "\n",
    "train=pd.read_csv('Train_Data_ET.csv')\n",
    "\n",
    "test=pd.read_csv('Test_Data_ET.csv')\n",
    "data=pd.read_csv('data.csv').drop('Unnamed: 0',axis=1)\n",
    "train.shape,test.shape"
   ]
  },
  {
   "cell_type": "code",
   "execution_count": 118,
   "metadata": {},
   "outputs": [
    {
     "data": {
      "text/plain": [
       "(139452, 31)"
      ]
     },
     "execution_count": 118,
     "metadata": {},
     "output_type": "execute_result"
    }
   ],
   "source": [
    "data.shape"
   ]
  },
  {
   "cell_type": "code",
   "execution_count": 119,
   "metadata": {},
   "outputs": [],
   "source": [
    "from sklearn.tree import DecisionTreeClassifier\n",
    "from sklearn.model_selection import train_test_split,cross_val_score,cross_val_predict\n",
    "from sklearn.preprocessing import LabelEncoder,StandardScaler,MinMaxScaler\n",
    "le=LabelEncoder()\n",
    "ms=MinMaxScaler()\n",
    "ss=StandardScaler()\n",
    "from sklearn import metrics"
   ]
  },
  {
   "cell_type": "code",
   "execution_count": 120,
   "metadata": {
    "scrolled": true
   },
   "outputs": [
    {
     "name": "stdout",
     "output_type": "stream",
     "text": [
      "\n",
      "\n",
      "----------------------- Recently_upskilled --------------------------------\n",
      "0    79.716318\n",
      "1    20.283682\n",
      "Name: Recently_upskilled, dtype: float64\n",
      "\n",
      "\n",
      "----------------------- Region --------------------------------\n",
      "Hyderabad    26.210452\n",
      "Delhi NCR    26.074205\n",
      "Bangalore    24.974902\n",
      "Chennai      22.740441\n",
      "Name: Region, dtype: float64\n",
      "\n",
      "\n",
      "----------------------- RemoteWork --------------------------------\n",
      "0    98.408771\n",
      "1     1.591229\n",
      "Name: RemoteWork, dtype: float64\n",
      "\n",
      "\n",
      "----------------------- PercentSalaryIncrement --------------------------------\n",
      "13    13.855664\n",
      "14    12.686086\n",
      "12    11.951066\n",
      "15    10.945702\n",
      "16     8.623039\n",
      "11     7.376015\n",
      "17     6.911339\n",
      "18     6.192095\n",
      "19     5.172389\n",
      "20     3.930385\n",
      "21     3.114333\n",
      "10     2.931475\n",
      "22     2.681209\n",
      "23     1.790580\n",
      "24     0.991022\n",
      "25     0.572957\n",
      "26     0.241660\n",
      "27     0.032986\n",
      "Name: PercentSalaryIncrement, dtype: float64\n",
      "\n",
      "\n",
      "----------------------- OfficeHours --------------------------------\n",
      "7    47.249233\n",
      "8    41.944182\n",
      "9    10.806586\n",
      "Name: OfficeHours, dtype: float64\n",
      "\n",
      "\n",
      "----------------------- StockOptionLevel --------------------------------\n",
      "0    48.640392\n",
      "1    38.126380\n",
      "2     9.260534\n",
      "3     3.972693\n",
      "Name: StockOptionLevel, dtype: float64\n",
      "\n",
      "\n",
      "----------------------- College_Tier --------------------------------\n",
      "Tier-3    68.584172\n",
      "Tier-2    17.570920\n",
      "Tier-1    13.844907\n",
      "Name: College_Tier, dtype: float64\n",
      "\n",
      "\n",
      "----------------------- YearsSinceLastPromotion --------------------------------\n",
      "0.0    48.381522\n",
      "1.0    29.130453\n",
      "2.0     8.403608\n",
      "3.0     3.807045\n",
      "4.0     3.605542\n",
      "7.0     2.540659\n",
      "6.0     1.784844\n",
      "5.0     1.715286\n",
      "8.0     0.631042\n",
      "Name: YearsSinceLastPromotion, dtype: float64\n",
      "\n",
      "\n",
      "----------------------- HighestEducation --------------------------------\n",
      "B.Tech    50.920030\n",
      "MBA       22.348191\n",
      "BA        16.085105\n",
      "BBA        3.484353\n",
      "MCA        2.752201\n",
      "CFA        2.146975\n",
      "CA         1.707398\n",
      "Mtech      0.555747\n",
      "Name: HighestEducation, dtype: float64\n",
      "\n",
      "\n",
      "----------------------- BusinessTravel --------------------------------\n",
      "None          70.749792\n",
      "Frequently    20.201216\n",
      "Sometimes      9.048992\n",
      "Name: BusinessTravel, dtype: float64\n",
      "\n",
      "\n",
      "----------------------- JobLevel --------------------------------\n",
      "1    69.107650\n",
      "2    18.787110\n",
      "4     5.093509\n",
      "3     3.605542\n",
      "5     3.406190\n",
      "Name: JobLevel, dtype: float64\n",
      "\n",
      "\n",
      "----------------------- MaritalStatus --------------------------------\n",
      "Married     44.290509\n",
      "Single      37.643777\n",
      "Divorced    18.065714\n",
      "Name: MaritalStatus, dtype: float64\n",
      "\n",
      "\n",
      "----------------------- TotalWorkExp --------------------------------\n",
      "8     7.555288\n",
      "9     7.271319\n",
      "6     6.963686\n",
      "10    6.835327\n",
      "5     6.453834\n",
      "7     5.987006\n",
      "11    5.914580\n",
      "4     5.662880\n",
      "12    4.628833\n",
      "3     4.556407\n",
      "2     2.807418\n",
      "1     2.656828\n",
      "13    2.461062\n",
      "16    2.259559\n",
      "14    2.243783\n",
      "17    2.228007\n",
      "18    2.140521\n",
      "15    2.103233\n",
      "20    1.979176\n",
      "0     1.904598\n",
      "19    1.776238\n",
      "21    1.637840\n",
      "23    1.430600\n",
      "24    1.429883\n",
      "22    1.384706\n",
      "25    0.859077\n",
      "26    0.849755\n",
      "27    0.785216\n",
      "28    0.710639\n",
      "29    0.622436\n",
      "30    0.610246\n",
      "32    0.595187\n",
      "31    0.473281\n",
      "37    0.446032\n",
      "33    0.350658\n",
      "34    0.335599\n",
      "36    0.308350\n",
      "35    0.240226\n",
      "38    0.191464\n",
      "39    0.144136\n",
      "40    0.093939\n",
      "41    0.092505\n",
      "42    0.018644\n",
      "Name: TotalWorkExp, dtype: float64\n",
      "\n",
      "\n",
      "----------------------- yof joining --------------------------------\n",
      "4     10.224307\n",
      "2     10.204228\n",
      "5      9.243324\n",
      "3      9.195279\n",
      "1      8.888363\n",
      "6      7.989846\n",
      "8      7.228294\n",
      "9      6.393598\n",
      "7      5.984138\n",
      "0      5.292861\n",
      "10     3.858675\n",
      "11     2.672604\n",
      "12     1.488684\n",
      "14     1.289333\n",
      "13     1.178900\n",
      "20     1.117230\n",
      "15     0.991739\n",
      "21     0.939391\n",
      "18     0.804578\n",
      "16     0.740757\n",
      "19     0.681238\n",
      "17     0.589450\n",
      "22     0.569372\n",
      "24     0.409460\n",
      "23     0.263173\n",
      "31     0.260305\n",
      "30     0.227318\n",
      "32     0.192898\n",
      "33     0.189312\n",
      "25     0.144136\n",
      "26     0.136965\n",
      "37     0.116169\n",
      "27     0.112584\n",
      "35     0.092505\n",
      "38     0.057367\n",
      "28     0.045177\n",
      "36     0.045177\n",
      "41     0.039440\n",
      "34     0.036572\n",
      "42     0.028684\n",
      "29     0.015776\n",
      "39     0.015059\n",
      "40     0.005737\n",
      "Name: yof joining, dtype: float64\n",
      "\n",
      "\n",
      "----------------------- YearsWithCurrManager --------------------------------\n",
      "0     22.461492\n",
      "1     16.949918\n",
      "2     13.747383\n",
      "3      9.552391\n",
      "6      8.026418\n",
      "7      6.999541\n",
      "4      6.573588\n",
      "8      4.803086\n",
      "5      4.199294\n",
      "9      2.588704\n",
      "10     1.288615\n",
      "11     0.932937\n",
      "12     0.705619\n",
      "13     0.405157\n",
      "15     0.256719\n",
      "14     0.240226\n",
      "17     0.133379\n",
      "16     0.109715\n",
      "18     0.025815\n",
      "Name: YearsWithCurrManager, dtype: float64\n",
      "\n",
      "\n",
      "----------------------- DistanceFromHome --------------------------------\n",
      "1     16.331067\n",
      "2      9.378137\n",
      "3      7.325101\n",
      "4      5.763990\n",
      "6      5.692281\n",
      "7      5.527350\n",
      "8      5.357399\n",
      "5      5.182428\n",
      "9      4.528440\n",
      "10     3.756848\n",
      "11     3.001750\n",
      "12     2.122594\n",
      "16     2.117575\n",
      "13     2.047299\n",
      "15     2.020767\n",
      "17     1.782692\n",
      "14     1.743969\n",
      "25     1.700227\n",
      "18     1.540315\n",
      "21     1.538164\n",
      "19     1.525256\n",
      "24     1.487250\n",
      "23     1.462869\n",
      "20     1.392594\n",
      "22     1.328773\n",
      "27     1.236268\n",
      "26     1.092132\n",
      "28     0.963055\n",
      "29     0.722112\n",
      "30     0.277515\n",
      "31     0.053782\n",
      "Name: DistanceFromHome, dtype: float64\n",
      "\n",
      "\n",
      "----------------------- NumCompaniesWorked --------------------------------\n",
      "1.0     51.136592\n",
      "2.0     12.866076\n",
      "3.0      8.662479\n",
      "4.0      6.956516\n",
      "5.0      6.045808\n",
      "6.0      4.232998\n",
      "7.0      3.751829\n",
      "8.0      3.394716\n",
      "9.0      1.891690\n",
      "10.0     1.061297\n",
      "Name: NumCompaniesWorked, dtype: float64\n",
      "\n",
      "\n",
      "----------------------- Gender --------------------------------\n",
      "Male      60.945702\n",
      "Female    39.054298\n",
      "Name: Gender, dtype: float64\n",
      "\n",
      "\n",
      "----------------------- TrainingTimesLastYear --------------------------------\n",
      "2    36.008089\n",
      "1    30.142271\n",
      "3    14.615065\n",
      "4     7.569630\n",
      "0     7.097783\n",
      "5     3.820669\n",
      "6     0.746493\n",
      "Name: TrainingTimesLastYear, dtype: float64\n",
      "\n",
      "\n",
      "----------------------- Department --------------------------------\n",
      "Sales        60.500387\n",
      "Ops          28.127241\n",
      "Finance       4.712016\n",
      "HR            4.131888\n",
      "Analytics     2.528469\n",
      "Name: Department, dtype: float64\n",
      "\n",
      "\n",
      "----------------------- EnvironmentSatisfaction1 --------------------------------\n",
      "3.0    35.865387\n",
      "4.0    29.038666\n",
      "2.0    26.472908\n",
      "1.0     8.623039\n",
      "Name: EnvironmentSatisfaction1, dtype: float64\n",
      "\n",
      "\n",
      "----------------------- EnvironmentSatisfaction2 --------------------------------\n",
      "4.0    39.515389\n",
      "3.0    28.749677\n",
      "2.0    26.132289\n",
      "1.0     5.602645\n",
      "Name: EnvironmentSatisfaction2, dtype: float64\n",
      "\n",
      "\n",
      "----------------------- JobSatisfaction1 --------------------------------\n",
      "3.0    36.441930\n",
      "4.0    29.527723\n",
      "2.0    26.744686\n",
      "1.0     7.285661\n",
      "Name: JobSatisfaction1, dtype: float64\n",
      "\n",
      "\n",
      "----------------------- JobSatisfaction2 --------------------------------\n",
      "3.0    39.435792\n",
      "4.0    28.644265\n",
      "2.0    26.100020\n",
      "1.0     5.819924\n",
      "Name: JobSatisfaction2, dtype: float64\n",
      "\n",
      "\n",
      "----------------------- JobInvolvement1 --------------------------------\n",
      "3.0    37.155437\n",
      "4.0    30.203224\n",
      "2.0    24.482976\n",
      "1.0     8.158363\n",
      "Name: JobInvolvement1, dtype: float64\n",
      "\n",
      "\n",
      "----------------------- JobInvolvement2 --------------------------------\n",
      "4.0    40.571666\n",
      "3.0    29.736397\n",
      "2.0    23.783094\n",
      "1.0     5.908843\n",
      "Name: JobInvolvement2, dtype: float64\n",
      "\n",
      "\n",
      "----------------------- PerformanceRating1 --------------------------------\n",
      "3.0    48.062416\n",
      "4.0    41.305252\n",
      "2.0    10.632332\n",
      "Name: PerformanceRating1, dtype: float64\n",
      "\n",
      "\n",
      "----------------------- PerformanceRating2 --------------------------------\n",
      "4.0    50.477584\n",
      "3.0    39.957118\n",
      "2.0     9.565298\n",
      "Name: PerformanceRating2, dtype: float64\n"
     ]
    }
   ],
   "source": [
    "for i in data[['Recently_upskilled', 'Region', 'RemoteWork',\n",
    "       'PercentSalaryIncrement', 'OfficeHours', 'StockOptionLevel',\n",
    "       'College_Tier', 'YearsSinceLastPromotion', 'HighestEducation',\n",
    "       'BusinessTravel', 'JobLevel', 'MaritalStatus', 'TotalWorkExp','yof joining', 'YearsWithCurrManager',\n",
    "       'DistanceFromHome', 'NumCompaniesWorked', 'Gender',\n",
    "       'TrainingTimesLastYear', 'Department', 'EnvironmentSatisfaction1',\n",
    "       'EnvironmentSatisfaction2', 'JobSatisfaction1', 'JobSatisfaction2',\n",
    "       'JobInvolvement1', 'JobInvolvement2', 'PerformanceRating1',\n",
    "       'PerformanceRating2']]:\n",
    "    print('\\n\\n-----------------------',i,'--------------------------------')\n",
    "    print(data[i].value_counts()/data.shape[0]*100)\n"
   ]
  },
  {
   "cell_type": "markdown",
   "metadata": {},
   "source": [
    "# ------------------------------------------------------------------------------------------"
   ]
  },
  {
   "cell_type": "code",
   "execution_count": null,
   "metadata": {},
   "outputs": [],
   "source": []
  },
  {
   "cell_type": "code",
   "execution_count": 121,
   "metadata": {},
   "outputs": [
    {
     "data": {
      "text/plain": [
       "<matplotlib.axes._subplots.AxesSubplot at 0x1eb845a1a30>"
      ]
     },
     "execution_count": 121,
     "metadata": {},
     "output_type": "execute_result"
    },
    {
     "data": {
      "image/png": "[encoded data removed]",
      "text/plain": [
       "<Figure size 432x288 with 1 Axes>"
      ]
     },
     "metadata": {},
     "output_type": "display_data"
    }
   ],
   "source": [
    "data['Age'].plot(kind='box')"
   ]
  },
  {
   "cell_type": "code",
   "execution_count": 122,
   "metadata": {},
   "outputs": [
    {
     "data": {
      "text/plain": [
       "(0.4369710510382229, -0.16383965892830263, 0.04611620165686106)"
      ]
     },
     "execution_count": 122,
     "metadata": {},
     "output_type": "execute_result"
    }
   ],
   "source": [
    "data['Age'].skew(),np.log(data['Age']).skew(),np.cbrt(data['Age']).skew()"
   ]
  },
  {
   "cell_type": "code",
   "execution_count": null,
   "metadata": {},
   "outputs": [],
   "source": []
  },
  {
   "cell_type": "code",
   "execution_count": 124,
   "metadata": {},
   "outputs": [],
   "source": [
    "agegrp=[]\n",
    "for age in data['Age']:\n",
    "    if age<=20:\n",
    "        agegrp.append('G0')\n",
    "    elif age>20 and age<=25:\n",
    "        agegrp.append('G1')\n",
    "    elif age>25 and age<=30:\n",
    "        agegrp.append('G2')\n",
    "    elif age>30 and age<=35:\n",
    "        agegrp.append('G3')\n",
    "    elif age>35 and age<=40:\n",
    "        agegrp.append('G4')\n",
    "    elif age>40 and age<=45:\n",
    "        agegrp.append('G5')\n",
    "    elif age>45 and age<=50:\n",
    "        agegrp.append('G6')\n",
    "    elif age>50 and age<=55:\n",
    "        agegrp.append('G7')\n",
    "    elif age>55 and age<=60:\n",
    "        agegrp.append('G8')\n",
    "    else:\n",
    "        agegrp.append('G9')\n",
    "data['Age_group']=agegrp"
   ]
  },
  {
   "cell_type": "code",
   "execution_count": 125,
   "metadata": {},
   "outputs": [],
   "source": [
    "data['Age']=np.cbrt(data['Age'])"
   ]
  },
  {
   "cell_type": "markdown",
   "metadata": {},
   "source": [
    "# ------------------------------------------------------------------------------------------"
   ]
  },
  {
   "cell_type": "code",
   "execution_count": 126,
   "metadata": {},
   "outputs": [
    {
     "data": {
      "text/plain": [
       "<matplotlib.axes._subplots.AxesSubplot at 0x1eb8237eeb0>"
      ]
     },
     "execution_count": 126,
     "metadata": {},
     "output_type": "execute_result"
    },
    {
     "data": {
      "image/png": "[encoded data removed]",
      "text/plain": [
       "<Figure size 432x288 with 1 Axes>"
      ]
     },
     "metadata": {},
     "output_type": "display_data"
    }
   ],
   "source": [
    "data['MonthlySalary'].plot(kind='box')\n"
   ]
  },
  {
   "cell_type": "code",
   "execution_count": 127,
   "metadata": {},
   "outputs": [
    {
     "data": {
      "text/plain": [
       "(1.397656935390218, 0.2906969058846043, 0.6901120767280163)"
      ]
     },
     "execution_count": 127,
     "metadata": {},
     "output_type": "execute_result"
    }
   ],
   "source": [
    "data['MonthlySalary'].skew(),np.log(data['MonthlySalary']).skew(),np.cbrt(data['MonthlySalary']).skew()"
   ]
  },
  {
   "cell_type": "code",
   "execution_count": 128,
   "metadata": {},
   "outputs": [],
   "source": [
    "data['MonthlySalary']=np.log(data['MonthlySalary'])"
   ]
  },
  {
   "cell_type": "code",
   "execution_count": 129,
   "metadata": {},
   "outputs": [
    {
     "data": {
      "text/plain": [
       "<matplotlib.axes._subplots.AxesSubplot at 0x1eb8058cbb0>"
      ]
     },
     "execution_count": 129,
     "metadata": {},
     "output_type": "execute_result"
    },
    {
     "data": {
      "image/png": "[encoded data removed]",
      "text/plain": [
       "<Figure size 432x288 with 1 Axes>"
      ]
     },
     "metadata": {},
     "output_type": "display_data"
    }
   ],
   "source": [
    "data['MonthlySalary'].plot(kind='box')\n"
   ]
  },
  {
   "cell_type": "markdown",
   "metadata": {},
   "source": [
    "# ------------------------------------------------------------------------------------------"
   ]
  },
  {
   "cell_type": "code",
   "execution_count": 130,
   "metadata": {
    "scrolled": true
   },
   "outputs": [
    {
     "data": {
      "text/plain": [
       "13    19322\n",
       "14    17691\n",
       "12    16666\n",
       "15    15264\n",
       "16    12025\n",
       "11    10286\n",
       "17     9638\n",
       "18     8635\n",
       "19     7213\n",
       "20     5481\n",
       "21     4343\n",
       "10     4088\n",
       "22     3739\n",
       "23     2497\n",
       "24     1382\n",
       "25      799\n",
       "26      337\n",
       "27       46\n",
       "Name: PercentSalaryIncrement, dtype: int64"
      ]
     },
     "execution_count": 130,
     "metadata": {},
     "output_type": "execute_result"
    }
   ],
   "source": [
    "data['PercentSalaryIncrement'].value_counts()"
   ]
  },
  {
   "cell_type": "code",
   "execution_count": 131,
   "metadata": {},
   "outputs": [
    {
     "data": {
      "text/plain": [
       "<matplotlib.axes._subplots.AxesSubplot at 0x1eb805b0310>"
      ]
     },
     "execution_count": 131,
     "metadata": {},
     "output_type": "execute_result"
    },
    {
     "data": {
      "image/png": "[encoded data removed]",
      "text/plain": [
       "<Figure size 432x288 with 1 Axes>"
      ]
     },
     "metadata": {},
     "output_type": "display_data"
    }
   ],
   "source": [
    "data['PercentSalaryIncrement'].plot(kind='box')\n"
   ]
  },
  {
   "cell_type": "code",
   "execution_count": 132,
   "metadata": {},
   "outputs": [
    {
     "data": {
      "text/plain": [
       "(0.7310618347257587, 0.30771366993446053, 0.4473331571480895)"
      ]
     },
     "execution_count": 132,
     "metadata": {},
     "output_type": "execute_result"
    }
   ],
   "source": [
    "data['PercentSalaryIncrement'].skew(),np.log(data['PercentSalaryIncrement']).skew(),np.cbrt(data['PercentSalaryIncrement']).skew()"
   ]
  },
  {
   "cell_type": "code",
   "execution_count": 133,
   "metadata": {},
   "outputs": [],
   "source": [
    "data['PercentSalaryIncrement']=np.log(data['PercentSalaryIncrement'])"
   ]
  },
  {
   "cell_type": "code",
   "execution_count": 134,
   "metadata": {},
   "outputs": [
    {
     "data": {
      "text/plain": [
       "<matplotlib.axes._subplots.AxesSubplot at 0x1eb8061ecd0>"
      ]
     },
     "execution_count": 134,
     "metadata": {},
     "output_type": "execute_result"
    },
    {
     "data": {
      "image/png": "[encoded data removed]",
      "text/plain": [
       "<Figure size 432x288 with 1 Axes>"
      ]
     },
     "metadata": {},
     "output_type": "display_data"
    }
   ],
   "source": [
    "data['PercentSalaryIncrement'].plot(kind='box')"
   ]
  },
  {
   "cell_type": "markdown",
   "metadata": {},
   "source": [
    "# ------------------------------------------------------------------------------------------"
   ]
  },
  {
   "cell_type": "code",
   "execution_count": 135,
   "metadata": {},
   "outputs": [
    {
     "data": {
      "text/plain": [
       "<matplotlib.axes._subplots.AxesSubplot at 0x1ebf1e129d0>"
      ]
     },
     "execution_count": 135,
     "metadata": {},
     "output_type": "execute_result"
    },
    {
     "data": {
      "image/png": "[encoded data removed]",
      "text/plain": [
       "<Figure size 432x288 with 1 Axes>"
      ]
     },
     "metadata": {},
     "output_type": "display_data"
    }
   ],
   "source": [
    "data['TotalWorkExp'].plot(kind='box')"
   ]
  },
  {
   "cell_type": "code",
   "execution_count": 136,
   "metadata": {},
   "outputs": [
    {
     "data": {
      "text/plain": [
       "(1.1863522689364794, 0.1465600223210278, -0.6489561647882522)"
      ]
     },
     "execution_count": 136,
     "metadata": {},
     "output_type": "execute_result"
    }
   ],
   "source": [
    "data['TotalWorkExp'].skew(),np.sqrt(data['TotalWorkExp']).skew(),np.cbrt(data['TotalWorkExp']).skew()"
   ]
  },
  {
   "cell_type": "code",
   "execution_count": 137,
   "metadata": {},
   "outputs": [],
   "source": [
    "data['TotalWorkExp']=np.sqrt(data['TotalWorkExp'])"
   ]
  },
  {
   "cell_type": "code",
   "execution_count": 138,
   "metadata": {},
   "outputs": [
    {
     "data": {
      "text/plain": [
       "<matplotlib.axes._subplots.AxesSubplot at 0x1eb822d48b0>"
      ]
     },
     "execution_count": 138,
     "metadata": {},
     "output_type": "execute_result"
    },
    {
     "data": {
      "image/png": "[encoded data removed]",
      "text/plain": [
       "<Figure size 432x288 with 1 Axes>"
      ]
     },
     "metadata": {},
     "output_type": "display_data"
    }
   ],
   "source": [
    "data['TotalWorkExp'].plot(kind='box')"
   ]
  },
  {
   "cell_type": "markdown",
   "metadata": {},
   "source": [
    "# ------------------------------------------------------------------------------------------"
   ]
  },
  {
   "cell_type": "code",
   "execution_count": 139,
   "metadata": {},
   "outputs": [
    {
     "data": {
      "text/plain": [
       "0     31323\n",
       "1     23637\n",
       "2     19171\n",
       "3     13321\n",
       "6     11193\n",
       "7      9761\n",
       "4      9167\n",
       "8      6698\n",
       "5      5856\n",
       "9      3610\n",
       "10     1797\n",
       "11     1301\n",
       "12      984\n",
       "13      565\n",
       "15      358\n",
       "14      335\n",
       "17      186\n",
       "16      153\n",
       "18       36\n",
       "Name: YearsWithCurrManager, dtype: int64"
      ]
     },
     "execution_count": 139,
     "metadata": {},
     "output_type": "execute_result"
    }
   ],
   "source": [
    "data['YearsWithCurrManager'].value_counts()"
   ]
  },
  {
   "cell_type": "code",
   "execution_count": 140,
   "metadata": {},
   "outputs": [
    {
     "data": {
      "text/plain": [
       "<matplotlib.axes._subplots.AxesSubplot at 0x1eb8233cbe0>"
      ]
     },
     "execution_count": 140,
     "metadata": {},
     "output_type": "execute_result"
    },
    {
     "data": {
      "image/png": "[encoded data removed]",
      "text/plain": [
       "<Figure size 432x288 with 1 Axes>"
      ]
     },
     "metadata": {},
     "output_type": "display_data"
    }
   ],
   "source": [
    "data['YearsWithCurrManager'].plot(kind='box')"
   ]
  },
  {
   "cell_type": "code",
   "execution_count": 141,
   "metadata": {},
   "outputs": [
    {
     "data": {
      "text/plain": [
       "(1.0646719425141782, -0.03268009795874545, -0.5508313080150533)"
      ]
     },
     "execution_count": 141,
     "metadata": {},
     "output_type": "execute_result"
    }
   ],
   "source": [
    "data['YearsWithCurrManager'].skew(),np.sqrt(data['YearsWithCurrManager']).skew(),np.cbrt(data['YearsWithCurrManager']).skew()"
   ]
  },
  {
   "cell_type": "code",
   "execution_count": 142,
   "metadata": {},
   "outputs": [],
   "source": [
    "data['YearsWithCurrManager']=np.sqrt(data['YearsWithCurrManager'])"
   ]
  },
  {
   "cell_type": "raw",
   "metadata": {},
   "source": [
    "data['YearsWithCurrManager'].plot(kind='box')"
   ]
  },
  {
   "cell_type": "markdown",
   "metadata": {},
   "source": [
    "# ------------------------------------------------------------------------------------------"
   ]
  },
  {
   "cell_type": "code",
   "execution_count": 143,
   "metadata": {},
   "outputs": [
    {
     "data": {
      "text/plain": [
       "<matplotlib.axes._subplots.AxesSubplot at 0x1eb8230c460>"
      ]
     },
     "execution_count": 143,
     "metadata": {},
     "output_type": "execute_result"
    },
    {
     "data": {
      "image/png": "[encoded data removed]",
      "text/plain": [
       "<Figure size 432x288 with 1 Axes>"
      ]
     },
     "metadata": {},
     "output_type": "display_data"
    }
   ],
   "source": [
    "data['yof joining'].plot(kind='box')"
   ]
  },
  {
   "cell_type": "code",
   "execution_count": 144,
   "metadata": {},
   "outputs": [
    {
     "data": {
      "text/plain": [
       "(2.0092236811150084, 0.3642611727514912, -0.6034002239770709)"
      ]
     },
     "execution_count": 144,
     "metadata": {},
     "output_type": "execute_result"
    }
   ],
   "source": [
    "data['yof joining'].skew(),np.sqrt(data['yof joining']).skew(),np.cbrt(data['yof joining']).skew()"
   ]
  },
  {
   "cell_type": "code",
   "execution_count": 145,
   "metadata": {},
   "outputs": [],
   "source": [
    "data['yof joining']=np.sqrt(data['yof joining'])"
   ]
  },
  {
   "cell_type": "code",
   "execution_count": 146,
   "metadata": {},
   "outputs": [
    {
     "data": {
      "text/plain": [
       "<matplotlib.axes._subplots.AxesSubplot at 0x1eb861b2550>"
      ]
     },
     "execution_count": 146,
     "metadata": {},
     "output_type": "execute_result"
    },
    {
     "data": {
      "image/png": "[encoded data removed]",
      "text/plain": [
       "<Figure size 432x288 with 1 Axes>"
      ]
     },
     "metadata": {},
     "output_type": "display_data"
    }
   ],
   "source": [
    "data['yof joining'].plot(kind='box')"
   ]
  },
  {
   "cell_type": "markdown",
   "metadata": {},
   "source": [
    "# ------------------------------------------------------------------------------------------"
   ]
  },
  {
   "cell_type": "code",
   "execution_count": 147,
   "metadata": {},
   "outputs": [
    {
     "data": {
      "text/plain": [
       "<matplotlib.axes._subplots.AxesSubplot at 0x1eb88479c70>"
      ]
     },
     "execution_count": 147,
     "metadata": {},
     "output_type": "execute_result"
    },
    {
     "data": {
      "image/png": "[encoded data removed]",
      "text/plain": [
       "<Figure size 432x288 with 1 Axes>"
      ]
     },
     "metadata": {},
     "output_type": "display_data"
    }
   ],
   "source": [
    "data['DistanceFromHome'].plot(kind='box')"
   ]
  },
  {
   "cell_type": "code",
   "execution_count": 148,
   "metadata": {},
   "outputs": [
    {
     "data": {
      "text/plain": [
       "(0.9989211990316168, -0.28626230162214356, 0.17107830330611942)"
      ]
     },
     "execution_count": 148,
     "metadata": {},
     "output_type": "execute_result"
    }
   ],
   "source": [
    "data['DistanceFromHome'].skew(),np.log(data['DistanceFromHome']).skew(),np.cbrt(data['DistanceFromHome']).skew()"
   ]
  },
  {
   "cell_type": "code",
   "execution_count": 149,
   "metadata": {},
   "outputs": [],
   "source": [
    "data['DistanceFromHome']=np.cbrt(data['DistanceFromHome'])"
   ]
  },
  {
   "cell_type": "code",
   "execution_count": 150,
   "metadata": {},
   "outputs": [
    {
     "data": {
      "text/plain": [
       "<matplotlib.axes._subplots.AxesSubplot at 0x1eb896127c0>"
      ]
     },
     "execution_count": 150,
     "metadata": {},
     "output_type": "execute_result"
    },
    {
     "data": {
      "image/png": "[encoded data removed]",
      "text/plain": [
       "<Figure size 432x288 with 1 Axes>"
      ]
     },
     "metadata": {},
     "output_type": "display_data"
    }
   ],
   "source": [
    "data['DistanceFromHome'].plot(kind='box')"
   ]
  },
  {
   "cell_type": "markdown",
   "metadata": {},
   "source": [
    "# ------------------------------------------------------------------------------------------"
   ]
  },
  {
   "cell_type": "code",
   "execution_count": null,
   "metadata": {},
   "outputs": [],
   "source": []
  },
  {
   "cell_type": "raw",
   "metadata": {},
   "source": [
    "data['YearsSinceLastPromotion'].plot(kind='box')"
   ]
  },
  {
   "cell_type": "raw",
   "metadata": {},
   "source": [
    "data['YearsSinceLastPromotion'].skew(),np.sqrt(data['YearsSinceLastPromotion']).skew(),np.cbrt(data['YearsSinceLastPromotion']).skew()"
   ]
  },
  {
   "cell_type": "raw",
   "metadata": {},
   "source": [
    "data['YearsSinceLastPromotion']=np.cbrt(data['YearsSinceLastPromotion'])"
   ]
  },
  {
   "cell_type": "raw",
   "metadata": {},
   "source": [
    "data['YearsSinceLastPromotion'].plot(kind='box')"
   ]
  },
  {
   "cell_type": "code",
   "execution_count": null,
   "metadata": {},
   "outputs": [],
   "source": []
  },
  {
   "cell_type": "raw",
   "metadata": {},
   "source": [
    "data['TrainingTimesLastYear'].plot(kind='box')"
   ]
  },
  {
   "cell_type": "code",
   "execution_count": null,
   "metadata": {},
   "outputs": [],
   "source": []
  },
  {
   "cell_type": "raw",
   "metadata": {},
   "source": [
    "data['TrainingTimesLastYearTrainingTimesLastYearTrainingTimesLastYear'].skew(),np.log(data['TrainingTimesLastYearTrainingTimesLastYear']).skew(),np.cbrt(data['TrainingTimesLastYear']).skew()"
   ]
  },
  {
   "cell_type": "raw",
   "metadata": {},
   "source": [
    "data['NumCompaniesWorked']=np.log(data['NumCompaniesWorked'])"
   ]
  },
  {
   "cell_type": "raw",
   "metadata": {},
   "source": [
    "data['NumCompaniesWorked'].plot(kind='box')"
   ]
  },
  {
   "cell_type": "markdown",
   "metadata": {},
   "source": [
    "# ------------------------------------------------------------------------------------------"
   ]
  },
  {
   "cell_type": "code",
   "execution_count": 151,
   "metadata": {},
   "outputs": [
    {
     "data": {
      "text/plain": [
       "Index(['ID', 'Age', 'Recently_upskilled', 'Region', 'RemoteWork',\n",
       "       'PercentSalaryIncrement', 'OfficeHours', 'StockOptionLevel',\n",
       "       'College_Tier', 'YearsSinceLastPromotion', 'HighestEducation',\n",
       "       'BusinessTravel', 'JobLevel', 'MaritalStatus', 'TotalWorkExp',\n",
       "       'MonthlySalary', 'yof joining', 'YearsWithCurrManager',\n",
       "       'DistanceFromHome', 'NumCompaniesWorked', 'Gender',\n",
       "       'TrainingTimesLastYear', 'Department', 'EnvironmentSatisfaction1',\n",
       "       'EnvironmentSatisfaction2', 'JobSatisfaction1', 'JobSatisfaction2',\n",
       "       'JobInvolvement1', 'JobInvolvement2', 'PerformanceRating1',\n",
       "       'PerformanceRating2', 'Age_group'],\n",
       "      dtype='object')"
      ]
     },
     "execution_count": 151,
     "metadata": {},
     "output_type": "execute_result"
    }
   ],
   "source": [
    "data.columns"
   ]
  },
  {
   "cell_type": "code",
   "execution_count": 152,
   "metadata": {
    "scrolled": true
   },
   "outputs": [
    {
     "name": "stdout",
     "output_type": "stream",
     "text": [
      "\n",
      "\n",
      "----------------------- Recently_upskilled --------------------------------\n",
      "0    79.716318\n",
      "1    20.283682\n",
      "Name: Recently_upskilled, dtype: float64\n",
      "\n",
      "\n",
      "----------------------- Region --------------------------------\n",
      "Hyderabad    26.210452\n",
      "Delhi NCR    26.074205\n",
      "Bangalore    24.974902\n",
      "Chennai      22.740441\n",
      "Name: Region, dtype: float64\n",
      "\n",
      "\n",
      "----------------------- RemoteWork --------------------------------\n",
      "0    98.408771\n",
      "1     1.591229\n",
      "Name: RemoteWork, dtype: float64\n",
      "\n",
      "\n",
      "----------------------- OfficeHours --------------------------------\n",
      "7    47.249233\n",
      "8    41.944182\n",
      "9    10.806586\n",
      "Name: OfficeHours, dtype: float64\n",
      "\n",
      "\n",
      "----------------------- StockOptionLevel --------------------------------\n",
      "0    48.640392\n",
      "1    38.126380\n",
      "2     9.260534\n",
      "3     3.972693\n",
      "Name: StockOptionLevel, dtype: float64\n",
      "\n",
      "\n",
      "----------------------- College_Tier --------------------------------\n",
      "Tier-3    68.584172\n",
      "Tier-2    17.570920\n",
      "Tier-1    13.844907\n",
      "Name: College_Tier, dtype: float64\n",
      "\n",
      "\n",
      "----------------------- YearsSinceLastPromotion --------------------------------\n",
      "0.0    48.381522\n",
      "1.0    29.130453\n",
      "2.0     8.403608\n",
      "3.0     3.807045\n",
      "4.0     3.605542\n",
      "7.0     2.540659\n",
      "6.0     1.784844\n",
      "5.0     1.715286\n",
      "8.0     0.631042\n",
      "Name: YearsSinceLastPromotion, dtype: float64\n",
      "\n",
      "\n",
      "----------------------- HighestEducation --------------------------------\n",
      "B.Tech    50.920030\n",
      "MBA       22.348191\n",
      "BA        16.085105\n",
      "BBA        3.484353\n",
      "MCA        2.752201\n",
      "CFA        2.146975\n",
      "CA         1.707398\n",
      "Mtech      0.555747\n",
      "Name: HighestEducation, dtype: float64\n",
      "\n",
      "\n",
      "----------------------- BusinessTravel --------------------------------\n",
      "None          70.749792\n",
      "Frequently    20.201216\n",
      "Sometimes      9.048992\n",
      "Name: BusinessTravel, dtype: float64\n",
      "\n",
      "\n",
      "----------------------- JobLevel --------------------------------\n",
      "1    69.107650\n",
      "2    18.787110\n",
      "4     5.093509\n",
      "3     3.605542\n",
      "5     3.406190\n",
      "Name: JobLevel, dtype: float64\n",
      "\n",
      "\n",
      "----------------------- MaritalStatus --------------------------------\n",
      "Married     44.290509\n",
      "Single      37.643777\n",
      "Divorced    18.065714\n",
      "Name: MaritalStatus, dtype: float64\n",
      "\n",
      "\n",
      "----------------------- NumCompaniesWorked --------------------------------\n",
      "1.0     51.136592\n",
      "2.0     12.866076\n",
      "3.0      8.662479\n",
      "4.0      6.956516\n",
      "5.0      6.045808\n",
      "6.0      4.232998\n",
      "7.0      3.751829\n",
      "8.0      3.394716\n",
      "9.0      1.891690\n",
      "10.0     1.061297\n",
      "Name: NumCompaniesWorked, dtype: float64\n",
      "\n",
      "\n",
      "----------------------- Gender --------------------------------\n",
      "Male      60.945702\n",
      "Female    39.054298\n",
      "Name: Gender, dtype: float64\n",
      "\n",
      "\n",
      "----------------------- TrainingTimesLastYear --------------------------------\n",
      "2    36.008089\n",
      "1    30.142271\n",
      "3    14.615065\n",
      "4     7.569630\n",
      "0     7.097783\n",
      "5     3.820669\n",
      "6     0.746493\n",
      "Name: TrainingTimesLastYear, dtype: float64\n",
      "\n",
      "\n",
      "----------------------- Department --------------------------------\n",
      "Sales        60.500387\n",
      "Ops          28.127241\n",
      "Finance       4.712016\n",
      "HR            4.131888\n",
      "Analytics     2.528469\n",
      "Name: Department, dtype: float64\n",
      "\n",
      "\n",
      "----------------------- EnvironmentSatisfaction1 --------------------------------\n",
      "3.0    35.865387\n",
      "4.0    29.038666\n",
      "2.0    26.472908\n",
      "1.0     8.623039\n",
      "Name: EnvironmentSatisfaction1, dtype: float64\n",
      "\n",
      "\n",
      "----------------------- EnvironmentSatisfaction2 --------------------------------\n",
      "4.0    39.515389\n",
      "3.0    28.749677\n",
      "2.0    26.132289\n",
      "1.0     5.602645\n",
      "Name: EnvironmentSatisfaction2, dtype: float64\n",
      "\n",
      "\n",
      "----------------------- JobSatisfaction1 --------------------------------\n",
      "3.0    36.441930\n",
      "4.0    29.527723\n",
      "2.0    26.744686\n",
      "1.0     7.285661\n",
      "Name: JobSatisfaction1, dtype: float64\n",
      "\n",
      "\n",
      "----------------------- JobSatisfaction2 --------------------------------\n",
      "3.0    39.435792\n",
      "4.0    28.644265\n",
      "2.0    26.100020\n",
      "1.0     5.819924\n",
      "Name: JobSatisfaction2, dtype: float64\n",
      "\n",
      "\n",
      "----------------------- JobInvolvement1 --------------------------------\n",
      "3.0    37.155437\n",
      "4.0    30.203224\n",
      "2.0    24.482976\n",
      "1.0     8.158363\n",
      "Name: JobInvolvement1, dtype: float64\n",
      "\n",
      "\n",
      "----------------------- JobInvolvement2 --------------------------------\n",
      "4.0    40.571666\n",
      "3.0    29.736397\n",
      "2.0    23.783094\n",
      "1.0     5.908843\n",
      "Name: JobInvolvement2, dtype: float64\n",
      "\n",
      "\n",
      "----------------------- PerformanceRating1 --------------------------------\n",
      "3.0    48.062416\n",
      "4.0    41.305252\n",
      "2.0    10.632332\n",
      "Name: PerformanceRating1, dtype: float64\n",
      "\n",
      "\n",
      "----------------------- PerformanceRating2 --------------------------------\n",
      "4.0    50.477584\n",
      "3.0    39.957118\n",
      "2.0     9.565298\n",
      "Name: PerformanceRating2, dtype: float64\n",
      "\n",
      "\n",
      "----------------------- yof joining --------------------------------\n",
      "2.000000    10.224307\n",
      "1.414214    10.204228\n",
      "2.236068     9.243324\n",
      "1.732051     9.195279\n",
      "1.000000     8.888363\n",
      "2.449490     7.989846\n",
      "2.828427     7.228294\n",
      "3.000000     6.393598\n",
      "2.645751     5.984138\n",
      "0.000000     5.292861\n",
      "3.162278     3.858675\n",
      "3.316625     2.672604\n",
      "3.464102     1.488684\n",
      "3.741657     1.289333\n",
      "3.605551     1.178900\n",
      "4.472136     1.117230\n",
      "3.872983     0.991739\n",
      "4.582576     0.939391\n",
      "4.242641     0.804578\n",
      "4.000000     0.740757\n",
      "4.358899     0.681238\n",
      "4.123106     0.589450\n",
      "4.690416     0.569372\n",
      "4.898979     0.409460\n",
      "4.795832     0.263173\n",
      "5.567764     0.260305\n",
      "5.477226     0.227318\n",
      "5.656854     0.192898\n",
      "5.744563     0.189312\n",
      "5.000000     0.144136\n",
      "5.099020     0.136965\n",
      "6.082763     0.116169\n",
      "5.196152     0.112584\n",
      "5.916080     0.092505\n",
      "6.164414     0.057367\n",
      "5.291503     0.045177\n",
      "6.000000     0.045177\n",
      "6.403124     0.039440\n",
      "5.830952     0.036572\n",
      "6.480741     0.028684\n",
      "5.385165     0.015776\n",
      "6.244998     0.015059\n",
      "6.324555     0.005737\n",
      "Name: yof joining, dtype: float64\n",
      "\n",
      "\n",
      "----------------------- YearsWithCurrManager --------------------------------\n",
      "0.000000    22.461492\n",
      "1.000000    16.949918\n",
      "1.414214    13.747383\n",
      "1.732051     9.552391\n",
      "2.449490     8.026418\n",
      "2.645751     6.999541\n",
      "2.000000     6.573588\n",
      "2.828427     4.803086\n",
      "2.236068     4.199294\n",
      "3.000000     2.588704\n",
      "3.162278     1.288615\n",
      "3.316625     0.932937\n",
      "3.464102     0.705619\n",
      "3.605551     0.405157\n",
      "3.872983     0.256719\n",
      "3.741657     0.240226\n",
      "4.123106     0.133379\n",
      "4.000000     0.109715\n",
      "4.242641     0.025815\n",
      "Name: YearsWithCurrManager, dtype: float64\n"
     ]
    }
   ],
   "source": [
    "for i in data[['Recently_upskilled', 'Region', 'RemoteWork','OfficeHours', 'StockOptionLevel',\n",
    "       'College_Tier', 'YearsSinceLastPromotion', 'HighestEducation',\n",
    "       'BusinessTravel', 'JobLevel', 'MaritalStatus', 'NumCompaniesWorked', 'Gender',\n",
    "       'TrainingTimesLastYear', 'Department', 'EnvironmentSatisfaction1',\n",
    "       'EnvironmentSatisfaction2', 'JobSatisfaction1', 'JobSatisfaction2',\n",
    "       'JobInvolvement1', 'JobInvolvement2', 'PerformanceRating1',\n",
    "       'PerformanceRating2','yof joining','YearsWithCurrManager']]:\n",
    "    print('\\n\\n-----------------------',i,'--------------------------------')\n",
    "    print(data[i].value_counts()/data.shape[0]*100)\n"
   ]
  },
  {
   "cell_type": "code",
   "execution_count": 153,
   "metadata": {
    "scrolled": true
   },
   "outputs": [
    {
     "data": {
      "text/html": [
       "<div>\n",
       "<style scoped>\n",
       "    .dataframe tbody tr th:only-of-type {\n",
       "        vertical-align: middle;\n",
       "    }\n",
       "\n",
       "    .dataframe tbody tr th {\n",
       "        vertical-align: top;\n",
       "    }\n",
       "\n",
       "    .dataframe thead th {\n",
       "        text-align: right;\n",
       "    }\n",
       "</style>\n",
       "<table border=\"1\" class=\"dataframe\">\n",
       "  <thead>\n",
       "    <tr style=\"text-align: right;\">\n",
       "      <th></th>\n",
       "      <th>0</th>\n",
       "      <th>1</th>\n",
       "      <th>2</th>\n",
       "      <th>3</th>\n",
       "      <th>4</th>\n",
       "    </tr>\n",
       "  </thead>\n",
       "  <tbody>\n",
       "    <tr>\n",
       "      <th>ID</th>\n",
       "      <td>45298</td>\n",
       "      <td>172630</td>\n",
       "      <td>63754</td>\n",
       "      <td>107105</td>\n",
       "      <td>173095</td>\n",
       "    </tr>\n",
       "    <tr>\n",
       "      <th>Age</th>\n",
       "      <td>3.207534</td>\n",
       "      <td>3.239612</td>\n",
       "      <td>3.207534</td>\n",
       "      <td>3.361975</td>\n",
       "      <td>3.036589</td>\n",
       "    </tr>\n",
       "    <tr>\n",
       "      <th>Recently_upskilled</th>\n",
       "      <td>0</td>\n",
       "      <td>1</td>\n",
       "      <td>1</td>\n",
       "      <td>0</td>\n",
       "      <td>1</td>\n",
       "    </tr>\n",
       "    <tr>\n",
       "      <th>Region</th>\n",
       "      <td>Chennai</td>\n",
       "      <td>Delhi NCR</td>\n",
       "      <td>Chennai</td>\n",
       "      <td>Delhi NCR</td>\n",
       "      <td>Hyderabad</td>\n",
       "    </tr>\n",
       "    <tr>\n",
       "      <th>RemoteWork</th>\n",
       "      <td>0</td>\n",
       "      <td>0</td>\n",
       "      <td>0</td>\n",
       "      <td>0</td>\n",
       "      <td>0</td>\n",
       "    </tr>\n",
       "    <tr>\n",
       "      <th>PercentSalaryIncrement</th>\n",
       "      <td>2.70805</td>\n",
       "      <td>2.772589</td>\n",
       "      <td>2.639057</td>\n",
       "      <td>2.302585</td>\n",
       "      <td>2.772589</td>\n",
       "    </tr>\n",
       "    <tr>\n",
       "      <th>OfficeHours</th>\n",
       "      <td>9</td>\n",
       "      <td>7</td>\n",
       "      <td>7</td>\n",
       "      <td>7</td>\n",
       "      <td>7</td>\n",
       "    </tr>\n",
       "    <tr>\n",
       "      <th>StockOptionLevel</th>\n",
       "      <td>1</td>\n",
       "      <td>0</td>\n",
       "      <td>0</td>\n",
       "      <td>1</td>\n",
       "      <td>0</td>\n",
       "    </tr>\n",
       "    <tr>\n",
       "      <th>College_Tier</th>\n",
       "      <td>Tier-3</td>\n",
       "      <td>Tier-3</td>\n",
       "      <td>Tier-3</td>\n",
       "      <td>Tier-3</td>\n",
       "      <td>Tier-3</td>\n",
       "    </tr>\n",
       "    <tr>\n",
       "      <th>YearsSinceLastPromotion</th>\n",
       "      <td>1.0</td>\n",
       "      <td>0.0</td>\n",
       "      <td>1.0</td>\n",
       "      <td>0.0</td>\n",
       "      <td>0.0</td>\n",
       "    </tr>\n",
       "    <tr>\n",
       "      <th>HighestEducation</th>\n",
       "      <td>MBA</td>\n",
       "      <td>CFA</td>\n",
       "      <td>B.Tech</td>\n",
       "      <td>B.Tech</td>\n",
       "      <td>B.Tech</td>\n",
       "    </tr>\n",
       "    <tr>\n",
       "      <th>BusinessTravel</th>\n",
       "      <td>None</td>\n",
       "      <td>None</td>\n",
       "      <td>Frequently</td>\n",
       "      <td>None</td>\n",
       "      <td>Frequently</td>\n",
       "    </tr>\n",
       "    <tr>\n",
       "      <th>JobLevel</th>\n",
       "      <td>1</td>\n",
       "      <td>1</td>\n",
       "      <td>1</td>\n",
       "      <td>1</td>\n",
       "      <td>2</td>\n",
       "    </tr>\n",
       "    <tr>\n",
       "      <th>MaritalStatus</th>\n",
       "      <td>Married</td>\n",
       "      <td>Single</td>\n",
       "      <td>Married</td>\n",
       "      <td>Married</td>\n",
       "      <td>Married</td>\n",
       "    </tr>\n",
       "    <tr>\n",
       "      <th>TotalWorkExp</th>\n",
       "      <td>2.0</td>\n",
       "      <td>2.828427</td>\n",
       "      <td>2.828427</td>\n",
       "      <td>5.09902</td>\n",
       "      <td>1.732051</td>\n",
       "    </tr>\n",
       "    <tr>\n",
       "      <th>MonthlySalary</th>\n",
       "      <td>9.442245</td>\n",
       "      <td>10.912175</td>\n",
       "      <td>10.001974</td>\n",
       "      <td>10.684462</td>\n",
       "      <td>11.129877</td>\n",
       "    </tr>\n",
       "    <tr>\n",
       "      <th>yof joining</th>\n",
       "      <td>1.732051</td>\n",
       "      <td>1.732051</td>\n",
       "      <td>2.0</td>\n",
       "      <td>1.0</td>\n",
       "      <td>1.732051</td>\n",
       "    </tr>\n",
       "    <tr>\n",
       "      <th>YearsWithCurrManager</th>\n",
       "      <td>1.732051</td>\n",
       "      <td>1.0</td>\n",
       "      <td>1.414214</td>\n",
       "      <td>1.0</td>\n",
       "      <td>0.0</td>\n",
       "    </tr>\n",
       "    <tr>\n",
       "      <th>DistanceFromHome</th>\n",
       "      <td>1.259921</td>\n",
       "      <td>1.587401</td>\n",
       "      <td>2.0</td>\n",
       "      <td>1.44225</td>\n",
       "      <td>1.912931</td>\n",
       "    </tr>\n",
       "    <tr>\n",
       "      <th>NumCompaniesWorked</th>\n",
       "      <td>2.0</td>\n",
       "      <td>5.0</td>\n",
       "      <td>5.0</td>\n",
       "      <td>2.0</td>\n",
       "      <td>1.0</td>\n",
       "    </tr>\n",
       "    <tr>\n",
       "      <th>Gender</th>\n",
       "      <td>Female</td>\n",
       "      <td>Male</td>\n",
       "      <td>Female</td>\n",
       "      <td>Male</td>\n",
       "      <td>Female</td>\n",
       "    </tr>\n",
       "    <tr>\n",
       "      <th>TrainingTimesLastYear</th>\n",
       "      <td>5</td>\n",
       "      <td>2</td>\n",
       "      <td>3</td>\n",
       "      <td>2</td>\n",
       "      <td>1</td>\n",
       "    </tr>\n",
       "    <tr>\n",
       "      <th>Department</th>\n",
       "      <td>Ops</td>\n",
       "      <td>Finance</td>\n",
       "      <td>Sales</td>\n",
       "      <td>Sales</td>\n",
       "      <td>Sales</td>\n",
       "    </tr>\n",
       "    <tr>\n",
       "      <th>EnvironmentSatisfaction1</th>\n",
       "      <td>3.0</td>\n",
       "      <td>2.0</td>\n",
       "      <td>3.0</td>\n",
       "      <td>4.0</td>\n",
       "      <td>1.0</td>\n",
       "    </tr>\n",
       "    <tr>\n",
       "      <th>EnvironmentSatisfaction2</th>\n",
       "      <td>3.0</td>\n",
       "      <td>3.0</td>\n",
       "      <td>2.0</td>\n",
       "      <td>4.0</td>\n",
       "      <td>2.0</td>\n",
       "    </tr>\n",
       "    <tr>\n",
       "      <th>JobSatisfaction1</th>\n",
       "      <td>4.0</td>\n",
       "      <td>2.0</td>\n",
       "      <td>3.0</td>\n",
       "      <td>2.0</td>\n",
       "      <td>4.0</td>\n",
       "    </tr>\n",
       "    <tr>\n",
       "      <th>JobSatisfaction2</th>\n",
       "      <td>2.0</td>\n",
       "      <td>3.0</td>\n",
       "      <td>3.0</td>\n",
       "      <td>3.0</td>\n",
       "      <td>3.0</td>\n",
       "    </tr>\n",
       "    <tr>\n",
       "      <th>JobInvolvement1</th>\n",
       "      <td>2.0</td>\n",
       "      <td>3.0</td>\n",
       "      <td>3.0</td>\n",
       "      <td>3.0</td>\n",
       "      <td>3.0</td>\n",
       "    </tr>\n",
       "    <tr>\n",
       "      <th>JobInvolvement2</th>\n",
       "      <td>2.0</td>\n",
       "      <td>4.0</td>\n",
       "      <td>4.0</td>\n",
       "      <td>2.0</td>\n",
       "      <td>4.0</td>\n",
       "    </tr>\n",
       "    <tr>\n",
       "      <th>PerformanceRating1</th>\n",
       "      <td>2.0</td>\n",
       "      <td>3.0</td>\n",
       "      <td>2.0</td>\n",
       "      <td>3.0</td>\n",
       "      <td>3.0</td>\n",
       "    </tr>\n",
       "    <tr>\n",
       "      <th>PerformanceRating2</th>\n",
       "      <td>3.0</td>\n",
       "      <td>4.0</td>\n",
       "      <td>2.0</td>\n",
       "      <td>4.0</td>\n",
       "      <td>4.0</td>\n",
       "    </tr>\n",
       "    <tr>\n",
       "      <th>Age_group</th>\n",
       "      <td>G3</td>\n",
       "      <td>G3</td>\n",
       "      <td>G3</td>\n",
       "      <td>G4</td>\n",
       "      <td>G2</td>\n",
       "    </tr>\n",
       "  </tbody>\n",
       "</table>\n",
       "</div>"
      ],
      "text/plain": [
       "                                 0          1           2          3  \\\n",
       "ID                           45298     172630       63754     107105   \n",
       "Age                       3.207534   3.239612    3.207534   3.361975   \n",
       "Recently_upskilled               0          1           1          0   \n",
       "Region                     Chennai  Delhi NCR     Chennai  Delhi NCR   \n",
       "RemoteWork                       0          0           0          0   \n",
       "PercentSalaryIncrement     2.70805   2.772589    2.639057   2.302585   \n",
       "OfficeHours                      9          7           7          7   \n",
       "StockOptionLevel                 1          0           0          1   \n",
       "College_Tier                Tier-3     Tier-3      Tier-3     Tier-3   \n",
       "YearsSinceLastPromotion        1.0        0.0         1.0        0.0   \n",
       "HighestEducation               MBA        CFA      B.Tech     B.Tech   \n",
       "BusinessTravel                None       None  Frequently       None   \n",
       "JobLevel                         1          1           1          1   \n",
       "MaritalStatus              Married     Single     Married    Married   \n",
       "TotalWorkExp                   2.0   2.828427    2.828427    5.09902   \n",
       "MonthlySalary             9.442245  10.912175   10.001974  10.684462   \n",
       "yof joining               1.732051   1.732051         2.0        1.0   \n",
       "YearsWithCurrManager      1.732051        1.0    1.414214        1.0   \n",
       "DistanceFromHome          1.259921   1.587401         2.0    1.44225   \n",
       "NumCompaniesWorked             2.0        5.0         5.0        2.0   \n",
       "Gender                      Female       Male      Female       Male   \n",
       "TrainingTimesLastYear            5          2           3          2   \n",
       "Department                     Ops    Finance       Sales      Sales   \n",
       "EnvironmentSatisfaction1       3.0        2.0         3.0        4.0   \n",
       "EnvironmentSatisfaction2       3.0        3.0         2.0        4.0   \n",
       "JobSatisfaction1               4.0        2.0         3.0        2.0   \n",
       "JobSatisfaction2               2.0        3.0         3.0        3.0   \n",
       "JobInvolvement1                2.0        3.0         3.0        3.0   \n",
       "JobInvolvement2                2.0        4.0         4.0        2.0   \n",
       "PerformanceRating1             2.0        3.0         2.0        3.0   \n",
       "PerformanceRating2             3.0        4.0         2.0        4.0   \n",
       "Age_group                       G3         G3          G3         G4   \n",
       "\n",
       "                                   4  \n",
       "ID                            173095  \n",
       "Age                         3.036589  \n",
       "Recently_upskilled                 1  \n",
       "Region                     Hyderabad  \n",
       "RemoteWork                         0  \n",
       "PercentSalaryIncrement      2.772589  \n",
       "OfficeHours                        7  \n",
       "StockOptionLevel                   0  \n",
       "College_Tier                  Tier-3  \n",
       "YearsSinceLastPromotion          0.0  \n",
       "HighestEducation              B.Tech  \n",
       "BusinessTravel            Frequently  \n",
       "JobLevel                           2  \n",
       "MaritalStatus                Married  \n",
       "TotalWorkExp                1.732051  \n",
       "MonthlySalary              11.129877  \n",
       "yof joining                 1.732051  \n",
       "YearsWithCurrManager             0.0  \n",
       "DistanceFromHome            1.912931  \n",
       "NumCompaniesWorked               1.0  \n",
       "Gender                        Female  \n",
       "TrainingTimesLastYear              1  \n",
       "Department                     Sales  \n",
       "EnvironmentSatisfaction1         1.0  \n",
       "EnvironmentSatisfaction2         2.0  \n",
       "JobSatisfaction1                 4.0  \n",
       "JobSatisfaction2                 3.0  \n",
       "JobInvolvement1                  3.0  \n",
       "JobInvolvement2                  4.0  \n",
       "PerformanceRating1               3.0  \n",
       "PerformanceRating2               4.0  \n",
       "Age_group                         G2  "
      ]
     },
     "execution_count": 153,
     "metadata": {},
     "output_type": "execute_result"
    }
   ],
   "source": [
    "data.head().T"
   ]
  },
  {
   "cell_type": "markdown",
   "metadata": {},
   "source": [
    "# ------------------------------------------------------------------------------------------"
   ]
  },
  {
   "cell_type": "code",
   "execution_count": 154,
   "metadata": {},
   "outputs": [],
   "source": [
    " data[['Recently_upskilled', 'Region', 'RemoteWork','OfficeHours', 'StockOptionLevel',\n",
    "       'College_Tier', 'YearsSinceLastPromotion', 'HighestEducation',\n",
    "       'BusinessTravel', 'JobLevel', 'MaritalStatus', 'NumCompaniesWorked', 'Gender',\n",
    "       'TrainingTimesLastYear', 'Department', 'EnvironmentSatisfaction1',\n",
    "       'EnvironmentSatisfaction2', 'JobSatisfaction1', 'JobSatisfaction2',\n",
    "       'JobInvolvement1', 'JobInvolvement2', 'PerformanceRating1',\n",
    "       'PerformanceRating2']]= data[['Recently_upskilled', \n",
    "                                                            'Region', 'RemoteWork','OfficeHours', 'StockOptionLevel',\n",
    "       'College_Tier', 'YearsSinceLastPromotion', 'HighestEducation',\n",
    "       'BusinessTravel', 'JobLevel', 'MaritalStatus', 'NumCompaniesWorked', 'Gender',\n",
    "       'TrainingTimesLastYear', 'Department', 'EnvironmentSatisfaction1',\n",
    "       'EnvironmentSatisfaction2', 'JobSatisfaction1', 'JobSatisfaction2',\n",
    "       'JobInvolvement1', 'JobInvolvement2', 'PerformanceRating1',\n",
    "       'PerformanceRating2']].astype('object')"
   ]
  },
  {
   "cell_type": "code",
   "execution_count": 155,
   "metadata": {},
   "outputs": [
    {
     "data": {
      "text/plain": [
       "Index(['ID', 'Age', 'PercentSalaryIncrement', 'TotalWorkExp', 'MonthlySalary',\n",
       "       'yof joining', 'YearsWithCurrManager', 'DistanceFromHome', 'Age_group'],\n",
       "      dtype='object')"
      ]
     },
     "execution_count": 155,
     "metadata": {},
     "output_type": "execute_result"
    }
   ],
   "source": [
    "data.drop(['Recently_upskilled', 'Region', 'RemoteWork','OfficeHours', 'StockOptionLevel',\n",
    "       'College_Tier', 'YearsSinceLastPromotion', 'HighestEducation',\n",
    "       'BusinessTravel', 'JobLevel', 'MaritalStatus', 'NumCompaniesWorked', 'Gender',\n",
    "       'TrainingTimesLastYear', 'Department', 'EnvironmentSatisfaction1',\n",
    "       'EnvironmentSatisfaction2', 'JobSatisfaction1', 'JobSatisfaction2',\n",
    "       'JobInvolvement1', 'JobInvolvement2', 'PerformanceRating1',\n",
    "       'PerformanceRating2'],axis=1).columns"
   ]
  },
  {
   "cell_type": "raw",
   "metadata": {},
   "source": [
    "#TotalworkExperience is dropped"
   ]
  },
  {
   "cell_type": "code",
   "execution_count": 156,
   "metadata": {},
   "outputs": [],
   "source": [
    "cat=data.drop(['ID', 'Age', 'PercentSalaryIncrement', 'TotalWorkExp', 'MonthlySalary', 'yof joining', 'DistanceFromHome'\n",
    "              ,'YearsWithCurrManager'],axis=1)\n",
    "cat_d=pd.get_dummies(cat,drop_first=True)\n",
    "\n",
    "num=data[['Age', 'PercentSalaryIncrement', 'TotalWorkExp', 'MonthlySalary','yof joining', 'DistanceFromHome',\n",
    "         'YearsWithCurrManager']]\n",
    "num_sc=pd.DataFrame(ss.fit_transform(num),columns=num.columns)"
   ]
  },
  {
   "cell_type": "raw",
   "metadata": {},
   "source": [
    "sns.heatmap(num.corr(),annot=True)"
   ]
  },
  {
   "cell_type": "code",
   "execution_count": 157,
   "metadata": {},
   "outputs": [
    {
     "data": {
      "text/plain": [
       "((139452, 94), (139452, 24), (139452, 86), (139452, 7), (139452, 7))"
      ]
     },
     "execution_count": 157,
     "metadata": {},
     "output_type": "execute_result"
    }
   ],
   "source": [
    "new=pd.concat([cat_d,num_sc],axis=1)\n",
    "new['ID']=data['ID']\n",
    "new.shape,cat.shape,cat_d.shape,num.shape,num_sc.shape"
   ]
  },
  {
   "cell_type": "code",
   "execution_count": 158,
   "metadata": {},
   "outputs": [
    {
     "data": {
      "text/plain": [
       "(97616, 32)"
      ]
     },
     "execution_count": 158,
     "metadata": {},
     "output_type": "execute_result"
    }
   ],
   "source": [
    "train.shape"
   ]
  },
  {
   "cell_type": "code",
   "execution_count": 159,
   "metadata": {},
   "outputs": [],
   "source": [
    "new_train=new.iloc[:97616]\n",
    "new_test=new[97616:]"
   ]
  },
  {
   "cell_type": "code",
   "execution_count": 160,
   "metadata": {},
   "outputs": [],
   "source": [
    "y=train['Employeeturnover']\n",
    "X=new_train.drop('ID',axis=1)"
   ]
  },
  {
   "cell_type": "code",
   "execution_count": null,
   "metadata": {},
   "outputs": [],
   "source": []
  },
  {
   "cell_type": "code",
   "execution_count": 161,
   "metadata": {},
   "outputs": [
    {
     "data": {
      "text/plain": [
       "((97616, 93), (97616,), (101788, 93), (101788,))"
      ]
     },
     "execution_count": 161,
     "metadata": {},
     "output_type": "execute_result"
    }
   ],
   "source": [
    "import imblearn\n",
    "\n",
    "#Xvalidate, X0, yvalidate, y0 = train_test_split(X, y, test_size=0, stratify=y)\n",
    "\n",
    "samp=imblearn.over_sampling.RandomOverSampler(sampling_strategy=.3,random_state=100)\n",
    "\n",
    "X1,y1=samp.fit_resample(X,y)\n",
    "\n",
    "\n",
    "\n",
    "X_train, X_test, y_train, y_test = train_test_split(X1, y1, test_size=0.2)\n",
    "X.shape,y.shape,X1.shape,y1.shape"
   ]
  },
  {
   "cell_type": "code",
   "execution_count": 162,
   "metadata": {},
   "outputs": [
    {
     "data": {
      "text/plain": [
       "0    78299\n",
       "1    19317\n",
       "Name: Employeeturnover, dtype: int64"
      ]
     },
     "execution_count": 162,
     "metadata": {},
     "output_type": "execute_result"
    }
   ],
   "source": [
    "y.value_counts()"
   ]
  },
  {
   "cell_type": "code",
   "execution_count": 163,
   "metadata": {},
   "outputs": [
    {
     "data": {
      "text/plain": [
       "0    78299\n",
       "1    23489\n",
       "Name: Employeeturnover, dtype: int64"
      ]
     },
     "execution_count": 163,
     "metadata": {},
     "output_type": "execute_result"
    }
   ],
   "source": [
    "y1.value_counts()"
   ]
  },
  {
   "cell_type": "markdown",
   "metadata": {},
   "source": [
    "# DT"
   ]
  },
  {
   "cell_type": "code",
   "execution_count": 465,
   "metadata": {},
   "outputs": [
    {
     "name": "stdout",
     "output_type": "stream",
     "text": [
      "              precision    recall  f1-score   support\n",
      "\n",
      "           0       0.94      0.92      0.93     15645\n",
      "           1       0.76      0.80      0.78      4713\n",
      "\n",
      "    accuracy                           0.90     20358\n",
      "   macro avg       0.85      0.86      0.86     20358\n",
      "weighted avg       0.90      0.90      0.90     20358\n",
      "\n"
     ]
    },
    {
     "data": {
      "text/plain": [
       "array([[14456,  1189],\n",
       "       [  946,  3767]], dtype=int64)"
      ]
     },
     "execution_count": 465,
     "metadata": {},
     "output_type": "execute_result"
    }
   ],
   "source": [
    "DT=DecisionTreeClassifier()\n",
    "DT.fit(X_train,y_train)\n",
    "\n",
    "pred_test=DT.predict(X_test)\n",
    "print(metrics.classification_report(y_test,pred_test))\n",
    "\n",
    "metrics.confusion_matrix(y_test,pred_test)"
   ]
  },
  {
   "cell_type": "raw",
   "metadata": {},
   "source": [
    "print(metrics.classification_report(y0,DT.predict(X0)))\n",
    "metrics.f1_score(y0,DT.predict(X0))"
   ]
  },
  {
   "cell_type": "raw",
   "metadata": {},
   "source": [
    "cvs=cross_val_score(estimator=DT,X=X_train,y=y_train,cv=5,error_score='raise')\n",
    "cvs"
   ]
  },
  {
   "cell_type": "markdown",
   "metadata": {},
   "source": [
    "# RandomForestClassifier"
   ]
  },
  {
   "cell_type": "code",
   "execution_count": 49,
   "metadata": {},
   "outputs": [],
   "source": [
    "from sklearn.ensemble import RandomForestClassifier ,AdaBoostClassifier"
   ]
  },
  {
   "cell_type": "code",
   "execution_count": 466,
   "metadata": {},
   "outputs": [
    {
     "name": "stdout",
     "output_type": "stream",
     "text": [
      "              precision    recall  f1-score   support\n",
      "\n",
      "           0       0.92      0.98      0.95     15645\n",
      "           1       0.92      0.72      0.80      4713\n",
      "\n",
      "    accuracy                           0.92     20358\n",
      "   macro avg       0.92      0.85      0.88     20358\n",
      "weighted avg       0.92      0.92      0.92     20358\n",
      "\n"
     ]
    },
    {
     "data": {
      "text/plain": [
       "array([[15338,   307],\n",
       "       [ 1343,  3370]], dtype=int64)"
      ]
     },
     "execution_count": 466,
     "metadata": {},
     "output_type": "execute_result"
    }
   ],
   "source": [
    "RF=RandomForestClassifier(n_estimators=100)\n",
    "RF.fit(X_train,y_train)\n",
    "\n",
    "pred_test=RF.predict(X_test)\n",
    "print(metrics.classification_report(y_test,pred_test))\n",
    "metrics.confusion_matrix(y_test,pred_test)"
   ]
  },
  {
   "cell_type": "code",
   "execution_count": 164,
   "metadata": {},
   "outputs": [
    {
     "name": "stdout",
     "output_type": "stream",
     "text": [
      "              precision    recall  f1-score   support\n",
      "\n",
      "           0       0.92      0.98      0.95     15698\n",
      "           1       0.91      0.71      0.80      4660\n",
      "\n",
      "    accuracy                           0.92     20358\n",
      "   macro avg       0.92      0.85      0.87     20358\n",
      "weighted avg       0.92      0.92      0.92     20358\n",
      "\n"
     ]
    },
    {
     "data": {
      "text/plain": [
       "array([[15383,   315],\n",
       "       [ 1338,  3322]], dtype=int64)"
      ]
     },
     "execution_count": 164,
     "metadata": {},
     "output_type": "execute_result"
    }
   ],
   "source": [
    "RF2=RandomForestClassifier(n_estimators=100)\n",
    "RF2.fit(X_train,y_train)\n",
    "\n",
    "pred_test=RF2.predict(X_test)\n",
    "print(metrics.classification_report(y_test,pred_test))\n",
    "metrics.confusion_matrix(y_test,pred_test)"
   ]
  },
  {
   "cell_type": "code",
   "execution_count": 73,
   "metadata": {},
   "outputs": [],
   "source": [
    "from sklearn.model_selection import GridSearchCV, RandomizedSearchCV"
   ]
  },
  {
   "cell_type": "markdown",
   "metadata": {},
   "source": [
    "# LOGR"
   ]
  },
  {
   "cell_type": "code",
   "execution_count": 47,
   "metadata": {},
   "outputs": [],
   "source": [
    "from sklearn.model_selection import GridSearchCV, StratifiedKFold\n",
    "from sklearn.linear_model import LogisticRegression"
   ]
  },
  {
   "cell_type": "code",
   "execution_count": 52,
   "metadata": {},
   "outputs": [
    {
     "name": "stdout",
     "output_type": "stream",
     "text": [
      "Fitting 3 folds for each of 100 candidates, totalling 300 fits\n"
     ]
    },
    {
     "data": {
      "text/plain": [
       "Text(0.5, 1.0, 'Scoring for different class weights')"
      ]
     },
     "execution_count": 52,
     "metadata": {},
     "output_type": "execute_result"
    },
    {
     "data": {
      "image/png": "[encoded data removed]",
      "text/plain": [
       "<Figure size 864x576 with 1 Axes>"
      ]
     },
     "metadata": {},
     "output_type": "display_data"
    }
   ],
   "source": [
    "lr = LogisticRegression(solver='newton-cg')\n",
    "RF=RandomForestClassifier()\n",
    "#Setting the range for class weights\n",
    "weights = np.linspace(0.0,0.99,100)\n",
    "\n",
    "#Creating a dictionary grid for grid search\n",
    "param_grid = {'class_weight': [{0:x, 1:1.0-x} for x in weights]}\n",
    "\n",
    "#Fitting grid search to the train data with 5 folds\n",
    "gridsearch = GridSearchCV(estimator= RF, \n",
    "                          param_grid= param_grid,\n",
    "                          cv=StratifiedKFold(n_splits=3), \n",
    "                          n_jobs=-1, \n",
    "                          scoring='f1', \n",
    "                          verbose=3).fit(X_train, y_train)\n",
    "\n",
    "#Ploting the score for different values of weight\n",
    "sns.set_style('whitegrid')\n",
    "plt.figure(figsize=(12,8))\n",
    "weigh_data = pd.DataFrame({ 'score': gridsearch.cv_results_['mean_test_score'], 'weight': (1- weights)})\n",
    "sns.lineplot(weigh_data['weight'], weigh_data['score'])\n",
    "plt.xlabel('Weight for class 1')\n",
    "plt.ylabel('F1 score')\n",
    "plt.xticks([round(i/10,1) for i in range(0,11,1)])\n",
    "plt.title('Scoring for different class weights', fontsize=24)"
   ]
  },
  {
   "cell_type": "markdown",
   "metadata": {},
   "source": [
    "# XGBClassifier?"
   ]
  },
  {
   "cell_type": "code",
   "execution_count": 444,
   "metadata": {},
   "outputs": [],
   "source": [
    "from xgboost import XGBClassifier"
   ]
  },
  {
   "cell_type": "code",
   "execution_count": 490,
   "metadata": {},
   "outputs": [
    {
     "name": "stdout",
     "output_type": "stream",
     "text": [
      "[03:41:40] WARNING: C:/Users/Administrator/workspace/xgboost-win64_release_1.3.0/src/learner.cc:1061: Starting in XGBoost 1.3.0, the default evaluation metric used with the objective 'binary:logistic' was changed from 'error' to 'logloss'. Explicitly set eval_metric if you'd like to restore the old behavior.\n",
      "              precision    recall  f1-score   support\n",
      "\n",
      "           0       0.93      0.96      0.95     15645\n",
      "           1       0.86      0.76      0.81      4713\n",
      "\n",
      "    accuracy                           0.92     20358\n",
      "   macro avg       0.90      0.86      0.88     20358\n",
      "weighted avg       0.92      0.92      0.92     20358\n",
      "\n"
     ]
    },
    {
     "data": {
      "text/plain": [
       "array([[15074,   571],\n",
       "       [ 1113,  3600]], dtype=int64)"
      ]
     },
     "execution_count": 490,
     "metadata": {},
     "output_type": "execute_result"
    }
   ],
   "source": [
    "XGB=XGBClassifier(use_label_encoder=False,learning_rate=.15)\n",
    "XGB.fit(X_train,y_train)\n",
    "\n",
    "pred_test=XGB.predict(X_test)\n",
    "print(metrics.classification_report(y_test,pred_test))\n",
    "metrics.confusion_matrix(y_test,pred_test)"
   ]
  },
  {
   "cell_type": "markdown",
   "metadata": {},
   "source": [
    "# ADA"
   ]
  },
  {
   "cell_type": "code",
   "execution_count": 449,
   "metadata": {},
   "outputs": [
    {
     "name": "stdout",
     "output_type": "stream",
     "text": [
      "              precision    recall  f1-score   support\n",
      "\n",
      "           0       0.87      0.95      0.91     15552\n",
      "           1       0.77      0.55      0.64      4806\n",
      "\n",
      "    accuracy                           0.86     20358\n",
      "   macro avg       0.82      0.75      0.78     20358\n",
      "weighted avg       0.85      0.86      0.85     20358\n",
      "\n"
     ]
    },
    {
     "data": {
      "text/plain": [
       "array([[14767,   785],\n",
       "       [ 2153,  2653]], dtype=int64)"
      ]
     },
     "execution_count": 449,
     "metadata": {},
     "output_type": "execute_result"
    }
   ],
   "source": [
    "ada=AdaBoostClassifier()\n",
    "ada.fit(X_train,y_train)\n",
    "pred_test=ada.predict(X_test)\n",
    "print(metrics.classification_report(y_test,pred_test))\n",
    "metrics.confusion_matrix(y_test,pred_test)"
   ]
  },
  {
   "cell_type": "raw",
   "metadata": {},
   "source": [
    "print(metrics.classification_report(y0,ada.predict(X0)))\n",
    "metrics.f1_score(y0,ada.predict(X0))"
   ]
  },
  {
   "cell_type": "markdown",
   "metadata": {},
   "source": [
    "# Gradient "
   ]
  },
  {
   "cell_type": "code",
   "execution_count": 117,
   "metadata": {},
   "outputs": [],
   "source": [
    "GradientBoostingClassifier?"
   ]
  },
  {
   "cell_type": "code",
   "execution_count": 116,
   "metadata": {},
   "outputs": [],
   "source": [
    "from sklearn.ensemble import GradientBoostingClassifier"
   ]
  },
  {
   "cell_type": "code",
   "execution_count": 118,
   "metadata": {},
   "outputs": [
    {
     "name": "stdout",
     "output_type": "stream",
     "text": [
      "              precision    recall  f1-score   support\n",
      "\n",
      "           0       0.95      0.93      0.94     18691\n",
      "           1       0.89      0.91      0.90     11376\n",
      "\n",
      "    accuracy                           0.92     30067\n",
      "   macro avg       0.92      0.92      0.92     30067\n",
      "weighted avg       0.93      0.92      0.92     30067\n",
      "\n"
     ]
    },
    {
     "data": {
      "text/plain": [
       "array([[17403,  1288],\n",
       "       [  977, 10399]], dtype=int64)"
      ]
     },
     "execution_count": 118,
     "metadata": {},
     "output_type": "execute_result"
    }
   ],
   "source": [
    "Gb=GradientBoostingClassifier(n_estimators=250,learning_rate=.5)\n",
    "Gb.fit(X_train,y_train)\n",
    "pred_test=Gb.predict(X_test)\n",
    "print(metrics.classification_report(y_test,pred_test))\n",
    "metrics.confusion_matrix(y_test,pred_test)"
   ]
  },
  {
   "cell_type": "code",
   "execution_count": 119,
   "metadata": {},
   "outputs": [
    {
     "name": "stdout",
     "output_type": "stream",
     "text": [
      "              precision    recall  f1-score   support\n",
      "\n",
      "           0       0.97      0.93      0.95     15660\n",
      "           1       0.75      0.88      0.81      3864\n",
      "\n",
      "    accuracy                           0.92     19524\n",
      "   macro avg       0.86      0.91      0.88     19524\n",
      "weighted avg       0.93      0.92      0.92     19524\n",
      "\n"
     ]
    },
    {
     "data": {
      "text/plain": [
       "0.8130372492836677"
      ]
     },
     "execution_count": 119,
     "metadata": {},
     "output_type": "execute_result"
    }
   ],
   "source": [
    "print(metrics.classification_report(y0,Gb.predict(X0)))\n",
    "metrics.f1_score(y0,Gb.predict(X0))"
   ]
  },
  {
   "cell_type": "code",
   "execution_count": null,
   "metadata": {},
   "outputs": [],
   "source": []
  },
  {
   "cell_type": "markdown",
   "metadata": {},
   "source": [
    "# KNN"
   ]
  },
  {
   "cell_type": "code",
   "execution_count": 75,
   "metadata": {},
   "outputs": [],
   "source": [
    "from sklearn.neighbors import KNeighborsClassifier"
   ]
  },
  {
   "cell_type": "code",
   "execution_count": 76,
   "metadata": {},
   "outputs": [
    {
     "name": "stdout",
     "output_type": "stream",
     "text": [
      "              precision    recall  f1-score   support\n",
      "\n",
      "           0       0.95      0.80      0.87     18691\n",
      "           1       0.74      0.93      0.82     11376\n",
      "\n",
      "    accuracy                           0.85     30067\n",
      "   macro avg       0.84      0.87      0.85     30067\n",
      "weighted avg       0.87      0.85      0.85     30067\n",
      "\n"
     ]
    },
    {
     "data": {
      "text/plain": [
       "array([[14918,  3773],\n",
       "       [  762, 10614]], dtype=int64)"
      ]
     },
     "execution_count": 76,
     "metadata": {},
     "output_type": "execute_result"
    }
   ],
   "source": [
    "knn=KNeighborsClassifier(n_neighbors=7)\n",
    "knn.fit(X_train,y_train)\n",
    "pred_test=knn.predict(X_test)\n",
    "print(metrics.classification_report(y_test,pred_test))\n",
    "metrics.confusion_matrix(y_test,pred_test)"
   ]
  },
  {
   "cell_type": "code",
   "execution_count": 77,
   "metadata": {},
   "outputs": [
    {
     "name": "stdout",
     "output_type": "stream",
     "text": [
      "              precision    recall  f1-score   support\n",
      "\n",
      "           0       0.97      0.80      0.87     15660\n",
      "           1       0.52      0.89      0.66      3864\n",
      "\n",
      "    accuracy                           0.82     19524\n",
      "   macro avg       0.74      0.84      0.77     19524\n",
      "weighted avg       0.88      0.82      0.83     19524\n",
      "\n"
     ]
    },
    {
     "data": {
      "text/plain": [
       "0.6578619963632882"
      ]
     },
     "execution_count": 77,
     "metadata": {},
     "output_type": "execute_result"
    }
   ],
   "source": [
    "print(metrics.classification_report(y0,knn.predict(X0)))\n",
    "metrics.f1_score(y0,knn.predict(X0))"
   ]
  },
  {
   "cell_type": "code",
   "execution_count": null,
   "metadata": {},
   "outputs": [],
   "source": []
  },
  {
   "cell_type": "markdown",
   "metadata": {},
   "source": [
    "# ------------------------------------------------------------------------------------------"
   ]
  },
  {
   "cell_type": "code",
   "execution_count": 165,
   "metadata": {},
   "outputs": [],
   "source": [
    "s_X=new_test.drop('ID',axis=1)\n",
    "\n",
    "sub=new_test[['ID']].copy(deep=True)\n",
    "sub['Employeeturnover']=RF2.predict(s_X)"
   ]
  },
  {
   "cell_type": "code",
   "execution_count": null,
   "metadata": {},
   "outputs": [],
   "source": []
  },
  {
   "cell_type": "code",
   "execution_count": 167,
   "metadata": {},
   "outputs": [],
   "source": [
    "sub.set_index('ID').to_csv('Submissionfile.csv')"
   ]
  },
  {
   "cell_type": "code",
   "execution_count": 493,
   "metadata": {},
   "outputs": [
    {
     "data": {
      "text/plain": [
       "0    33838\n",
       "1     7998\n",
       "Name: Employeeturnover, dtype: int64"
      ]
     },
     "execution_count": 493,
     "metadata": {},
     "output_type": "execute_result"
    }
   ],
   "source": [
    "sub['Employeeturnover'].value_counts()#XGB"
   ]
  },
  {
   "cell_type": "code",
   "execution_count": 171,
   "metadata": {},
   "outputs": [
    {
     "data": {
      "text/plain": [
       "0    31345\n",
       "1    10491\n",
       "Name: Employeeturnover, dtype: int64"
      ]
     },
     "execution_count": 171,
     "metadata": {},
     "output_type": "execute_result"
    }
   ],
   "source": [
    "sub['Employeeturnover'].value_counts()#DT"
   ]
  },
  {
   "cell_type": "code",
   "execution_count": 166,
   "metadata": {},
   "outputs": [
    {
     "data": {
      "text/plain": [
       "0    34168\n",
       "1     7668\n",
       "Name: Employeeturnover, dtype: int64"
      ]
     },
     "execution_count": 166,
     "metadata": {},
     "output_type": "execute_result"
    }
   ],
   "source": [
    "sub['Employeeturnover'].value_counts()#RF"
   ]
  },
  {
   "cell_type": "code",
   "execution_count": 64,
   "metadata": {},
   "outputs": [
    {
     "data": {
      "text/plain": [
       "0    80.211236\n",
       "1    19.788764\n",
       "Name: Employeeturnover, dtype: float64"
      ]
     },
     "execution_count": 64,
     "metadata": {},
     "output_type": "execute_result"
    }
   ],
   "source": [
    "y.value_counts()/y.shape[0]*100"
   ]
  },
  {
   "cell_type": "code",
   "execution_count": 371,
   "metadata": {},
   "outputs": [
    {
     "data": {
      "text/plain": [
       "0.19052968735060713"
      ]
     },
     "execution_count": 371,
     "metadata": {},
     "output_type": "execute_result"
    }
   ],
   "source": [
    "7971/(33437+8399)"
   ]
  }
 ],
 "metadata": {
  "kernelspec": {
   "display_name": "Python 3",
   "language": "python",
   "name": "python3"
  },
  "language_info": {
   "codemirror_mode": {
    "name": "ipython",
    "version": 3
   },
   "file_extension": ".py",
   "mimetype": "text/x-python",
   "name": "python",
   "nbconvert_exporter": "python",
   "pygments_lexer": "ipython3",
   "version": "3.8.3"
  }
 },
 "nbformat": 4,
 "nbformat_minor": 4
}
