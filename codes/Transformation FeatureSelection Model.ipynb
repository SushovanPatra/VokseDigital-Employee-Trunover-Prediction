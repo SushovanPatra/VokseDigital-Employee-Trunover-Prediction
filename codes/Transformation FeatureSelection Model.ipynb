{
 "cells": [
  {
   "cell_type": "code",
   "execution_count": 1,
   "metadata": {},
   "outputs": [],
   "source": [
    "import pandas as pd\n",
    "import numpy as np\n",
    "import seaborn as sns\n",
    "import matplotlib.pyplot as plt\n",
    "\n",
    "train=pd.read_csv('train_imputed.csv').drop('Unnamed: 0',axis=1)\n",
    "test=pd.read_csv('test_imputed.csv').drop('Unnamed: 0',axis=1)"
   ]
  },
  {
   "cell_type": "code",
   "execution_count": 2,
   "metadata": {},
   "outputs": [
    {
     "data": {
      "text/html": [
       "<div>\n",
       "<style scoped>\n",
       "    .dataframe tbody tr th:only-of-type {\n",
       "        vertical-align: middle;\n",
       "    }\n",
       "\n",
       "    .dataframe tbody tr th {\n",
       "        vertical-align: top;\n",
       "    }\n",
       "\n",
       "    .dataframe thead th {\n",
       "        text-align: right;\n",
       "    }\n",
       "</style>\n",
       "<table border=\"1\" class=\"dataframe\">\n",
       "  <thead>\n",
       "    <tr style=\"text-align: right;\">\n",
       "      <th></th>\n",
       "      <th>ID</th>\n",
       "      <th>Age</th>\n",
       "      <th>Recently_upskilled</th>\n",
       "      <th>Region</th>\n",
       "      <th>RemoteWork</th>\n",
       "      <th>PercentSalaryIncrement</th>\n",
       "      <th>OfficeHours</th>\n",
       "      <th>StockOptionLevel</th>\n",
       "      <th>College_Tier</th>\n",
       "      <th>YearsSinceLastPromotion</th>\n",
       "      <th>...</th>\n",
       "      <th>Department</th>\n",
       "      <th>EnvironmentSatisfaction1</th>\n",
       "      <th>EnvironmentSatisfaction2</th>\n",
       "      <th>JobSatisfaction1</th>\n",
       "      <th>JobSatisfaction2</th>\n",
       "      <th>JobInvolvement1</th>\n",
       "      <th>JobInvolvement2</th>\n",
       "      <th>PerformanceRating1</th>\n",
       "      <th>PerformanceRating2</th>\n",
       "      <th>Employeeturnover</th>\n",
       "    </tr>\n",
       "  </thead>\n",
       "  <tbody>\n",
       "    <tr>\n",
       "      <th>0</th>\n",
       "      <td>45298</td>\n",
       "      <td>33</td>\n",
       "      <td>0</td>\n",
       "      <td>Chennai</td>\n",
       "      <td>0</td>\n",
       "      <td>15</td>\n",
       "      <td>9</td>\n",
       "      <td>1</td>\n",
       "      <td>2.0</td>\n",
       "      <td>1.0</td>\n",
       "      <td>...</td>\n",
       "      <td>Ops</td>\n",
       "      <td>3.0</td>\n",
       "      <td>3.0</td>\n",
       "      <td>4.0</td>\n",
       "      <td>2.0</td>\n",
       "      <td>2.0</td>\n",
       "      <td>2.0</td>\n",
       "      <td>2.0</td>\n",
       "      <td>3.0</td>\n",
       "      <td>0</td>\n",
       "    </tr>\n",
       "    <tr>\n",
       "      <th>1</th>\n",
       "      <td>172630</td>\n",
       "      <td>34</td>\n",
       "      <td>1</td>\n",
       "      <td>Delhi NCR</td>\n",
       "      <td>0</td>\n",
       "      <td>16</td>\n",
       "      <td>7</td>\n",
       "      <td>0</td>\n",
       "      <td>2.0</td>\n",
       "      <td>0.0</td>\n",
       "      <td>...</td>\n",
       "      <td>Finance</td>\n",
       "      <td>2.0</td>\n",
       "      <td>3.0</td>\n",
       "      <td>2.0</td>\n",
       "      <td>4.0</td>\n",
       "      <td>3.0</td>\n",
       "      <td>3.0</td>\n",
       "      <td>3.0</td>\n",
       "      <td>4.0</td>\n",
       "      <td>1</td>\n",
       "    </tr>\n",
       "    <tr>\n",
       "      <th>2</th>\n",
       "      <td>63754</td>\n",
       "      <td>33</td>\n",
       "      <td>1</td>\n",
       "      <td>Chennai</td>\n",
       "      <td>0</td>\n",
       "      <td>14</td>\n",
       "      <td>7</td>\n",
       "      <td>0</td>\n",
       "      <td>2.0</td>\n",
       "      <td>1.0</td>\n",
       "      <td>...</td>\n",
       "      <td>Sales</td>\n",
       "      <td>3.0</td>\n",
       "      <td>2.0</td>\n",
       "      <td>3.0</td>\n",
       "      <td>3.0</td>\n",
       "      <td>3.0</td>\n",
       "      <td>3.0</td>\n",
       "      <td>2.0</td>\n",
       "      <td>2.0</td>\n",
       "      <td>0</td>\n",
       "    </tr>\n",
       "    <tr>\n",
       "      <th>3</th>\n",
       "      <td>107105</td>\n",
       "      <td>38</td>\n",
       "      <td>0</td>\n",
       "      <td>Delhi NCR</td>\n",
       "      <td>0</td>\n",
       "      <td>10</td>\n",
       "      <td>7</td>\n",
       "      <td>1</td>\n",
       "      <td>2.0</td>\n",
       "      <td>1.0</td>\n",
       "      <td>...</td>\n",
       "      <td>Sales</td>\n",
       "      <td>4.0</td>\n",
       "      <td>4.0</td>\n",
       "      <td>2.0</td>\n",
       "      <td>3.0</td>\n",
       "      <td>3.0</td>\n",
       "      <td>2.0</td>\n",
       "      <td>3.0</td>\n",
       "      <td>3.0</td>\n",
       "      <td>0</td>\n",
       "    </tr>\n",
       "    <tr>\n",
       "      <th>4</th>\n",
       "      <td>173095</td>\n",
       "      <td>28</td>\n",
       "      <td>1</td>\n",
       "      <td>Hyderabad</td>\n",
       "      <td>0</td>\n",
       "      <td>16</td>\n",
       "      <td>7</td>\n",
       "      <td>0</td>\n",
       "      <td>2.0</td>\n",
       "      <td>0.0</td>\n",
       "      <td>...</td>\n",
       "      <td>Sales</td>\n",
       "      <td>1.0</td>\n",
       "      <td>2.0</td>\n",
       "      <td>4.0</td>\n",
       "      <td>3.0</td>\n",
       "      <td>3.0</td>\n",
       "      <td>4.0</td>\n",
       "      <td>3.0</td>\n",
       "      <td>4.0</td>\n",
       "      <td>1</td>\n",
       "    </tr>\n",
       "  </tbody>\n",
       "</table>\n",
       "<p>5 rows × 32 columns</p>\n",
       "</div>"
      ],
      "text/plain": [
       "       ID  Age  Recently_upskilled     Region  RemoteWork  \\\n",
       "0   45298   33                   0    Chennai           0   \n",
       "1  172630   34                   1  Delhi NCR           0   \n",
       "2   63754   33                   1    Chennai           0   \n",
       "3  107105   38                   0  Delhi NCR           0   \n",
       "4  173095   28                   1  Hyderabad           0   \n",
       "\n",
       "   PercentSalaryIncrement  OfficeHours  StockOptionLevel  College_Tier  \\\n",
       "0                      15            9                 1           2.0   \n",
       "1                      16            7                 0           2.0   \n",
       "2                      14            7                 0           2.0   \n",
       "3                      10            7                 1           2.0   \n",
       "4                      16            7                 0           2.0   \n",
       "\n",
       "   YearsSinceLastPromotion  ... Department EnvironmentSatisfaction1  \\\n",
       "0                      1.0  ...        Ops                      3.0   \n",
       "1                      0.0  ...    Finance                      2.0   \n",
       "2                      1.0  ...      Sales                      3.0   \n",
       "3                      1.0  ...      Sales                      4.0   \n",
       "4                      0.0  ...      Sales                      1.0   \n",
       "\n",
       "   EnvironmentSatisfaction2 JobSatisfaction1  JobSatisfaction2  \\\n",
       "0                       3.0              4.0               2.0   \n",
       "1                       3.0              2.0               4.0   \n",
       "2                       2.0              3.0               3.0   \n",
       "3                       4.0              2.0               3.0   \n",
       "4                       2.0              4.0               3.0   \n",
       "\n",
       "   JobInvolvement1  JobInvolvement2  PerformanceRating1  PerformanceRating2  \\\n",
       "0              2.0              2.0                 2.0                 3.0   \n",
       "1              3.0              3.0                 3.0                 4.0   \n",
       "2              3.0              3.0                 2.0                 2.0   \n",
       "3              3.0              2.0                 3.0                 3.0   \n",
       "4              3.0              4.0                 3.0                 4.0   \n",
       "\n",
       "   Employeeturnover  \n",
       "0                 0  \n",
       "1                 1  \n",
       "2                 0  \n",
       "3                 0  \n",
       "4                 1  \n",
       "\n",
       "[5 rows x 32 columns]"
      ]
     },
     "execution_count": 2,
     "metadata": {},
     "output_type": "execute_result"
    }
   ],
   "source": [
    "train.head()"
   ]
  },
  {
   "cell_type": "code",
   "execution_count": 3,
   "metadata": {},
   "outputs": [
    {
     "data": {
      "text/html": [
       "<div>\n",
       "<style scoped>\n",
       "    .dataframe tbody tr th:only-of-type {\n",
       "        vertical-align: middle;\n",
       "    }\n",
       "\n",
       "    .dataframe tbody tr th {\n",
       "        vertical-align: top;\n",
       "    }\n",
       "\n",
       "    .dataframe thead th {\n",
       "        text-align: right;\n",
       "    }\n",
       "</style>\n",
       "<table border=\"1\" class=\"dataframe\">\n",
       "  <thead>\n",
       "    <tr style=\"text-align: right;\">\n",
       "      <th></th>\n",
       "      <th>ID</th>\n",
       "      <th>Age</th>\n",
       "      <th>Recently_upskilled</th>\n",
       "      <th>Region</th>\n",
       "      <th>RemoteWork</th>\n",
       "      <th>PercentSalaryIncrement</th>\n",
       "      <th>OfficeHours</th>\n",
       "      <th>StockOptionLevel</th>\n",
       "      <th>College_Tier</th>\n",
       "      <th>YearsSinceLastPromotion</th>\n",
       "      <th>...</th>\n",
       "      <th>TrainingTimesLastYear</th>\n",
       "      <th>Department</th>\n",
       "      <th>EnvironmentSatisfaction1</th>\n",
       "      <th>EnvironmentSatisfaction2</th>\n",
       "      <th>JobSatisfaction1</th>\n",
       "      <th>JobSatisfaction2</th>\n",
       "      <th>JobInvolvement1</th>\n",
       "      <th>JobInvolvement2</th>\n",
       "      <th>PerformanceRating1</th>\n",
       "      <th>PerformanceRating2</th>\n",
       "    </tr>\n",
       "  </thead>\n",
       "  <tbody>\n",
       "    <tr>\n",
       "      <th>0</th>\n",
       "      <td>142055</td>\n",
       "      <td>43</td>\n",
       "      <td>0</td>\n",
       "      <td>Bangalore</td>\n",
       "      <td>0</td>\n",
       "      <td>13</td>\n",
       "      <td>8</td>\n",
       "      <td>1</td>\n",
       "      <td>3.0</td>\n",
       "      <td>2.0</td>\n",
       "      <td>...</td>\n",
       "      <td>3</td>\n",
       "      <td>HR</td>\n",
       "      <td>4.0</td>\n",
       "      <td>2.0</td>\n",
       "      <td>4.0</td>\n",
       "      <td>4.0</td>\n",
       "      <td>3.0</td>\n",
       "      <td>3.0</td>\n",
       "      <td>4.0</td>\n",
       "      <td>4.0</td>\n",
       "    </tr>\n",
       "    <tr>\n",
       "      <th>1</th>\n",
       "      <td>44367</td>\n",
       "      <td>35</td>\n",
       "      <td>0</td>\n",
       "      <td>Hyderabad</td>\n",
       "      <td>0</td>\n",
       "      <td>26</td>\n",
       "      <td>8</td>\n",
       "      <td>2</td>\n",
       "      <td>0.0</td>\n",
       "      <td>2.0</td>\n",
       "      <td>...</td>\n",
       "      <td>3</td>\n",
       "      <td>Sales</td>\n",
       "      <td>4.0</td>\n",
       "      <td>3.0</td>\n",
       "      <td>3.0</td>\n",
       "      <td>3.0</td>\n",
       "      <td>4.0</td>\n",
       "      <td>4.0</td>\n",
       "      <td>4.0</td>\n",
       "      <td>3.0</td>\n",
       "    </tr>\n",
       "    <tr>\n",
       "      <th>2</th>\n",
       "      <td>124144</td>\n",
       "      <td>29</td>\n",
       "      <td>0</td>\n",
       "      <td>Bangalore</td>\n",
       "      <td>0</td>\n",
       "      <td>23</td>\n",
       "      <td>7</td>\n",
       "      <td>2</td>\n",
       "      <td>2.0</td>\n",
       "      <td>0.0</td>\n",
       "      <td>...</td>\n",
       "      <td>2</td>\n",
       "      <td>Sales</td>\n",
       "      <td>4.0</td>\n",
       "      <td>3.0</td>\n",
       "      <td>4.0</td>\n",
       "      <td>3.0</td>\n",
       "      <td>3.0</td>\n",
       "      <td>2.0</td>\n",
       "      <td>4.0</td>\n",
       "      <td>3.0</td>\n",
       "    </tr>\n",
       "    <tr>\n",
       "      <th>3</th>\n",
       "      <td>110431</td>\n",
       "      <td>37</td>\n",
       "      <td>0</td>\n",
       "      <td>Bangalore</td>\n",
       "      <td>0</td>\n",
       "      <td>12</td>\n",
       "      <td>8</td>\n",
       "      <td>1</td>\n",
       "      <td>1.0</td>\n",
       "      <td>2.0</td>\n",
       "      <td>...</td>\n",
       "      <td>0</td>\n",
       "      <td>HR</td>\n",
       "      <td>4.0</td>\n",
       "      <td>3.0</td>\n",
       "      <td>3.0</td>\n",
       "      <td>3.0</td>\n",
       "      <td>4.0</td>\n",
       "      <td>3.0</td>\n",
       "      <td>4.0</td>\n",
       "      <td>3.0</td>\n",
       "    </tr>\n",
       "    <tr>\n",
       "      <th>4</th>\n",
       "      <td>174576</td>\n",
       "      <td>23</td>\n",
       "      <td>0</td>\n",
       "      <td>Delhi NCR</td>\n",
       "      <td>0</td>\n",
       "      <td>23</td>\n",
       "      <td>8</td>\n",
       "      <td>1</td>\n",
       "      <td>2.0</td>\n",
       "      <td>1.0</td>\n",
       "      <td>...</td>\n",
       "      <td>2</td>\n",
       "      <td>Sales</td>\n",
       "      <td>4.0</td>\n",
       "      <td>4.0</td>\n",
       "      <td>4.0</td>\n",
       "      <td>2.0</td>\n",
       "      <td>4.0</td>\n",
       "      <td>2.0</td>\n",
       "      <td>3.0</td>\n",
       "      <td>3.0</td>\n",
       "    </tr>\n",
       "  </tbody>\n",
       "</table>\n",
       "<p>5 rows × 31 columns</p>\n",
       "</div>"
      ],
      "text/plain": [
       "       ID  Age  Recently_upskilled     Region  RemoteWork  \\\n",
       "0  142055   43                   0  Bangalore           0   \n",
       "1   44367   35                   0  Hyderabad           0   \n",
       "2  124144   29                   0  Bangalore           0   \n",
       "3  110431   37                   0  Bangalore           0   \n",
       "4  174576   23                   0  Delhi NCR           0   \n",
       "\n",
       "   PercentSalaryIncrement  OfficeHours  StockOptionLevel  College_Tier  \\\n",
       "0                      13            8                 1           3.0   \n",
       "1                      26            8                 2           0.0   \n",
       "2                      23            7                 2           2.0   \n",
       "3                      12            8                 1           1.0   \n",
       "4                      23            8                 1           2.0   \n",
       "\n",
       "   YearsSinceLastPromotion  ... TrainingTimesLastYear Department  \\\n",
       "0                      2.0  ...                     3         HR   \n",
       "1                      2.0  ...                     3      Sales   \n",
       "2                      0.0  ...                     2      Sales   \n",
       "3                      2.0  ...                     0         HR   \n",
       "4                      1.0  ...                     2      Sales   \n",
       "\n",
       "   EnvironmentSatisfaction1 EnvironmentSatisfaction2  JobSatisfaction1  \\\n",
       "0                       4.0                      2.0               4.0   \n",
       "1                       4.0                      3.0               3.0   \n",
       "2                       4.0                      3.0               4.0   \n",
       "3                       4.0                      3.0               3.0   \n",
       "4                       4.0                      4.0               4.0   \n",
       "\n",
       "   JobSatisfaction2  JobInvolvement1  JobInvolvement2  PerformanceRating1  \\\n",
       "0               4.0              3.0              3.0                 4.0   \n",
       "1               3.0              4.0              4.0                 4.0   \n",
       "2               3.0              3.0              2.0                 4.0   \n",
       "3               3.0              4.0              3.0                 4.0   \n",
       "4               2.0              4.0              2.0                 3.0   \n",
       "\n",
       "   PerformanceRating2  \n",
       "0                 4.0  \n",
       "1                 3.0  \n",
       "2                 3.0  \n",
       "3                 3.0  \n",
       "4                 3.0  \n",
       "\n",
       "[5 rows x 31 columns]"
      ]
     },
     "execution_count": 3,
     "metadata": {},
     "output_type": "execute_result"
    }
   ],
   "source": [
    "test.head()"
   ]
  },
  {
   "cell_type": "code",
   "execution_count": 4,
   "metadata": {},
   "outputs": [
    {
     "data": {
      "text/plain": [
       "41836"
      ]
     },
     "execution_count": 4,
     "metadata": {},
     "output_type": "execute_result"
    }
   ],
   "source": [
    "test['NumCompaniesWorked'].value_counts().sum()"
   ]
  },
  {
   "cell_type": "code",
   "execution_count": 5,
   "metadata": {},
   "outputs": [
    {
     "data": {
      "text/plain": [
       "(41836, 31)"
      ]
     },
     "execution_count": 5,
     "metadata": {},
     "output_type": "execute_result"
    }
   ],
   "source": [
    "test.shape"
   ]
  },
  {
   "cell_type": "code",
   "execution_count": 6,
   "metadata": {},
   "outputs": [
    {
     "data": {
      "text/plain": [
       "ID                          0\n",
       "Age                         0\n",
       "Recently_upskilled          0\n",
       "Region                      0\n",
       "RemoteWork                  0\n",
       "PercentSalaryIncrement      0\n",
       "OfficeHours                 0\n",
       "StockOptionLevel            0\n",
       "College_Tier                0\n",
       "YearsSinceLastPromotion     0\n",
       "HighestEducation            0\n",
       "BusinessTravel              0\n",
       "JobLevel                    0\n",
       "MaritalStatus               0\n",
       "TotalWorkExp                0\n",
       "MonthlySalary               0\n",
       "yof joining                 0\n",
       "YearsWithCurrManager        0\n",
       "DistanceFromHome            0\n",
       "NumCompaniesWorked          0\n",
       "Gender                      0\n",
       "TrainingTimesLastYear       0\n",
       "Department                  0\n",
       "EnvironmentSatisfaction1    0\n",
       "EnvironmentSatisfaction2    0\n",
       "JobSatisfaction1            0\n",
       "JobSatisfaction2            0\n",
       "JobInvolvement1             0\n",
       "JobInvolvement2             0\n",
       "PerformanceRating1          0\n",
       "PerformanceRating2          0\n",
       "Employeeturnover            0\n",
       "dtype: int64"
      ]
     },
     "execution_count": 6,
     "metadata": {},
     "output_type": "execute_result"
    }
   ],
   "source": [
    "train.isna().sum()"
   ]
  },
  {
   "cell_type": "code",
   "execution_count": 7,
   "metadata": {},
   "outputs": [
    {
     "data": {
      "text/plain": [
       "ID                          0\n",
       "Age                         0\n",
       "Recently_upskilled          0\n",
       "Region                      0\n",
       "RemoteWork                  0\n",
       "PercentSalaryIncrement      0\n",
       "OfficeHours                 0\n",
       "StockOptionLevel            0\n",
       "College_Tier                0\n",
       "YearsSinceLastPromotion     0\n",
       "HighestEducation            0\n",
       "BusinessTravel              0\n",
       "JobLevel                    0\n",
       "MaritalStatus               0\n",
       "TotalWorkExp                0\n",
       "MonthlySalary               0\n",
       "yof joining                 0\n",
       "YearsWithCurrManager        0\n",
       "DistanceFromHome            0\n",
       "NumCompaniesWorked          0\n",
       "Gender                      0\n",
       "TrainingTimesLastYear       0\n",
       "Department                  0\n",
       "EnvironmentSatisfaction1    0\n",
       "EnvironmentSatisfaction2    0\n",
       "JobSatisfaction1            0\n",
       "JobSatisfaction2            0\n",
       "JobInvolvement1             0\n",
       "JobInvolvement2             0\n",
       "PerformanceRating1          0\n",
       "PerformanceRating2          0\n",
       "dtype: int64"
      ]
     },
     "execution_count": 7,
     "metadata": {},
     "output_type": "execute_result"
    }
   ],
   "source": [
    "test.isna().sum()"
   ]
  },
  {
   "cell_type": "code",
   "execution_count": 8,
   "metadata": {},
   "outputs": [
    {
     "data": {
      "text/plain": [
       "None          68977\n",
       "Frequently    19775\n",
       "Sometimes      8864\n",
       "Name: BusinessTravel, dtype: int64"
      ]
     },
     "execution_count": 8,
     "metadata": {},
     "output_type": "execute_result"
    }
   ],
   "source": [
    "train['BusinessTravel'].value_counts()"
   ]
  },
  {
   "cell_type": "code",
   "execution_count": 9,
   "metadata": {},
   "outputs": [],
   "source": [
    "train[['Recently_upskilled', 'Region', 'RemoteWork','PercentSalaryIncrement', 'OfficeHours', 'StockOptionLevel',\n",
    "       'College_Tier', 'YearsSinceLastPromotion', 'HighestEducation',\n",
    "       'BusinessTravel', 'JobLevel', 'MaritalStatus','YearsWithCurrManager','NumCompaniesWorked', 'Gender',\n",
    "       'TrainingTimesLastYear', 'Department','EnvironmentSatisfaction1',\n",
    "       'EnvironmentSatisfaction2', 'JobSatisfaction1', 'JobSatisfaction2',\n",
    "       'JobInvolvement1', 'JobInvolvement2', 'PerformanceRating1',\n",
    "       'PerformanceRating2', 'Employeeturnover']]=train[['Recently_upskilled', 'Region', 'RemoteWork','PercentSalaryIncrement', 'OfficeHours', 'StockOptionLevel',\n",
    "       'College_Tier', 'YearsSinceLastPromotion', 'HighestEducation',\n",
    "       'BusinessTravel', 'JobLevel', 'MaritalStatus','YearsWithCurrManager','NumCompaniesWorked', 'Gender',\n",
    "       'TrainingTimesLastYear', 'Department','EnvironmentSatisfaction1',\n",
    "       'EnvironmentSatisfaction2', 'JobSatisfaction1', 'JobSatisfaction2',\n",
    "       'JobInvolvement1', 'JobInvolvement2', 'PerformanceRating1',\n",
    "       'PerformanceRating2', 'Employeeturnover']].astype('object')\n",
    "\n",
    "test[['Recently_upskilled', 'Region', 'RemoteWork','PercentSalaryIncrement', 'OfficeHours', 'StockOptionLevel',\n",
    "       'College_Tier', 'YearsSinceLastPromotion', 'HighestEducation',\n",
    "       'BusinessTravel', 'JobLevel', 'MaritalStatus','YearsWithCurrManager','NumCompaniesWorked', 'Gender',\n",
    "       'TrainingTimesLastYear', 'Department','EnvironmentSatisfaction1',\n",
    "       'EnvironmentSatisfaction2', 'JobSatisfaction1', 'JobSatisfaction2',\n",
    "       'JobInvolvement1', 'JobInvolvement2', 'PerformanceRating1',\n",
    "       'PerformanceRating2']]=test[['Recently_upskilled', 'Region', 'RemoteWork','PercentSalaryIncrement', 'OfficeHours', 'StockOptionLevel',\n",
    "       'College_Tier', 'YearsSinceLastPromotion', 'HighestEducation',\n",
    "       'BusinessTravel', 'JobLevel', 'MaritalStatus','YearsWithCurrManager','NumCompaniesWorked', 'Gender',\n",
    "       'TrainingTimesLastYear', 'Department','EnvironmentSatisfaction1',\n",
    "       'EnvironmentSatisfaction2', 'JobSatisfaction1', 'JobSatisfaction2',\n",
    "       'JobInvolvement1', 'JobInvolvement2', 'PerformanceRating1',\n",
    "       'PerformanceRating2']].astype('object')"
   ]
  },
  {
   "cell_type": "markdown",
   "metadata": {},
   "source": [
    "## Transformation"
   ]
  },
  {
   "cell_type": "code",
   "execution_count": 10,
   "metadata": {},
   "outputs": [],
   "source": [
    "from sklearn.tree import DecisionTreeClassifier\n",
    "from sklearn.model_selection import train_test_split,cross_val_score,cross_val_predict\n",
    "from sklearn.preprocessing import LabelEncoder,StandardScaler\n",
    "le=LabelEncoder()\n",
    "ss=StandardScaler()\n",
    "from sklearn import metrics"
   ]
  },
  {
   "cell_type": "code",
   "execution_count": 11,
   "metadata": {},
   "outputs": [
    {
     "data": {
      "text/plain": [
       "(97616, 113)"
      ]
     },
     "execution_count": 11,
     "metadata": {},
     "output_type": "execute_result"
    }
   ],
   "source": [
    "cat=train.drop(['Employeeturnover'],axis=1).select_dtypes(include='object')\n",
    "catdum=pd.get_dummies(cat,drop_first=True)\n",
    "catdum.shape"
   ]
  },
  {
   "cell_type": "code",
   "execution_count": 12,
   "metadata": {},
   "outputs": [
    {
     "data": {
      "text/html": [
       "<div>\n",
       "<style scoped>\n",
       "    .dataframe tbody tr th:only-of-type {\n",
       "        vertical-align: middle;\n",
       "    }\n",
       "\n",
       "    .dataframe tbody tr th {\n",
       "        vertical-align: top;\n",
       "    }\n",
       "\n",
       "    .dataframe thead th {\n",
       "        text-align: right;\n",
       "    }\n",
       "</style>\n",
       "<table border=\"1\" class=\"dataframe\">\n",
       "  <thead>\n",
       "    <tr style=\"text-align: right;\">\n",
       "      <th></th>\n",
       "      <th>Age</th>\n",
       "      <th>TotalWorkExp</th>\n",
       "      <th>MonthlySalary</th>\n",
       "      <th>yof joining</th>\n",
       "      <th>DistanceFromHome</th>\n",
       "    </tr>\n",
       "  </thead>\n",
       "  <tbody>\n",
       "    <tr>\n",
       "      <th>0</th>\n",
       "      <td>33</td>\n",
       "      <td>4</td>\n",
       "      <td>12610</td>\n",
       "      <td>5</td>\n",
       "      <td>2</td>\n",
       "    </tr>\n",
       "    <tr>\n",
       "      <th>1</th>\n",
       "      <td>34</td>\n",
       "      <td>8</td>\n",
       "      <td>54840</td>\n",
       "      <td>5</td>\n",
       "      <td>4</td>\n",
       "    </tr>\n",
       "    <tr>\n",
       "      <th>2</th>\n",
       "      <td>33</td>\n",
       "      <td>8</td>\n",
       "      <td>22070</td>\n",
       "      <td>6</td>\n",
       "      <td>8</td>\n",
       "    </tr>\n",
       "    <tr>\n",
       "      <th>3</th>\n",
       "      <td>38</td>\n",
       "      <td>26</td>\n",
       "      <td>43672</td>\n",
       "      <td>3</td>\n",
       "      <td>3</td>\n",
       "    </tr>\n",
       "    <tr>\n",
       "      <th>4</th>\n",
       "      <td>28</td>\n",
       "      <td>3</td>\n",
       "      <td>68178</td>\n",
       "      <td>5</td>\n",
       "      <td>7</td>\n",
       "    </tr>\n",
       "  </tbody>\n",
       "</table>\n",
       "</div>"
      ],
      "text/plain": [
       "   Age  TotalWorkExp  MonthlySalary  yof joining  DistanceFromHome\n",
       "0   33             4          12610            5                 2\n",
       "1   34             8          54840            5                 4\n",
       "2   33             8          22070            6                 8\n",
       "3   38            26          43672            3                 3\n",
       "4   28             3          68178            5                 7"
      ]
     },
     "execution_count": 12,
     "metadata": {},
     "output_type": "execute_result"
    }
   ],
   "source": [
    "num=train.drop(['ID'],axis=1).select_dtypes(include=np.number)\n",
    "num.head()"
   ]
  },
  {
   "cell_type": "code",
   "execution_count": 13,
   "metadata": {},
   "outputs": [
    {
     "data": {
      "text/plain": [
       "(97616, 5)"
      ]
     },
     "execution_count": 13,
     "metadata": {},
     "output_type": "execute_result"
    }
   ],
   "source": [
    "num.shape"
   ]
  },
  {
   "cell_type": "code",
   "execution_count": 14,
   "metadata": {},
   "outputs": [
    {
     "data": {
      "text/plain": [
       "Age                 0.442330\n",
       "MonthlySalary       1.393678\n",
       "yof joining         2.013084\n",
       "DistanceFromHome    0.994063\n",
       "TotalWorkExp        1.211364\n",
       "dtype: float64"
      ]
     },
     "execution_count": 14,
     "metadata": {},
     "output_type": "execute_result"
    }
   ],
   "source": [
    "num[['Age','MonthlySalary','yof joining','DistanceFromHome','TotalWorkExp']].skew()"
   ]
  },
  {
   "cell_type": "code",
   "execution_count": 15,
   "metadata": {},
   "outputs": [
    {
     "data": {
      "text/plain": [
       "Age                -0.155728\n",
       "MonthlySalary       0.287770\n",
       "yof joining         0.051439\n",
       "DistanceFromHome   -0.288751\n",
       "TotalWorkExp             NaN\n",
       "dtype: float64"
      ]
     },
     "execution_count": 15,
     "metadata": {},
     "output_type": "execute_result"
    }
   ],
   "source": [
    "np.log(num[['Age','MonthlySalary','yof joining','DistanceFromHome','TotalWorkExp']]).skew()"
   ]
  },
  {
   "cell_type": "code",
   "execution_count": 16,
   "metadata": {},
   "outputs": [
    {
     "data": {
      "text/plain": [
       "Age                 0.053205\n",
       "MonthlySalary       0.686432\n",
       "yof joining         0.639678\n",
       "DistanceFromHome    0.168365\n",
       "TotalWorkExp       -0.682275\n",
       "dtype: float64"
      ]
     },
     "execution_count": 16,
     "metadata": {},
     "output_type": "execute_result"
    }
   ],
   "source": [
    "np.cbrt(num[['Age','MonthlySalary','yof joining','DistanceFromHome','TotalWorkExp']]).skew()"
   ]
  },
  {
   "cell_type": "code",
   "execution_count": 17,
   "metadata": {},
   "outputs": [
    {
     "data": {
      "text/plain": [
       "Age                 0.153802\n",
       "MonthlySalary       0.875289\n",
       "yof joining         0.958636\n",
       "DistanceFromHome    0.392931\n",
       "TotalWorkExp        0.142190\n",
       "dtype: float64"
      ]
     },
     "execution_count": 17,
     "metadata": {},
     "output_type": "execute_result"
    }
   ],
   "source": [
    "np.sqrt(num[['Age','MonthlySalary','yof joining','DistanceFromHome','TotalWorkExp']]).skew()"
   ]
  },
  {
   "cell_type": "code",
   "execution_count": 18,
   "metadata": {},
   "outputs": [],
   "source": [
    "num[['MonthlySalary','yof joining']]=np.log(num[['MonthlySalary','yof joining']])"
   ]
  },
  {
   "cell_type": "code",
   "execution_count": 19,
   "metadata": {},
   "outputs": [],
   "source": [
    "num[['Age','DistanceFromHome']]=np.cbrt(num[['Age','DistanceFromHome']])\n",
    "num[['TotalWorkExp']]=np.sqrt(num['TotalWorkExp'])"
   ]
  },
  {
   "cell_type": "code",
   "execution_count": 20,
   "metadata": {},
   "outputs": [],
   "source": [
    "num[num.columns]=ss.fit_transform(num)"
   ]
  },
  {
   "cell_type": "code",
   "execution_count": 21,
   "metadata": {},
   "outputs": [
    {
     "data": {
      "text/plain": [
       "(97616, 118)"
      ]
     },
     "execution_count": 21,
     "metadata": {},
     "output_type": "execute_result"
    }
   ],
   "source": [
    "X=pd.concat([catdum,num],axis=1)\n",
    "X.shape"
   ]
  },
  {
   "cell_type": "code",
   "execution_count": 22,
   "metadata": {},
   "outputs": [],
   "source": [
    "y=train['Employeeturnover'].astype('int')"
   ]
  },
  {
   "cell_type": "code",
   "execution_count": 23,
   "metadata": {},
   "outputs": [],
   "source": [
    "X_train, X_test, y_train, y_test = train_test_split(X, y, test_size=0.3, random_state=42)"
   ]
  },
  {
   "cell_type": "code",
   "execution_count": null,
   "metadata": {},
   "outputs": [],
   "source": []
  },
  {
   "cell_type": "code",
   "execution_count": 24,
   "metadata": {},
   "outputs": [
    {
     "data": {
      "text/plain": [
       "DecisionTreeClassifier()"
      ]
     },
     "execution_count": 24,
     "metadata": {},
     "output_type": "execute_result"
    }
   ],
   "source": [
    "DT=DecisionTreeClassifier()\n",
    "DT.fit(X_train,y_train)"
   ]
  },
  {
   "cell_type": "code",
   "execution_count": 25,
   "metadata": {},
   "outputs": [],
   "source": [
    "pred_test=DT.predict(X_test)"
   ]
  },
  {
   "cell_type": "code",
   "execution_count": 26,
   "metadata": {},
   "outputs": [
    {
     "data": {
      "text/plain": [
       "array([[20951,  2494],\n",
       "       [ 2318,  3522]], dtype=int64)"
      ]
     },
     "execution_count": 26,
     "metadata": {},
     "output_type": "execute_result"
    }
   ],
   "source": [
    "metrics.confusion_matrix(y_test,pred_test)"
   ]
  },
  {
   "cell_type": "code",
   "execution_count": 27,
   "metadata": {},
   "outputs": [
    {
     "name": "stdout",
     "output_type": "stream",
     "text": [
      "              precision    recall  f1-score   support\n",
      "\n",
      "           0       0.90      0.89      0.90     23445\n",
      "           1       0.59      0.60      0.59      5840\n",
      "\n",
      "    accuracy                           0.84     29285\n",
      "   macro avg       0.74      0.75      0.75     29285\n",
      "weighted avg       0.84      0.84      0.84     29285\n",
      "\n"
     ]
    }
   ],
   "source": [
    "print(metrics.classification_report(y_test,pred_test))"
   ]
  },
  {
   "cell_type": "code",
   "execution_count": null,
   "metadata": {},
   "outputs": [],
   "source": []
  },
  {
   "cell_type": "code",
   "execution_count": 28,
   "metadata": {},
   "outputs": [],
   "source": [
    "from sklearn.ensemble import AdaBoostClassifier"
   ]
  },
  {
   "cell_type": "code",
   "execution_count": 29,
   "metadata": {},
   "outputs": [
    {
     "data": {
      "text/plain": [
       "AdaBoostClassifier(learning_rate=0.1, n_estimators=150)"
      ]
     },
     "execution_count": 29,
     "metadata": {},
     "output_type": "execute_result"
    }
   ],
   "source": [
    "ADA=AdaBoostClassifier(n_estimators=150,learning_rate=.1)\n",
    "ADA.fit(X_train,y_train)"
   ]
  },
  {
   "cell_type": "code",
   "execution_count": 30,
   "metadata": {},
   "outputs": [
    {
     "name": "stdout",
     "output_type": "stream",
     "text": [
      "              precision    recall  f1-score   support\n",
      "\n",
      "           0       0.82      0.99      0.90     23445\n",
      "           1       0.78      0.15      0.25      5840\n",
      "\n",
      "    accuracy                           0.82     29285\n",
      "   macro avg       0.80      0.57      0.58     29285\n",
      "weighted avg       0.81      0.82      0.77     29285\n",
      "\n"
     ]
    },
    {
     "data": {
      "text/plain": [
       "array([[23191,   254],\n",
       "       [ 4960,   880]], dtype=int64)"
      ]
     },
     "execution_count": 30,
     "metadata": {},
     "output_type": "execute_result"
    }
   ],
   "source": [
    "pred_test=ADA.predict(X_test)\n",
    "print(metrics.classification_report(y_test,pred_test))\n",
    "metrics.confusion_matrix(y_test,pred_test)"
   ]
  },
  {
   "cell_type": "code",
   "execution_count": null,
   "metadata": {},
   "outputs": [],
   "source": []
  },
  {
   "cell_type": "code",
   "execution_count": null,
   "metadata": {},
   "outputs": [],
   "source": []
  },
  {
   "cell_type": "code",
   "execution_count": 31,
   "metadata": {},
   "outputs": [],
   "source": [
    "from xgboost import XGBClassifier"
   ]
  },
  {
   "cell_type": "code",
   "execution_count": 32,
   "metadata": {},
   "outputs": [
    {
     "name": "stdout",
     "output_type": "stream",
     "text": [
      "[00:30:17] WARNING: C:/Users/Administrator/workspace/xgboost-win64_release_1.3.0/src/learner.cc:541: \n",
      "Parameters: { n_estimator } might not be used.\n",
      "\n",
      "  This may not be accurate due to some parameters are only used in language bindings but\n",
      "  passed down to XGBoost core.  Or some parameters are not used but slip through this\n",
      "  verification. Please open an issue if you find above cases.\n",
      "\n",
      "\n",
      "[00:30:17] WARNING: C:/Users/Administrator/workspace/xgboost-win64_release_1.3.0/src/learner.cc:1061: Starting in XGBoost 1.3.0, the default evaluation metric used with the objective 'binary:logistic' was changed from 'error' to 'logloss'. Explicitly set eval_metric if you'd like to restore the old behavior.\n"
     ]
    },
    {
     "data": {
      "text/plain": [
       "XGBClassifier(base_score=0.5, booster='gbtree', colsample_bylevel=1,\n",
       "              colsample_bynode=1, colsample_bytree=1, gamma=1, gpu_id=-1,\n",
       "              importance_type='gain', interaction_constraints='',\n",
       "              learning_rate=0.01, max_delta_step=0, max_depth=6,\n",
       "              min_child_weight=0.5, missing=nan, monotone_constraints='()',\n",
       "              n_estimator=300, n_estimators=100, n_jobs=4, num_parallel_tree=1,\n",
       "              random_state=0, reg_alpha=0, reg_lambda=1, scale_pos_weight=1,\n",
       "              subsample=1, tree_method='exact', use_label_encoder=False,\n",
       "              validate_parameters=1, verbosity=None)"
      ]
     },
     "execution_count": 32,
     "metadata": {},
     "output_type": "execute_result"
    }
   ],
   "source": [
    "XGB=XGBClassifier(use_label_encoder=False,gamma=1,learning_rate=.01,min_child_weight=.5,n_estimator=300)\n",
    "XGB.fit(X_train,y_train)"
   ]
  },
  {
   "cell_type": "code",
   "execution_count": 33,
   "metadata": {},
   "outputs": [
    {
     "name": "stdout",
     "output_type": "stream",
     "text": [
      "              precision    recall  f1-score   support\n",
      "\n",
      "           0       0.84      0.98      0.91     23445\n",
      "           1       0.74      0.28      0.40      5840\n",
      "\n",
      "    accuracy                           0.84     29285\n",
      "   macro avg       0.79      0.63      0.65     29285\n",
      "weighted avg       0.82      0.84      0.81     29285\n",
      "\n"
     ]
    },
    {
     "data": {
      "text/plain": [
       "array([[22868,   577],\n",
       "       [ 4219,  1621]], dtype=int64)"
      ]
     },
     "execution_count": 33,
     "metadata": {},
     "output_type": "execute_result"
    }
   ],
   "source": [
    "pred_test=XGB.predict(X_test)\n",
    "print(metrics.classification_report(y_test,pred_test))\n",
    "metrics.confusion_matrix(y_test,pred_test)"
   ]
  },
  {
   "cell_type": "code",
   "execution_count": null,
   "metadata": {},
   "outputs": [],
   "source": []
  },
  {
   "cell_type": "code",
   "execution_count": null,
   "metadata": {},
   "outputs": [],
   "source": []
  },
  {
   "cell_type": "code",
   "execution_count": null,
   "metadata": {},
   "outputs": [],
   "source": []
  },
  {
   "cell_type": "code",
   "execution_count": null,
   "metadata": {},
   "outputs": [],
   "source": []
  },
  {
   "cell_type": "code",
   "execution_count": null,
   "metadata": {},
   "outputs": [],
   "source": []
  },
  {
   "cell_type": "code",
   "execution_count": 34,
   "metadata": {},
   "outputs": [],
   "source": [
    "from sklearn.ensemble import RandomForestClassifier"
   ]
  },
  {
   "cell_type": "code",
   "execution_count": 35,
   "metadata": {},
   "outputs": [
    {
     "data": {
      "text/plain": [
       "RandomForestClassifier(max_depth=8, n_estimators=350)"
      ]
     },
     "execution_count": 35,
     "metadata": {},
     "output_type": "execute_result"
    }
   ],
   "source": [
    "RF=RandomForestClassifier(n_estimators=350,max_depth=8,)\n",
    "RF.fit(X_train,y_train)"
   ]
  },
  {
   "cell_type": "code",
   "execution_count": 36,
   "metadata": {},
   "outputs": [
    {
     "name": "stdout",
     "output_type": "stream",
     "text": [
      "              precision    recall  f1-score   support\n",
      "\n",
      "           0       0.82      1.00      0.90     23445\n",
      "           1       0.92      0.09      0.17      5840\n",
      "\n",
      "    accuracy                           0.82     29285\n",
      "   macro avg       0.87      0.55      0.53     29285\n",
      "weighted avg       0.84      0.82      0.75     29285\n",
      "\n"
     ]
    },
    {
     "data": {
      "text/plain": [
       "array([[23394,    51],\n",
       "       [ 5287,   553]], dtype=int64)"
      ]
     },
     "execution_count": 36,
     "metadata": {},
     "output_type": "execute_result"
    }
   ],
   "source": [
    "pred_test=RF.predict(X_test)\n",
    "\n",
    "print(metrics.classification_report(y_test,pred_test))\n",
    "metrics.confusion_matrix(y_test,pred_test)\n"
   ]
  },
  {
   "cell_type": "code",
   "execution_count": null,
   "metadata": {},
   "outputs": [],
   "source": []
  },
  {
   "cell_type": "code",
   "execution_count": null,
   "metadata": {},
   "outputs": [],
   "source": []
  },
  {
   "cell_type": "code",
   "execution_count": null,
   "metadata": {},
   "outputs": [],
   "source": []
  },
  {
   "cell_type": "code",
   "execution_count": null,
   "metadata": {},
   "outputs": [],
   "source": []
  },
  {
   "cell_type": "code",
   "execution_count": null,
   "metadata": {},
   "outputs": [],
   "source": []
  },
  {
   "cell_type": "code",
   "execution_count": null,
   "metadata": {},
   "outputs": [],
   "source": []
  },
  {
   "cell_type": "markdown",
   "metadata": {},
   "source": [
    "# ------------------------------------------------------------------------------------------"
   ]
  },
  {
   "cell_type": "code",
   "execution_count": 37,
   "metadata": {},
   "outputs": [
    {
     "data": {
      "text/plain": [
       "(41836, 114)"
      ]
     },
     "execution_count": 37,
     "metadata": {},
     "output_type": "execute_result"
    }
   ],
   "source": [
    "c0=test.select_dtypes(include='object')\n",
    "c0dum=pd.get_dummies(c0,drop_first=True)\n",
    "c0dum.shape"
   ]
  },
  {
   "cell_type": "code",
   "execution_count": 38,
   "metadata": {},
   "outputs": [
    {
     "data": {
      "text/plain": [
       "114"
      ]
     },
     "execution_count": 38,
     "metadata": {},
     "output_type": "execute_result"
    }
   ],
   "source": [
    "len(c0dum.columns)"
   ]
  },
  {
   "cell_type": "code",
   "execution_count": 39,
   "metadata": {},
   "outputs": [
    {
     "data": {
      "text/plain": [
       "113"
      ]
     },
     "execution_count": 39,
     "metadata": {},
     "output_type": "execute_result"
    }
   ],
   "source": [
    "len(catdum.columns)"
   ]
  },
  {
   "cell_type": "code",
   "execution_count": 40,
   "metadata": {},
   "outputs": [
    {
     "data": {
      "text/plain": [
       "1.0     48487\n",
       "2.0     12710\n",
       "3.0      8953\n",
       "4.0      7186\n",
       "5.0      6126\n",
       "6.0      4268\n",
       "7.0      3690\n",
       "8.0      3330\n",
       "9.0      1807\n",
       "10.0     1059\n",
       "Name: NumCompaniesWorked, dtype: int64"
      ]
     },
     "execution_count": 40,
     "metadata": {},
     "output_type": "execute_result"
    }
   ],
   "source": [
    "train['NumCompaniesWorked'].value_counts()"
   ]
  },
  {
   "cell_type": "code",
   "execution_count": 41,
   "metadata": {},
   "outputs": [],
   "source": [
    "test['NumCompaniesWorked']=test['NumCompaniesWorked'].mask(test['NumCompaniesWorked']==0,1)"
   ]
  },
  {
   "cell_type": "code",
   "execution_count": 42,
   "metadata": {},
   "outputs": [
    {
     "data": {
      "text/plain": [
       "(41836, 113)"
      ]
     },
     "execution_count": 42,
     "metadata": {},
     "output_type": "execute_result"
    }
   ],
   "source": [
    "c0=test.select_dtypes(include='object')\n",
    "c0dum=pd.get_dummies(c0,drop_first=True)\n",
    "c0dum.shape"
   ]
  },
  {
   "cell_type": "code",
   "execution_count": 43,
   "metadata": {},
   "outputs": [
    {
     "data": {
      "text/html": [
       "<div>\n",
       "<style scoped>\n",
       "    .dataframe tbody tr th:only-of-type {\n",
       "        vertical-align: middle;\n",
       "    }\n",
       "\n",
       "    .dataframe tbody tr th {\n",
       "        vertical-align: top;\n",
       "    }\n",
       "\n",
       "    .dataframe thead th {\n",
       "        text-align: right;\n",
       "    }\n",
       "</style>\n",
       "<table border=\"1\" class=\"dataframe\">\n",
       "  <thead>\n",
       "    <tr style=\"text-align: right;\">\n",
       "      <th></th>\n",
       "      <th>Age</th>\n",
       "      <th>TotalWorkExp</th>\n",
       "      <th>MonthlySalary</th>\n",
       "      <th>yof joining</th>\n",
       "      <th>DistanceFromHome</th>\n",
       "    </tr>\n",
       "  </thead>\n",
       "  <tbody>\n",
       "    <tr>\n",
       "      <th>0</th>\n",
       "      <td>43</td>\n",
       "      <td>21</td>\n",
       "      <td>20730</td>\n",
       "      <td>5</td>\n",
       "      <td>3</td>\n",
       "    </tr>\n",
       "    <tr>\n",
       "      <th>1</th>\n",
       "      <td>35</td>\n",
       "      <td>12</td>\n",
       "      <td>131420</td>\n",
       "      <td>11</td>\n",
       "      <td>11</td>\n",
       "    </tr>\n",
       "    <tr>\n",
       "      <th>2</th>\n",
       "      <td>29</td>\n",
       "      <td>9</td>\n",
       "      <td>46481</td>\n",
       "      <td>6</td>\n",
       "      <td>7</td>\n",
       "    </tr>\n",
       "    <tr>\n",
       "      <th>3</th>\n",
       "      <td>37</td>\n",
       "      <td>18</td>\n",
       "      <td>106480</td>\n",
       "      <td>4</td>\n",
       "      <td>9</td>\n",
       "    </tr>\n",
       "    <tr>\n",
       "      <th>4</th>\n",
       "      <td>23</td>\n",
       "      <td>4</td>\n",
       "      <td>41890</td>\n",
       "      <td>6</td>\n",
       "      <td>8</td>\n",
       "    </tr>\n",
       "  </tbody>\n",
       "</table>\n",
       "</div>"
      ],
      "text/plain": [
       "   Age  TotalWorkExp  MonthlySalary  yof joining  DistanceFromHome\n",
       "0   43            21          20730            5                 3\n",
       "1   35            12         131420           11                11\n",
       "2   29             9          46481            6                 7\n",
       "3   37            18         106480            4                 9\n",
       "4   23             4          41890            6                 8"
      ]
     },
     "execution_count": 43,
     "metadata": {},
     "output_type": "execute_result"
    }
   ],
   "source": [
    "n0=test.drop(['ID'],axis=1).select_dtypes(include=np.number)\n",
    "n0.head()"
   ]
  },
  {
   "cell_type": "code",
   "execution_count": 44,
   "metadata": {},
   "outputs": [
    {
     "data": {
      "text/plain": [
       "(41836, 5)"
      ]
     },
     "execution_count": 44,
     "metadata": {},
     "output_type": "execute_result"
    }
   ],
   "source": [
    "n0.shape"
   ]
  },
  {
   "cell_type": "code",
   "execution_count": 45,
   "metadata": {},
   "outputs": [
    {
     "data": {
      "text/plain": [
       "Age                 0.424402\n",
       "MonthlySalary       1.407018\n",
       "yof joining         1.988753\n",
       "DistanceFromHome    1.010283\n",
       "TotalWorkExp        1.125518\n",
       "dtype: float64"
      ]
     },
     "execution_count": 45,
     "metadata": {},
     "output_type": "execute_result"
    }
   ],
   "source": [
    "n0[['Age','MonthlySalary','yof joining','DistanceFromHome','TotalWorkExp']].skew()"
   ]
  },
  {
   "cell_type": "code",
   "execution_count": 46,
   "metadata": {},
   "outputs": [
    {
     "data": {
      "text/plain": [
       "Age                -0.182915\n",
       "MonthlySalary       0.297544\n",
       "yof joining         0.084193\n",
       "DistanceFromHome   -0.280451\n",
       "TotalWorkExp             NaN\n",
       "dtype: float64"
      ]
     },
     "execution_count": 46,
     "metadata": {},
     "output_type": "execute_result"
    }
   ],
   "source": [
    "np.log(n0[['Age','MonthlySalary','yof joining','DistanceFromHome','TotalWorkExp']]).skew()"
   ]
  },
  {
   "cell_type": "code",
   "execution_count": 47,
   "metadata": {},
   "outputs": [
    {
     "data": {
      "text/plain": [
       "Age                 0.029463\n",
       "MonthlySalary       0.698744\n",
       "yof joining         0.664236\n",
       "DistanceFromHome    0.177431\n",
       "TotalWorkExp       -0.568933\n",
       "dtype: float64"
      ]
     },
     "execution_count": 47,
     "metadata": {},
     "output_type": "execute_result"
    }
   ],
   "source": [
    "np.cbrt(n0[['Age','MonthlySalary','yof joining','DistanceFromHome','TotalWorkExp']]).skew()"
   ]
  },
  {
   "cell_type": "code",
   "execution_count": 48,
   "metadata": {},
   "outputs": [
    {
     "data": {
      "text/plain": [
       "Age                 0.131626\n",
       "MonthlySalary       0.888274\n",
       "yof joining         0.974886\n",
       "DistanceFromHome    0.403323\n",
       "TotalWorkExp        0.152297\n",
       "dtype: float64"
      ]
     },
     "execution_count": 48,
     "metadata": {},
     "output_type": "execute_result"
    }
   ],
   "source": [
    "np.sqrt(n0[['Age','MonthlySalary','yof joining','DistanceFromHome','TotalWorkExp']]).skew()"
   ]
  },
  {
   "cell_type": "code",
   "execution_count": 49,
   "metadata": {},
   "outputs": [],
   "source": [
    "n0[['MonthlySalary','yof joining']]=np.log(n0[['MonthlySalary','yof joining']])"
   ]
  },
  {
   "cell_type": "code",
   "execution_count": 50,
   "metadata": {},
   "outputs": [],
   "source": [
    "n0[['Age','DistanceFromHome']]=np.cbrt(n0[['Age','DistanceFromHome']])\n",
    "n0[['TotalWorkExp']]=np.sqrt(n0['TotalWorkExp'])"
   ]
  },
  {
   "cell_type": "code",
   "execution_count": 51,
   "metadata": {},
   "outputs": [],
   "source": [
    "n0[n0.columns]=ss.transform(n0)\n"
   ]
  },
  {
   "cell_type": "code",
   "execution_count": 52,
   "metadata": {},
   "outputs": [
    {
     "data": {
      "text/plain": [
       "(41836, 118)"
      ]
     },
     "execution_count": 52,
     "metadata": {},
     "output_type": "execute_result"
    }
   ],
   "source": [
    "X0=pd.concat([c0dum,n0],axis=1)\n",
    "X0.shape"
   ]
  },
  {
   "cell_type": "code",
   "execution_count": 53,
   "metadata": {},
   "outputs": [],
   "source": [
    "submission=test[['ID']].copy(deep=True)\n",
    "submission['Employeeturnover']=XGB.predict(X0)"
   ]
  },
  {
   "cell_type": "code",
   "execution_count": 54,
   "metadata": {},
   "outputs": [],
   "source": [
    "submission.set_index('ID').to_csv('Submissionfile.csv')"
   ]
  },
  {
   "cell_type": "code",
   "execution_count": null,
   "metadata": {},
   "outputs": [],
   "source": []
  },
  {
   "cell_type": "code",
   "execution_count": 55,
   "metadata": {},
   "outputs": [
    {
     "data": {
      "text/plain": [
       "0    37134\n",
       "1     4702\n",
       "Name: Employeeturnover, dtype: int64"
      ]
     },
     "execution_count": 55,
     "metadata": {},
     "output_type": "execute_result"
    }
   ],
   "source": [
    "submission['Employeeturnover'].value_counts()"
   ]
  },
  {
   "cell_type": "code",
   "execution_count": null,
   "metadata": {},
   "outputs": [],
   "source": []
  },
  {
   "cell_type": "code",
   "execution_count": 56,
   "metadata": {},
   "outputs": [
    {
     "data": {
      "text/plain": [
       "0    37134\n",
       "1     4702\n",
       "Name: Employeeturnover, dtype: int64"
      ]
     },
     "execution_count": 56,
     "metadata": {},
     "output_type": "execute_result"
    }
   ],
   "source": [
    "submission['Employeeturnover'].value_counts()"
   ]
  },
  {
   "cell_type": "code",
   "execution_count": 57,
   "metadata": {},
   "outputs": [
    {
     "data": {
      "text/plain": [
       "0    78299\n",
       "1    19317\n",
       "Name: Employeeturnover, dtype: int64"
      ]
     },
     "execution_count": 57,
     "metadata": {},
     "output_type": "execute_result"
    }
   ],
   "source": [
    "train['Employeeturnover'].value_counts()"
   ]
  }
 ],
 "metadata": {
  "kernelspec": {
   "display_name": "Python 3",
   "language": "python",
   "name": "python3"
  },
  "language_info": {
   "codemirror_mode": {
    "name": "ipython",
    "version": 3
   },
   "file_extension": ".py",
   "mimetype": "text/x-python",
   "name": "python",
   "nbconvert_exporter": "python",
   "pygments_lexer": "ipython3",
   "version": "3.8.3"
  }
 },
 "nbformat": 4,
 "nbformat_minor": 4
}
