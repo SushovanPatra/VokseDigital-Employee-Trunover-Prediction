{
 "cells": [
  {
   "cell_type": "code",
   "execution_count": 1,
   "metadata": {},
   "outputs": [
    {
     "data": {
      "text/plain": [
       "((97616, 32), (41836, 31))"
      ]
     },
     "execution_count": 1,
     "metadata": {},
     "output_type": "execute_result"
    }
   ],
   "source": [
    "import pandas as pd\n",
    "import numpy as np\n",
    "import seaborn as sns\n",
    "import matplotlib.pyplot as plt\n",
    "\n",
    "train=pd.read_csv('Train_Data_ET.csv')\n",
    "\n",
    "test=pd.read_csv('Test_Data_ET.csv')\n",
    "\n",
    "train.shape,test.shape"
   ]
  },
  {
   "cell_type": "code",
   "execution_count": 2,
   "metadata": {},
   "outputs": [],
   "source": [
    "from sklearn.tree import DecisionTreeClassifier\n",
    "from sklearn.model_selection import train_test_split,cross_val_score,cross_val_predict\n",
    "from sklearn.preprocessing import LabelEncoder,StandardScaler,MinMaxScaler\n",
    "le=LabelEncoder()\n",
    "ms=MinMaxScaler()\n",
    "from sklearn import metrics"
   ]
  },
  {
   "cell_type": "code",
   "execution_count": 3,
   "metadata": {},
   "outputs": [
    {
     "data": {
      "text/html": [
       "<div>\n",
       "<style scoped>\n",
       "    .dataframe tbody tr th:only-of-type {\n",
       "        vertical-align: middle;\n",
       "    }\n",
       "\n",
       "    .dataframe tbody tr th {\n",
       "        vertical-align: top;\n",
       "    }\n",
       "\n",
       "    .dataframe thead th {\n",
       "        text-align: right;\n",
       "    }\n",
       "</style>\n",
       "<table border=\"1\" class=\"dataframe\">\n",
       "  <thead>\n",
       "    <tr style=\"text-align: right;\">\n",
       "      <th></th>\n",
       "      <th>ID</th>\n",
       "      <th>Age</th>\n",
       "      <th>Recently_upskilled</th>\n",
       "      <th>Region</th>\n",
       "      <th>RemoteWork</th>\n",
       "      <th>PercentSalaryIncrement</th>\n",
       "      <th>OfficeHours</th>\n",
       "      <th>StockOptionLevel</th>\n",
       "      <th>College_Tier</th>\n",
       "      <th>YearsSinceLastPromotion</th>\n",
       "      <th>...</th>\n",
       "      <th>Department</th>\n",
       "      <th>EnvironmentSatisfaction1</th>\n",
       "      <th>EnvironmentSatisfaction2</th>\n",
       "      <th>JobSatisfaction1</th>\n",
       "      <th>JobSatisfaction2</th>\n",
       "      <th>JobInvolvement1</th>\n",
       "      <th>JobInvolvement2</th>\n",
       "      <th>PerformanceRating1</th>\n",
       "      <th>PerformanceRating2</th>\n",
       "      <th>Employeeturnover</th>\n",
       "    </tr>\n",
       "  </thead>\n",
       "  <tbody>\n",
       "    <tr>\n",
       "      <th>0</th>\n",
       "      <td>45298</td>\n",
       "      <td>33</td>\n",
       "      <td>0</td>\n",
       "      <td>Chennai</td>\n",
       "      <td>0</td>\n",
       "      <td>15</td>\n",
       "      <td>9</td>\n",
       "      <td>1</td>\n",
       "      <td>Tier-3</td>\n",
       "      <td>1.0</td>\n",
       "      <td>...</td>\n",
       "      <td>Ops</td>\n",
       "      <td>NaN</td>\n",
       "      <td>3.0</td>\n",
       "      <td>4.0</td>\n",
       "      <td>2.0</td>\n",
       "      <td>2.0</td>\n",
       "      <td>2.0</td>\n",
       "      <td>2.0</td>\n",
       "      <td>3.0</td>\n",
       "      <td>0</td>\n",
       "    </tr>\n",
       "    <tr>\n",
       "      <th>1</th>\n",
       "      <td>172630</td>\n",
       "      <td>34</td>\n",
       "      <td>1</td>\n",
       "      <td>Delhi NCR</td>\n",
       "      <td>0</td>\n",
       "      <td>16</td>\n",
       "      <td>7</td>\n",
       "      <td>0</td>\n",
       "      <td>Tier-3</td>\n",
       "      <td>NaN</td>\n",
       "      <td>...</td>\n",
       "      <td>Finance</td>\n",
       "      <td>2.0</td>\n",
       "      <td>3.0</td>\n",
       "      <td>2.0</td>\n",
       "      <td>NaN</td>\n",
       "      <td>3.0</td>\n",
       "      <td>NaN</td>\n",
       "      <td>NaN</td>\n",
       "      <td>NaN</td>\n",
       "      <td>1</td>\n",
       "    </tr>\n",
       "    <tr>\n",
       "      <th>2</th>\n",
       "      <td>63754</td>\n",
       "      <td>33</td>\n",
       "      <td>1</td>\n",
       "      <td>Chennai</td>\n",
       "      <td>0</td>\n",
       "      <td>14</td>\n",
       "      <td>7</td>\n",
       "      <td>0</td>\n",
       "      <td>Tier-3</td>\n",
       "      <td>1.0</td>\n",
       "      <td>...</td>\n",
       "      <td>Sales</td>\n",
       "      <td>NaN</td>\n",
       "      <td>2.0</td>\n",
       "      <td>3.0</td>\n",
       "      <td>NaN</td>\n",
       "      <td>3.0</td>\n",
       "      <td>NaN</td>\n",
       "      <td>2.0</td>\n",
       "      <td>2.0</td>\n",
       "      <td>0</td>\n",
       "    </tr>\n",
       "    <tr>\n",
       "      <th>3</th>\n",
       "      <td>107105</td>\n",
       "      <td>38</td>\n",
       "      <td>0</td>\n",
       "      <td>Delhi NCR</td>\n",
       "      <td>0</td>\n",
       "      <td>10</td>\n",
       "      <td>7</td>\n",
       "      <td>1</td>\n",
       "      <td>Tier-3</td>\n",
       "      <td>NaN</td>\n",
       "      <td>...</td>\n",
       "      <td>Sales</td>\n",
       "      <td>4.0</td>\n",
       "      <td>4.0</td>\n",
       "      <td>2.0</td>\n",
       "      <td>NaN</td>\n",
       "      <td>NaN</td>\n",
       "      <td>2.0</td>\n",
       "      <td>3.0</td>\n",
       "      <td>NaN</td>\n",
       "      <td>0</td>\n",
       "    </tr>\n",
       "    <tr>\n",
       "      <th>4</th>\n",
       "      <td>173095</td>\n",
       "      <td>28</td>\n",
       "      <td>1</td>\n",
       "      <td>Hyderabad</td>\n",
       "      <td>0</td>\n",
       "      <td>16</td>\n",
       "      <td>7</td>\n",
       "      <td>0</td>\n",
       "      <td>Tier-3</td>\n",
       "      <td>0.0</td>\n",
       "      <td>...</td>\n",
       "      <td>Sales</td>\n",
       "      <td>1.0</td>\n",
       "      <td>2.0</td>\n",
       "      <td>4.0</td>\n",
       "      <td>NaN</td>\n",
       "      <td>3.0</td>\n",
       "      <td>NaN</td>\n",
       "      <td>3.0</td>\n",
       "      <td>4.0</td>\n",
       "      <td>1</td>\n",
       "    </tr>\n",
       "  </tbody>\n",
       "</table>\n",
       "<p>5 rows × 32 columns</p>\n",
       "</div>"
      ],
      "text/plain": [
       "       ID  Age  Recently_upskilled     Region  RemoteWork  \\\n",
       "0   45298   33                   0    Chennai           0   \n",
       "1  172630   34                   1  Delhi NCR           0   \n",
       "2   63754   33                   1    Chennai           0   \n",
       "3  107105   38                   0  Delhi NCR           0   \n",
       "4  173095   28                   1  Hyderabad           0   \n",
       "\n",
       "   PercentSalaryIncrement  OfficeHours  StockOptionLevel College_Tier  \\\n",
       "0                      15            9                 1       Tier-3   \n",
       "1                      16            7                 0       Tier-3   \n",
       "2                      14            7                 0       Tier-3   \n",
       "3                      10            7                 1       Tier-3   \n",
       "4                      16            7                 0       Tier-3   \n",
       "\n",
       "   YearsSinceLastPromotion  ... Department EnvironmentSatisfaction1  \\\n",
       "0                      1.0  ...        Ops                      NaN   \n",
       "1                      NaN  ...    Finance                      2.0   \n",
       "2                      1.0  ...      Sales                      NaN   \n",
       "3                      NaN  ...      Sales                      4.0   \n",
       "4                      0.0  ...      Sales                      1.0   \n",
       "\n",
       "   EnvironmentSatisfaction2 JobSatisfaction1  JobSatisfaction2  \\\n",
       "0                       3.0              4.0               2.0   \n",
       "1                       3.0              2.0               NaN   \n",
       "2                       2.0              3.0               NaN   \n",
       "3                       4.0              2.0               NaN   \n",
       "4                       2.0              4.0               NaN   \n",
       "\n",
       "   JobInvolvement1  JobInvolvement2  PerformanceRating1  PerformanceRating2  \\\n",
       "0              2.0              2.0                 2.0                 3.0   \n",
       "1              3.0              NaN                 NaN                 NaN   \n",
       "2              3.0              NaN                 2.0                 2.0   \n",
       "3              NaN              2.0                 3.0                 NaN   \n",
       "4              3.0              NaN                 3.0                 4.0   \n",
       "\n",
       "   Employeeturnover  \n",
       "0                 0  \n",
       "1                 1  \n",
       "2                 0  \n",
       "3                 0  \n",
       "4                 1  \n",
       "\n",
       "[5 rows x 32 columns]"
      ]
     },
     "execution_count": 3,
     "metadata": {},
     "output_type": "execute_result"
    }
   ],
   "source": [
    "train.head()"
   ]
  },
  {
   "cell_type": "code",
   "execution_count": 4,
   "metadata": {},
   "outputs": [
    {
     "data": {
      "text/html": [
       "<div>\n",
       "<style scoped>\n",
       "    .dataframe tbody tr th:only-of-type {\n",
       "        vertical-align: middle;\n",
       "    }\n",
       "\n",
       "    .dataframe tbody tr th {\n",
       "        vertical-align: top;\n",
       "    }\n",
       "\n",
       "    .dataframe thead th {\n",
       "        text-align: right;\n",
       "    }\n",
       "</style>\n",
       "<table border=\"1\" class=\"dataframe\">\n",
       "  <thead>\n",
       "    <tr style=\"text-align: right;\">\n",
       "      <th></th>\n",
       "      <th>ID</th>\n",
       "      <th>Age</th>\n",
       "      <th>Recently_upskilled</th>\n",
       "      <th>Region</th>\n",
       "      <th>RemoteWork</th>\n",
       "      <th>PercentSalaryIncrement</th>\n",
       "      <th>OfficeHours</th>\n",
       "      <th>StockOptionLevel</th>\n",
       "      <th>College_Tier</th>\n",
       "      <th>YearsSinceLastPromotion</th>\n",
       "      <th>...</th>\n",
       "      <th>TrainingTimesLastYear</th>\n",
       "      <th>Department</th>\n",
       "      <th>EnvironmentSatisfaction1</th>\n",
       "      <th>EnvironmentSatisfaction2</th>\n",
       "      <th>JobSatisfaction1</th>\n",
       "      <th>JobSatisfaction2</th>\n",
       "      <th>JobInvolvement1</th>\n",
       "      <th>JobInvolvement2</th>\n",
       "      <th>PerformanceRating1</th>\n",
       "      <th>PerformanceRating2</th>\n",
       "    </tr>\n",
       "  </thead>\n",
       "  <tbody>\n",
       "    <tr>\n",
       "      <th>0</th>\n",
       "      <td>142055</td>\n",
       "      <td>43</td>\n",
       "      <td>0</td>\n",
       "      <td>Bangalore</td>\n",
       "      <td>0</td>\n",
       "      <td>13</td>\n",
       "      <td>8</td>\n",
       "      <td>1</td>\n",
       "      <td>NaN</td>\n",
       "      <td>2.0</td>\n",
       "      <td>...</td>\n",
       "      <td>3</td>\n",
       "      <td>HR</td>\n",
       "      <td>4.0</td>\n",
       "      <td>2.0</td>\n",
       "      <td>4.0</td>\n",
       "      <td>4.0</td>\n",
       "      <td>NaN</td>\n",
       "      <td>3.0</td>\n",
       "      <td>4.0</td>\n",
       "      <td>4.0</td>\n",
       "    </tr>\n",
       "    <tr>\n",
       "      <th>1</th>\n",
       "      <td>44367</td>\n",
       "      <td>35</td>\n",
       "      <td>0</td>\n",
       "      <td>Hyderabad</td>\n",
       "      <td>0</td>\n",
       "      <td>26</td>\n",
       "      <td>8</td>\n",
       "      <td>2</td>\n",
       "      <td>Tier-1</td>\n",
       "      <td>2.0</td>\n",
       "      <td>...</td>\n",
       "      <td>3</td>\n",
       "      <td>Sales</td>\n",
       "      <td>4.0</td>\n",
       "      <td>3.0</td>\n",
       "      <td>3.0</td>\n",
       "      <td>3.0</td>\n",
       "      <td>4.0</td>\n",
       "      <td>4.0</td>\n",
       "      <td>4.0</td>\n",
       "      <td>3.0</td>\n",
       "    </tr>\n",
       "    <tr>\n",
       "      <th>2</th>\n",
       "      <td>124144</td>\n",
       "      <td>29</td>\n",
       "      <td>0</td>\n",
       "      <td>Bangalore</td>\n",
       "      <td>0</td>\n",
       "      <td>23</td>\n",
       "      <td>7</td>\n",
       "      <td>2</td>\n",
       "      <td>Tier-3</td>\n",
       "      <td>0.0</td>\n",
       "      <td>...</td>\n",
       "      <td>2</td>\n",
       "      <td>Sales</td>\n",
       "      <td>4.0</td>\n",
       "      <td>NaN</td>\n",
       "      <td>4.0</td>\n",
       "      <td>3.0</td>\n",
       "      <td>3.0</td>\n",
       "      <td>2.0</td>\n",
       "      <td>4.0</td>\n",
       "      <td>3.0</td>\n",
       "    </tr>\n",
       "    <tr>\n",
       "      <th>3</th>\n",
       "      <td>110431</td>\n",
       "      <td>37</td>\n",
       "      <td>0</td>\n",
       "      <td>Bangalore</td>\n",
       "      <td>0</td>\n",
       "      <td>12</td>\n",
       "      <td>8</td>\n",
       "      <td>1</td>\n",
       "      <td>Tier-2</td>\n",
       "      <td>NaN</td>\n",
       "      <td>...</td>\n",
       "      <td>0</td>\n",
       "      <td>HR</td>\n",
       "      <td>4.0</td>\n",
       "      <td>3.0</td>\n",
       "      <td>NaN</td>\n",
       "      <td>NaN</td>\n",
       "      <td>4.0</td>\n",
       "      <td>3.0</td>\n",
       "      <td>4.0</td>\n",
       "      <td>3.0</td>\n",
       "    </tr>\n",
       "    <tr>\n",
       "      <th>4</th>\n",
       "      <td>174576</td>\n",
       "      <td>23</td>\n",
       "      <td>0</td>\n",
       "      <td>Delhi NCR</td>\n",
       "      <td>0</td>\n",
       "      <td>23</td>\n",
       "      <td>8</td>\n",
       "      <td>1</td>\n",
       "      <td>Tier-3</td>\n",
       "      <td>1.0</td>\n",
       "      <td>...</td>\n",
       "      <td>2</td>\n",
       "      <td>Sales</td>\n",
       "      <td>4.0</td>\n",
       "      <td>4.0</td>\n",
       "      <td>4.0</td>\n",
       "      <td>2.0</td>\n",
       "      <td>4.0</td>\n",
       "      <td>2.0</td>\n",
       "      <td>3.0</td>\n",
       "      <td>3.0</td>\n",
       "    </tr>\n",
       "  </tbody>\n",
       "</table>\n",
       "<p>5 rows × 31 columns</p>\n",
       "</div>"
      ],
      "text/plain": [
       "       ID  Age  Recently_upskilled     Region  RemoteWork  \\\n",
       "0  142055   43                   0  Bangalore           0   \n",
       "1   44367   35                   0  Hyderabad           0   \n",
       "2  124144   29                   0  Bangalore           0   \n",
       "3  110431   37                   0  Bangalore           0   \n",
       "4  174576   23                   0  Delhi NCR           0   \n",
       "\n",
       "   PercentSalaryIncrement  OfficeHours  StockOptionLevel College_Tier  \\\n",
       "0                      13            8                 1          NaN   \n",
       "1                      26            8                 2       Tier-1   \n",
       "2                      23            7                 2       Tier-3   \n",
       "3                      12            8                 1       Tier-2   \n",
       "4                      23            8                 1       Tier-3   \n",
       "\n",
       "   YearsSinceLastPromotion  ... TrainingTimesLastYear Department  \\\n",
       "0                      2.0  ...                     3         HR   \n",
       "1                      2.0  ...                     3      Sales   \n",
       "2                      0.0  ...                     2      Sales   \n",
       "3                      NaN  ...                     0         HR   \n",
       "4                      1.0  ...                     2      Sales   \n",
       "\n",
       "   EnvironmentSatisfaction1 EnvironmentSatisfaction2  JobSatisfaction1  \\\n",
       "0                       4.0                      2.0               4.0   \n",
       "1                       4.0                      3.0               3.0   \n",
       "2                       4.0                      NaN               4.0   \n",
       "3                       4.0                      3.0               NaN   \n",
       "4                       4.0                      4.0               4.0   \n",
       "\n",
       "   JobSatisfaction2  JobInvolvement1  JobInvolvement2  PerformanceRating1  \\\n",
       "0               4.0              NaN              3.0                 4.0   \n",
       "1               3.0              4.0              4.0                 4.0   \n",
       "2               3.0              3.0              2.0                 4.0   \n",
       "3               NaN              4.0              3.0                 4.0   \n",
       "4               2.0              4.0              2.0                 3.0   \n",
       "\n",
       "   PerformanceRating2  \n",
       "0                 4.0  \n",
       "1                 3.0  \n",
       "2                 3.0  \n",
       "3                 3.0  \n",
       "4                 3.0  \n",
       "\n",
       "[5 rows x 31 columns]"
      ]
     },
     "execution_count": 4,
     "metadata": {},
     "output_type": "execute_result"
    }
   ],
   "source": [
    "test.head()"
   ]
  },
  {
   "cell_type": "code",
   "execution_count": 5,
   "metadata": {
    "scrolled": true
   },
   "outputs": [
    {
     "data": {
      "text/plain": [
       "ID                              0\n",
       "Age                             0\n",
       "Recently_upskilled              0\n",
       "Region                          0\n",
       "RemoteWork                      0\n",
       "PercentSalaryIncrement          0\n",
       "OfficeHours                     0\n",
       "StockOptionLevel                0\n",
       "College_Tier                 2906\n",
       "YearsSinceLastPromotion     16387\n",
       "HighestEducation                0\n",
       "BusinessTravel                  0\n",
       "JobLevel                        0\n",
       "MaritalStatus                   0\n",
       "TotalWorkExp                    0\n",
       "MonthlySalary                   0\n",
       "yof joining                     0\n",
       "YearsWithCurrManager            0\n",
       "DistanceFromHome                0\n",
       "NumCompaniesWorked           2872\n",
       "Gender                          0\n",
       "TrainingTimesLastYear           0\n",
       "Department                      0\n",
       "EnvironmentSatisfaction1     7086\n",
       "EnvironmentSatisfaction2     8507\n",
       "JobSatisfaction1             7086\n",
       "JobSatisfaction2             8569\n",
       "JobInvolvement1              7111\n",
       "JobInvolvement2              8546\n",
       "PerformanceRating1           7102\n",
       "PerformanceRating2           8536\n",
       "Employeeturnover                0\n",
       "dtype: int64"
      ]
     },
     "execution_count": 5,
     "metadata": {},
     "output_type": "execute_result"
    }
   ],
   "source": [
    "train.isna().sum()"
   ]
  },
  {
   "cell_type": "code",
   "execution_count": 6,
   "metadata": {},
   "outputs": [
    {
     "data": {
      "text/plain": [
       "ID                             0\n",
       "Age                            0\n",
       "Recently_upskilled             0\n",
       "Region                         0\n",
       "RemoteWork                     0\n",
       "PercentSalaryIncrement         0\n",
       "OfficeHours                    0\n",
       "StockOptionLevel               0\n",
       "College_Tier                1297\n",
       "YearsSinceLastPromotion     7009\n",
       "HighestEducation               0\n",
       "BusinessTravel                 0\n",
       "JobLevel                       0\n",
       "MaritalStatus                  0\n",
       "TotalWorkExp                   0\n",
       "MonthlySalary                  0\n",
       "yof joining                    0\n",
       "YearsWithCurrManager           0\n",
       "DistanceFromHome               0\n",
       "NumCompaniesWorked          1363\n",
       "Gender                         0\n",
       "TrainingTimesLastYear          0\n",
       "Department                     0\n",
       "EnvironmentSatisfaction1    2242\n",
       "EnvironmentSatisfaction2    6129\n",
       "JobSatisfaction1            2228\n",
       "JobSatisfaction2            6162\n",
       "JobInvolvement1             2250\n",
       "JobInvolvement2             6166\n",
       "PerformanceRating1          2196\n",
       "PerformanceRating2          6108\n",
       "dtype: int64"
      ]
     },
     "execution_count": 6,
     "metadata": {},
     "output_type": "execute_result"
    }
   ],
   "source": [
    "test.isna().sum()"
   ]
  },
  {
   "cell_type": "code",
   "execution_count": 7,
   "metadata": {},
   "outputs": [
    {
     "data": {
      "text/plain": [
       "(139452, 31)"
      ]
     },
     "execution_count": 7,
     "metadata": {},
     "output_type": "execute_result"
    }
   ],
   "source": [
    "data=pd.concat([train.drop(['Employeeturnover'],axis=1),test],axis=0).reset_index(drop=True)\n",
    "data.shape"
   ]
  },
  {
   "cell_type": "code",
   "execution_count": 8,
   "metadata": {},
   "outputs": [
    {
     "data": {
      "text/plain": [
       "ID                              0\n",
       "Age                             0\n",
       "Recently_upskilled              0\n",
       "Region                          0\n",
       "RemoteWork                      0\n",
       "PercentSalaryIncrement          0\n",
       "OfficeHours                     0\n",
       "StockOptionLevel                0\n",
       "College_Tier                 4203\n",
       "YearsSinceLastPromotion     23396\n",
       "HighestEducation                0\n",
       "BusinessTravel                  0\n",
       "JobLevel                        0\n",
       "MaritalStatus                   0\n",
       "TotalWorkExp                    0\n",
       "MonthlySalary                   0\n",
       "yof joining                     0\n",
       "YearsWithCurrManager            0\n",
       "DistanceFromHome                0\n",
       "NumCompaniesWorked           4235\n",
       "Gender                          0\n",
       "TrainingTimesLastYear           0\n",
       "Department                      0\n",
       "EnvironmentSatisfaction1     9328\n",
       "EnvironmentSatisfaction2    14636\n",
       "JobSatisfaction1             9314\n",
       "JobSatisfaction2            14731\n",
       "JobInvolvement1              9361\n",
       "JobInvolvement2             14712\n",
       "PerformanceRating1           9298\n",
       "PerformanceRating2          14644\n",
       "dtype: int64"
      ]
     },
     "execution_count": 8,
     "metadata": {},
     "output_type": "execute_result"
    }
   ],
   "source": [
    "data.isna().sum()"
   ]
  },
  {
   "cell_type": "code",
   "execution_count": 9,
   "metadata": {
    "scrolled": true
   },
   "outputs": [
    {
     "name": "stdout",
     "output_type": "stream",
     "text": [
      "\n",
      "\n",
      "----------------------- College_Tier --------------------------------\n",
      "Tier-3    66.501018\n",
      "Tier-2    17.023779\n",
      "Tier-1    13.461263\n",
      "Name: College_Tier, dtype: float64\n",
      "\n",
      "\n",
      "----------------------- YearsSinceLastPromotion --------------------------------\n",
      "0.0    34.222528\n",
      "1.0    26.512348\n",
      "2.0     8.403608\n",
      "3.0     3.807045\n",
      "4.0     3.605542\n",
      "7.0     2.540659\n",
      "6.0     1.784844\n",
      "5.0     1.715286\n",
      "8.0     0.631042\n",
      "Name: YearsSinceLastPromotion, dtype: float64\n",
      "\n",
      "\n",
      "----------------------- NumCompaniesWorked --------------------------------\n",
      "1.0     48.099705\n",
      "2.0     12.866076\n",
      "3.0      8.662479\n",
      "4.0      6.956516\n",
      "5.0      6.045808\n",
      "6.0      4.232998\n",
      "7.0      3.751829\n",
      "8.0      3.394716\n",
      "9.0      1.891690\n",
      "10.0     1.061297\n",
      "Name: NumCompaniesWorked, dtype: float64\n",
      "\n",
      "\n",
      "----------------------- EnvironmentSatisfaction1 --------------------------------\n",
      "3.0    29.176347\n",
      "4.0    29.038666\n",
      "2.0    26.472908\n",
      "1.0     8.623039\n",
      "Name: EnvironmentSatisfaction1, dtype: float64\n",
      "\n",
      "\n",
      "----------------------- EnvironmentSatisfaction2 --------------------------------\n",
      "4.0    29.020021\n",
      "3.0    28.749677\n",
      "2.0    26.132289\n",
      "1.0     5.602645\n",
      "Name: EnvironmentSatisfaction2, dtype: float64\n",
      "\n",
      "\n",
      "----------------------- JobSatisfaction1 --------------------------------\n",
      "3.0    29.762929\n",
      "4.0    29.527723\n",
      "2.0    26.744686\n",
      "1.0     7.285661\n",
      "Name: JobSatisfaction1, dtype: float64\n",
      "\n",
      "\n",
      "----------------------- JobSatisfaction2 --------------------------------\n",
      "3.0    28.872300\n",
      "4.0    28.644265\n",
      "2.0    26.100020\n",
      "1.0     5.819924\n",
      "Name: JobSatisfaction2, dtype: float64\n",
      "\n",
      "\n",
      "----------------------- JobInvolvement1 --------------------------------\n",
      "3.0    30.442733\n",
      "4.0    30.203224\n",
      "2.0    24.482976\n",
      "1.0     8.158363\n",
      "Name: JobInvolvement1, dtype: float64\n",
      "\n",
      "\n",
      "----------------------- JobInvolvement2 --------------------------------\n",
      "4.0    30.021800\n",
      "3.0    29.736397\n",
      "2.0    23.783094\n",
      "1.0     5.908843\n",
      "Name: JobInvolvement2, dtype: float64\n",
      "\n",
      "\n",
      "----------------------- PerformanceRating1 --------------------------------\n",
      "3.0    41.394889\n",
      "4.0    41.305252\n",
      "2.0    10.632332\n",
      "Name: PerformanceRating1, dtype: float64\n",
      "\n",
      "\n",
      "----------------------- PerformanceRating2 --------------------------------\n",
      "4.0    39.976479\n",
      "3.0    39.957118\n",
      "2.0     9.565298\n",
      "Name: PerformanceRating2, dtype: float64\n"
     ]
    }
   ],
   "source": [
    "for i in data[['College_Tier', 'YearsSinceLastPromotion','NumCompaniesWorked','EnvironmentSatisfaction1','EnvironmentSatisfaction2', 'JobSatisfaction1', \n",
    "                'JobSatisfaction2','JobInvolvement1', 'JobInvolvement2', 'PerformanceRating1','PerformanceRating2']]:\n",
    "    print('\\n\\n-----------------------',i,'--------------------------------')\n",
    "    print(data[i].value_counts()/data.shape[0]*100)\n"
   ]
  },
  {
   "cell_type": "raw",
   "metadata": {},
   "source": [
    "#### imputing the categorical features with the median values"
   ]
  },
  {
   "cell_type": "code",
   "execution_count": null,
   "metadata": {},
   "outputs": [],
   "source": []
  },
  {
   "cell_type": "code",
   "execution_count": 10,
   "metadata": {},
   "outputs": [],
   "source": [
    "for i in data[['College_Tier', 'YearsSinceLastPromotion','NumCompaniesWorked','EnvironmentSatisfaction1',\n",
    "                'EnvironmentSatisfaction2', 'JobSatisfaction1','JobSatisfaction2','JobInvolvement1', 'JobInvolvement2', \n",
    "                'PerformanceRating1','PerformanceRating2']]:\n",
    "    data[i]=data[i].fillna(data[i].mode()[0])"
   ]
  },
  {
   "cell_type": "code",
   "execution_count": 11,
   "metadata": {},
   "outputs": [
    {
     "data": {
      "text/plain": [
       "ID                          0\n",
       "Age                         0\n",
       "Recently_upskilled          0\n",
       "Region                      0\n",
       "RemoteWork                  0\n",
       "PercentSalaryIncrement      0\n",
       "OfficeHours                 0\n",
       "StockOptionLevel            0\n",
       "College_Tier                0\n",
       "YearsSinceLastPromotion     0\n",
       "HighestEducation            0\n",
       "BusinessTravel              0\n",
       "JobLevel                    0\n",
       "MaritalStatus               0\n",
       "TotalWorkExp                0\n",
       "MonthlySalary               0\n",
       "yof joining                 0\n",
       "YearsWithCurrManager        0\n",
       "DistanceFromHome            0\n",
       "NumCompaniesWorked          0\n",
       "Gender                      0\n",
       "TrainingTimesLastYear       0\n",
       "Department                  0\n",
       "EnvironmentSatisfaction1    0\n",
       "EnvironmentSatisfaction2    0\n",
       "JobSatisfaction1            0\n",
       "JobSatisfaction2            0\n",
       "JobInvolvement1             0\n",
       "JobInvolvement2             0\n",
       "PerformanceRating1          0\n",
       "PerformanceRating2          0\n",
       "dtype: int64"
      ]
     },
     "execution_count": 11,
     "metadata": {},
     "output_type": "execute_result"
    }
   ],
   "source": [
    "data.isna().sum()"
   ]
  },
  {
   "cell_type": "code",
   "execution_count": 12,
   "metadata": {},
   "outputs": [],
   "source": [
    "data['yof joining']=2021-data['yof joining']"
   ]
  },
  {
   "cell_type": "code",
   "execution_count": null,
   "metadata": {},
   "outputs": [],
   "source": []
  },
  {
   "cell_type": "code",
   "execution_count": 13,
   "metadata": {},
   "outputs": [
    {
     "data": {
      "text/plain": [
       "(0.4369710510382229, -0.16383965892830263, 0.04611620165686106)"
      ]
     },
     "execution_count": 13,
     "metadata": {},
     "output_type": "execute_result"
    }
   ],
   "source": [
    "data['Age'].skew(),np.log(data['Age']).skew(),np.cbrt(data['Age']).skew()"
   ]
  },
  {
   "cell_type": "code",
   "execution_count": 14,
   "metadata": {},
   "outputs": [],
   "source": [
    "data['Age']=np.cbrt(data['Age'])"
   ]
  },
  {
   "cell_type": "code",
   "execution_count": null,
   "metadata": {},
   "outputs": [],
   "source": []
  },
  {
   "cell_type": "code",
   "execution_count": 15,
   "metadata": {},
   "outputs": [
    {
     "data": {
      "text/plain": [
       "(0.7310618347257587, 0.30771366993446053, 0.4473331571480895)"
      ]
     },
     "execution_count": 15,
     "metadata": {},
     "output_type": "execute_result"
    }
   ],
   "source": [
    "data['PercentSalaryIncrement'].skew(),np.log(data['PercentSalaryIncrement']).skew(),np.cbrt(data['PercentSalaryIncrement']).skew()"
   ]
  },
  {
   "cell_type": "code",
   "execution_count": 16,
   "metadata": {},
   "outputs": [],
   "source": [
    "data['PercentSalaryIncrement']=np.log(data['PercentSalaryIncrement'])"
   ]
  },
  {
   "cell_type": "code",
   "execution_count": null,
   "metadata": {},
   "outputs": [],
   "source": []
  },
  {
   "cell_type": "code",
   "execution_count": 17,
   "metadata": {},
   "outputs": [
    {
     "data": {
      "text/plain": [
       "(1.1863522689364794, 0.1465600223210278, -0.6489561647882522)"
      ]
     },
     "execution_count": 17,
     "metadata": {},
     "output_type": "execute_result"
    }
   ],
   "source": [
    "data['TotalWorkExp'].skew(),np.sqrt(data['TotalWorkExp']).skew(),np.cbrt(data['TotalWorkExp']).skew()"
   ]
  },
  {
   "cell_type": "code",
   "execution_count": 18,
   "metadata": {},
   "outputs": [],
   "source": [
    "data['TotalWorkExp']=np.sqrt(data['TotalWorkExp'])"
   ]
  },
  {
   "cell_type": "code",
   "execution_count": null,
   "metadata": {},
   "outputs": [],
   "source": []
  },
  {
   "cell_type": "code",
   "execution_count": 19,
   "metadata": {},
   "outputs": [
    {
     "data": {
      "text/plain": [
       "(1.0646719425141782, -0.03268009795874545, -0.5508313080150533)"
      ]
     },
     "execution_count": 19,
     "metadata": {},
     "output_type": "execute_result"
    }
   ],
   "source": [
    "data['YearsWithCurrManager'].skew(),np.sqrt(data['YearsWithCurrManager']).skew(),np.cbrt(data['YearsWithCurrManager']).skew()"
   ]
  },
  {
   "cell_type": "code",
   "execution_count": 20,
   "metadata": {},
   "outputs": [],
   "source": [
    "data['YearsWithCurrManager']=np.sqrt(data['YearsWithCurrManager'])"
   ]
  },
  {
   "cell_type": "code",
   "execution_count": null,
   "metadata": {},
   "outputs": [],
   "source": []
  },
  {
   "cell_type": "code",
   "execution_count": 21,
   "metadata": {},
   "outputs": [
    {
     "data": {
      "text/plain": [
       "(1.397656935390218, 0.2906969058846043, 0.6901120767280163)"
      ]
     },
     "execution_count": 21,
     "metadata": {},
     "output_type": "execute_result"
    }
   ],
   "source": [
    "data['MonthlySalary'].skew(),np.log(data['MonthlySalary']).skew(),np.cbrt(data['MonthlySalary']).skew()"
   ]
  },
  {
   "cell_type": "code",
   "execution_count": 22,
   "metadata": {},
   "outputs": [],
   "source": [
    "data['MonthlySalary']=np.log(data['MonthlySalary'])"
   ]
  },
  {
   "cell_type": "code",
   "execution_count": null,
   "metadata": {},
   "outputs": [],
   "source": []
  },
  {
   "cell_type": "code",
   "execution_count": 23,
   "metadata": {},
   "outputs": [
    {
     "data": {
      "text/plain": [
       "(2.0092236811150084, 0.2675441086884925, 0.7828637715849969)"
      ]
     },
     "execution_count": 23,
     "metadata": {},
     "output_type": "execute_result"
    }
   ],
   "source": [
    "data['yof joining'].skew(),np.log(data['yof joining']).skew(),np.cbrt(data['yof joining']).skew()"
   ]
  },
  {
   "cell_type": "code",
   "execution_count": 24,
   "metadata": {},
   "outputs": [],
   "source": [
    "data['yof joining']=np.log(data['yof joining'])"
   ]
  },
  {
   "cell_type": "code",
   "execution_count": null,
   "metadata": {},
   "outputs": [],
   "source": []
  },
  {
   "cell_type": "code",
   "execution_count": 25,
   "metadata": {},
   "outputs": [
    {
     "data": {
      "text/plain": [
       "(0.9989211990316168, -0.28626230162214356, 0.17107830330611942)"
      ]
     },
     "execution_count": 25,
     "metadata": {},
     "output_type": "execute_result"
    }
   ],
   "source": [
    "data['DistanceFromHome'].skew(),np.log(data['DistanceFromHome']).skew(),np.cbrt(data['DistanceFromHome']).skew()"
   ]
  },
  {
   "cell_type": "code",
   "execution_count": 26,
   "metadata": {},
   "outputs": [],
   "source": [
    "data['DistanceFromHome']=np.cbrt(data['DistanceFromHome'])"
   ]
  },
  {
   "cell_type": "code",
   "execution_count": null,
   "metadata": {},
   "outputs": [],
   "source": []
  },
  {
   "cell_type": "code",
   "execution_count": 27,
   "metadata": {},
   "outputs": [],
   "source": [
    "\n",
    "data[['Recently_upskilled', 'RemoteWork', 'OfficeHours', 'StockOptionLevel','YearsSinceLastPromotion', 'JobLevel',\n",
    "      'NumCompaniesWorked', 'Gender','TrainingTimesLastYear','EnvironmentSatisfaction1','EnvironmentSatisfaction2', \n",
    "      'JobSatisfaction1', 'JobSatisfaction2','JobInvolvement1', \n",
    "      'JobInvolvement2', 'PerformanceRating1','PerformanceRating2']]=data[['Recently_upskilled', 'RemoteWork', 'OfficeHours', 'StockOptionLevel','YearsSinceLastPromotion', 'JobLevel',\n",
    "      'NumCompaniesWorked', 'Gender','TrainingTimesLastYear','EnvironmentSatisfaction1','EnvironmentSatisfaction2', \n",
    "      'JobSatisfaction1', 'JobSatisfaction2','JobInvolvement1', \n",
    "      'JobInvolvement2', 'PerformanceRating1','PerformanceRating2']].astype('object')\n"
   ]
  },
  {
   "cell_type": "code",
   "execution_count": 28,
   "metadata": {},
   "outputs": [],
   "source": [
    "cat=data.drop(['ID','Age','yof joining',\n",
    "               'YearsWithCurrManager','MonthlySalary','DistanceFromHome','PercentSalaryIncrement','TotalWorkExp'],axis=1)\n",
    "cat_d=pd.get_dummies(cat,drop_first=True)"
   ]
  },
  {
   "cell_type": "code",
   "execution_count": 29,
   "metadata": {},
   "outputs": [],
   "source": [
    "num=data[['Age','yof joining','YearsWithCurrManager','MonthlySalary','DistanceFromHome','PercentSalaryIncrement',\n",
    "         'TotalWorkExp']]\n",
    "num_sc=pd.DataFrame(ms.fit_transform(num),columns=num.columns)"
   ]
  },
  {
   "cell_type": "code",
   "execution_count": 30,
   "metadata": {},
   "outputs": [
    {
     "data": {
      "text/plain": [
       "((139452, 85), (139452, 23), (139452, 77), (139452, 7), (139452, 7))"
      ]
     },
     "execution_count": 30,
     "metadata": {},
     "output_type": "execute_result"
    }
   ],
   "source": [
    "new=pd.concat([cat_d,num_sc],axis=1)\n",
    "new['ID']=data['ID']\n",
    "new.shape,cat.shape,cat_d.shape,num.shape,num_sc.shape"
   ]
  },
  {
   "cell_type": "code",
   "execution_count": 31,
   "metadata": {},
   "outputs": [
    {
     "data": {
      "text/plain": [
       "(97616, 32)"
      ]
     },
     "execution_count": 31,
     "metadata": {},
     "output_type": "execute_result"
    }
   ],
   "source": [
    "train.shape"
   ]
  },
  {
   "cell_type": "code",
   "execution_count": 32,
   "metadata": {},
   "outputs": [],
   "source": [
    "new_train=new.iloc[:97616]\n",
    "new_test=new[97616:]"
   ]
  },
  {
   "cell_type": "code",
   "execution_count": 33,
   "metadata": {},
   "outputs": [],
   "source": [
    "y=train['Employeeturnover']\n",
    "X=new_train.drop('ID',axis=1)\n",
    "X_train, X_test, y_train, y_test = train_test_split(X, y, test_size=0.1, random_state=42,stratify=y)"
   ]
  },
  {
   "cell_type": "code",
   "execution_count": null,
   "metadata": {},
   "outputs": [],
   "source": []
  },
  {
   "cell_type": "code",
   "execution_count": 34,
   "metadata": {},
   "outputs": [
    {
     "data": {
      "text/plain": [
       "DecisionTreeClassifier()"
      ]
     },
     "execution_count": 34,
     "metadata": {},
     "output_type": "execute_result"
    }
   ],
   "source": [
    "DT=DecisionTreeClassifier()\n",
    "DT.fit(X_train,y_train)"
   ]
  },
  {
   "cell_type": "code",
   "execution_count": 35,
   "metadata": {},
   "outputs": [
    {
     "name": "stdout",
     "output_type": "stream",
     "text": [
      "              precision    recall  f1-score   support\n",
      "\n",
      "           0       0.93      0.92      0.93      7830\n",
      "           1       0.70      0.72      0.71      1932\n",
      "\n",
      "    accuracy                           0.88      9762\n",
      "   macro avg       0.81      0.82      0.82      9762\n",
      "weighted avg       0.88      0.88      0.88      9762\n",
      "\n"
     ]
    },
    {
     "data": {
      "text/plain": [
       "array([[7225,  605],\n",
       "       [ 538, 1394]], dtype=int64)"
      ]
     },
     "execution_count": 35,
     "metadata": {},
     "output_type": "execute_result"
    }
   ],
   "source": [
    "pred_test=DT.predict(X_test)\n",
    "print(metrics.classification_report(y_test,pred_test))\n",
    "\n",
    "metrics.confusion_matrix(y_test,pred_test)"
   ]
  },
  {
   "cell_type": "code",
   "execution_count": 36,
   "metadata": {},
   "outputs": [
    {
     "data": {
      "text/plain": [
       "array([0.8809971 , 0.8776962 , 0.87923283, 0.87695635, 0.87979511])"
      ]
     },
     "execution_count": 36,
     "metadata": {},
     "output_type": "execute_result"
    }
   ],
   "source": [
    "cvs=cross_val_score(estimator=DT,X=X_train,y=y_train,cv=5,error_score='raise')\n",
    "cvs"
   ]
  },
  {
   "cell_type": "code",
   "execution_count": null,
   "metadata": {},
   "outputs": [],
   "source": []
  },
  {
   "cell_type": "code",
   "execution_count": 37,
   "metadata": {},
   "outputs": [],
   "source": [
    "from xgboost import XGBClassifier"
   ]
  },
  {
   "cell_type": "code",
   "execution_count": 38,
   "metadata": {},
   "outputs": [
    {
     "name": "stdout",
     "output_type": "stream",
     "text": [
      "[14:08:17] WARNING: C:/Users/Administrator/workspace/xgboost-win64_release_1.3.0/src/learner.cc:1061: Starting in XGBoost 1.3.0, the default evaluation metric used with the objective 'binary:logistic' was changed from 'error' to 'logloss'. Explicitly set eval_metric if you'd like to restore the old behavior.\n"
     ]
    },
    {
     "data": {
      "text/plain": [
       "XGBClassifier(base_score=0.5, booster='gbtree', colsample_bylevel=1,\n",
       "              colsample_bynode=1, colsample_bytree=1, gamma=0, gpu_id=-1,\n",
       "              importance_type='gain', interaction_constraints='',\n",
       "              learning_rate=0.300000012, max_delta_step=0, max_depth=6,\n",
       "              min_child_weight=1, missing=nan, monotone_constraints='()',\n",
       "              n_estimators=100, n_jobs=4, num_parallel_tree=1, random_state=0,\n",
       "              reg_alpha=0, reg_lambda=1, scale_pos_weight=1, subsample=1,\n",
       "              tree_method='exact', use_label_encoder=False,\n",
       "              validate_parameters=1, verbosity=None)"
      ]
     },
     "execution_count": 38,
     "metadata": {},
     "output_type": "execute_result"
    }
   ],
   "source": [
    "XGB=XGBClassifier(use_label_encoder=False)\n",
    "XGB.fit(X_train,y_train)"
   ]
  },
  {
   "cell_type": "code",
   "execution_count": 39,
   "metadata": {},
   "outputs": [
    {
     "name": "stdout",
     "output_type": "stream",
     "text": [
      "              precision    recall  f1-score   support\n",
      "\n",
      "           0       0.95      0.96      0.96      7830\n",
      "           1       0.84      0.78      0.81      1932\n",
      "\n",
      "    accuracy                           0.93      9762\n",
      "   macro avg       0.90      0.87      0.88      9762\n",
      "weighted avg       0.93      0.93      0.93      9762\n",
      "\n"
     ]
    },
    {
     "data": {
      "text/plain": [
       "array([[7550,  280],\n",
       "       [ 418, 1514]], dtype=int64)"
      ]
     },
     "execution_count": 39,
     "metadata": {},
     "output_type": "execute_result"
    }
   ],
   "source": [
    "pred_test=XGB.predict(X_test)\n",
    "print(metrics.classification_report(y_test,pred_test))\n",
    "metrics.confusion_matrix(y_test,pred_test)"
   ]
  },
  {
   "cell_type": "code",
   "execution_count": null,
   "metadata": {},
   "outputs": [],
   "source": []
  },
  {
   "cell_type": "markdown",
   "metadata": {},
   "source": [
    "# ------------------------------------------------------------------------------------------"
   ]
  },
  {
   "cell_type": "code",
   "execution_count": 40,
   "metadata": {},
   "outputs": [],
   "source": [
    "s_X=new_test.drop('ID',axis=1)"
   ]
  },
  {
   "cell_type": "code",
   "execution_count": 41,
   "metadata": {},
   "outputs": [],
   "source": [
    "sub=new_test[['ID']].copy(deep=True)\n",
    "sub['Employeeturnover']=XGB.predict(s_X)"
   ]
  },
  {
   "cell_type": "code",
   "execution_count": null,
   "metadata": {},
   "outputs": [],
   "source": []
  },
  {
   "cell_type": "code",
   "execution_count": 42,
   "metadata": {},
   "outputs": [],
   "source": [
    "sub.set_index('ID').to_csv('Submissionfile.csv')"
   ]
  },
  {
   "cell_type": "code",
   "execution_count": null,
   "metadata": {},
   "outputs": [],
   "source": []
  },
  {
   "cell_type": "code",
   "execution_count": 43,
   "metadata": {},
   "outputs": [
    {
     "data": {
      "text/plain": [
       "0    34112\n",
       "1     7724\n",
       "Name: Employeeturnover, dtype: int64"
      ]
     },
     "execution_count": 43,
     "metadata": {},
     "output_type": "execute_result"
    }
   ],
   "source": [
    "sub['Employeeturnover'].value_counts()#XGB"
   ]
  },
  {
   "cell_type": "code",
   "execution_count": 44,
   "metadata": {},
   "outputs": [
    {
     "data": {
      "text/plain": [
       "0    34112\n",
       "1     7724\n",
       "Name: Employeeturnover, dtype: int64"
      ]
     },
     "execution_count": 44,
     "metadata": {},
     "output_type": "execute_result"
    }
   ],
   "source": [
    "sub['Employeeturnover'].value_counts()#DT"
   ]
  },
  {
   "cell_type": "code",
   "execution_count": null,
   "metadata": {},
   "outputs": [],
   "source": []
  },
  {
   "cell_type": "code",
   "execution_count": null,
   "metadata": {},
   "outputs": [],
   "source": []
  },
  {
   "cell_type": "code",
   "execution_count": null,
   "metadata": {},
   "outputs": [],
   "source": []
  },
  {
   "cell_type": "code",
   "execution_count": null,
   "metadata": {},
   "outputs": [],
   "source": []
  },
  {
   "cell_type": "raw",
   "metadata": {},
   "source": [
    "['Recently_upskilled', 'Region', 'RemoteWork','PercentSalaryIncrement', 'OfficeHours', 'StockOptionLevel',\n",
    "       'College_Tier', 'YearsSinceLastPromotion', 'HighestEducation',\n",
    "       'BusinessTravel', 'JobLevel', 'MaritalStatus','YearsWithCurrManager','NumCompaniesWorked', 'Gender',\n",
    "       'TrainingTimesLastYear', 'Department','EnvironmentSatisfaction1',\n",
    "       'EnvironmentSatisfaction2', 'JobSatisfaction1', 'JobSatisfaction2',\n",
    "       'JobInvolvement1', 'JobInvolvement2', 'PerformanceRating1',\n",
    "       'PerformanceRating2', 'Employeeturnover']]=train[['Recently_upskilled', 'Region', 'RemoteWork','PercentSalaryIncrement', 'OfficeHours', 'StockOptionLevel',\n",
    "       'College_Tier', 'YearsSinceLastPromotion', 'HighestEducation',\n",
    "       'BusinessTravel', 'JobLevel', 'MaritalStatus','YearsWithCurrManager','NumCompaniesWorked', 'Gender',\n",
    "       'TrainingTimesLastYear', 'Department','EnvironmentSatisfaction1',\n",
    "       'EnvironmentSatisfaction2', 'JobSatisfaction1', 'JobSatisfaction2',\n",
    "       'JobInvolvement1', 'JobInvolvement2', 'PerformanceRating1',\n",
    "       'PerformanceRating2', 'Employeeturnover']"
   ]
  }
 ],
 "metadata": {
  "kernelspec": {
   "display_name": "Python 3",
   "language": "python",
   "name": "python3"
  },
  "language_info": {
   "codemirror_mode": {
    "name": "ipython",
    "version": 3
   },
   "file_extension": ".py",
   "mimetype": "text/x-python",
   "name": "python",
   "nbconvert_exporter": "python",
   "pygments_lexer": "ipython3",
   "version": "3.8.3"
  }
 },
 "nbformat": 4,
 "nbformat_minor": 4
}
